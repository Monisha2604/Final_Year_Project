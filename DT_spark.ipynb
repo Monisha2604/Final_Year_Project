{
  "nbformat": 4,
  "nbformat_minor": 0,
  "metadata": {
    "colab": {
      "name": "DT_spark.ipynb",
      "provenance": [],
      "collapsed_sections": [],
      "include_colab_link": true
    },
    "kernelspec": {
      "name": "python3",
      "display_name": "Python 3"
    },
    "language_info": {
      "name": "python"
    }
  },
  "cells": [
    {
      "cell_type": "markdown",
      "metadata": {
        "id": "view-in-github",
        "colab_type": "text"
      },
      "source": [
        "<a href=\"https://colab.research.google.com/github/Monisha2604/Javascript/blob/master/DT_spark.ipynb\" target=\"_parent\"><img src=\"https://colab.research.google.com/assets/colab-badge.svg\" alt=\"Open In Colab\"/></a>"
      ]
    },
    {
      "cell_type": "code",
      "metadata": {
        "id": "GoLxacuee3IF"
      },
      "source": [
        "!apt-get install openjdk-8-jdk-headless -qq > /dev/null\n",
        "!wget -q https://www-us.apache.org/dist/spark/spark-3.0.2/spark-3.0.2-bin-hadoop2.7.tgz\n",
        "!tar xf spark-3.0.2-bin-hadoop2.7.tgz\n",
        "!pip install -q findspark"
      ],
      "execution_count": null,
      "outputs": []
    },
    {
      "cell_type": "code",
      "metadata": {
        "id": "yTKuqlR7e8kG"
      },
      "source": [
        "import os\n",
        "os.environ[\"JAVA_HOME\"] = \"/usr/lib/jvm/java-8-openjdk-amd64\"\n",
        "os.environ[\"SPARK_HOME\"] = \"/content/spark-3.0.2-bin-hadoop2.7\""
      ],
      "execution_count": null,
      "outputs": []
    },
    {
      "cell_type": "code",
      "metadata": {
        "id": "4Qvj5pmzfDO2"
      },
      "source": [
        "import findspark\n",
        "findspark.init()"
      ],
      "execution_count": null,
      "outputs": []
    },
    {
      "cell_type": "code",
      "metadata": {
        "id": "cntxKNg7fLZU"
      },
      "source": [
        "\n",
        "from pyspark.sql import SparkSession\n",
        "spark= SparkSession.builder.appName('Customers').getOrCreate()"
      ],
      "execution_count": null,
      "outputs": []
    },
    {
      "cell_type": "code",
      "metadata": {
        "colab": {
          "base_uri": "https://localhost:8080/"
        },
        "id": "Tg94VLAnfMVf",
        "outputId": "3d001a9a-6239-471e-b1fb-141a7a39ee91"
      },
      "source": [
        "from google.colab import drive\n",
        "drive.mount('/content/drive')"
      ],
      "execution_count": null,
      "outputs": [
        {
          "output_type": "stream",
          "text": [
            "Mounted at /content/drive\n"
          ],
          "name": "stdout"
        }
      ]
    },
    {
      "cell_type": "code",
      "metadata": {
        "id": "eIpnLTBkhD9d"
      },
      "source": [
        ""
      ],
      "execution_count": null,
      "outputs": []
    },
    {
      "cell_type": "code",
      "metadata": {
        "colab": {
          "base_uri": "https://localhost:8080/"
        },
        "id": "VKvxixGOfXgp",
        "outputId": "cc162f5b-4776-4afe-daef-6ef437517488"
      },
      "source": [
        "import pandas as pd\n",
        "df=pd.read_csv(\"/content/drive/MyDrive/Copy of Final_project_processed_data.csv\")\n",
        "data=spark.read.csv(\"/content/drive/MyDrive/Copy of Final_project_processed_data.csv\",inferSchema=True,header=True)\n",
        "data.show()"
      ],
      "execution_count": null,
      "outputs": [
        {
          "output_type": "stream",
          "text": [
            "+---+------------------+------------------+------------------+------------------+------------------+------------------+------------------+------------------+------------------+------------------+------------------+------------------+------------------+------------------+------------------+------------------+------------------+------------------+------------------+------------------+------------------+------------------+-------------------+\n",
            "|_c0|          psfMag_u|          psfMag_g|          psfMag_r|          psfMag_i|          psfMag_z|           dered_u|           dered_g|           dered_r|           dered_i|           dered_z|        fiberMag_u|        fiberMag_g|        fiberMag_r|        fiberMag_i|        fiberMag_z|        petroR50_r|        petroR50_z|        petroR90_r|        petroR90_z|                 r|                 i|                 z|           redshift|\n",
            "+---+------------------+------------------+------------------+------------------+------------------+------------------+------------------+------------------+------------------+------------------+------------------+------------------+------------------+------------------+------------------+------------------+------------------+------------------+------------------+------------------+------------------+------------------+-------------------+\n",
            "|  0|          24.35021|          22.78955|          22.03197|21.071720000000003|21.222839999999998|          24.85709|          21.12559|          20.30777|           19.2567|          19.64961|          23.45947|          22.21595|21.799429999999997|          20.82268|          20.63929|          3.463256|          1.221438|          5.318553|          3.343638|          20.38345|          19.31294|          19.69144| 0.8162744000000001|\n",
            "|  1|          24.47392|          22.43417|          20.73903|          19.74737|          19.26174|           24.2802|          21.56639|          19.91743|          18.95574|          18.52003|          23.65456|           22.5849|          20.85625|19.906010000000002|          19.45691|1.7828490000000001|          1.586178|           6.19271|          4.988663|          19.99389|          19.01255|           18.5623|          0.5564747|\n",
            "|  2|          23.38084|          22.54274|21.593989999999998|          20.49164|           20.0267|22.317510000000002|          21.26557|          20.37567|19.422179999999997|          19.13447|          23.18704|22.337429999999998|          21.35546|          20.38862|          20.05538|1.3803450000000002|2.4460290000000002|2.7030279999999998|          4.893902|          20.47651|19.497120000000002|          19.19021|           0.619608|\n",
            "|  3|24.722579999999997|          22.71763|          20.91958|          20.06721|          19.74904|          24.47891|21.867070000000002|20.026020000000003|           19.1619|           18.8123|          25.56193|          22.43001|           20.7863|           20.0537|          19.60366|          1.569348|1.7924689999999999|          6.201793|          8.331386|          20.13745|           19.2447|          18.87388|          0.4611808|\n",
            "|  4|           25.2249|          24.46752|          21.76405|20.690070000000002|19.975920000000002|26.231279999999998|          23.61348|          20.46305|          19.37706|          18.63556|          25.20392|23.634320000000002|21.815739999999998|          20.69833|          19.95681|1.7627220000000001|          2.094598|          3.480688|          4.283308|          20.52637|           19.4241|18.670560000000002|          0.6421724|\n",
            "|  5|23.553539999999998|          22.45598|          20.99954|          20.09101|           19.5419|           22.7042|          21.62725|          20.20583|          19.39738|18.921670000000002|23.364279999999997|          22.46785|          21.04416|          20.21503|          19.71143|1.1513799999999998|         0.7017788|3.3795050000000004|          1.196405|            20.268|19.443579999999997|18.956039999999998|          0.5553204|\n",
            "|  6|          21.70427|          20.79232|          19.98709|          19.59036|          19.23104|           18.6573|          17.62015|          17.20031|16.940379999999998|          16.75367|           21.5369|          20.27036|          19.63993|           19.2544|          18.99801|          4.007807|3.5750309999999996|          9.122769| 9.300533999999999|           17.4657|           17.1376|          16.90036|         0.04402394|\n",
            "|  7|          21.58328|          20.38735|19.573320000000002|          18.99925|          18.57326|          19.54567|          18.20083|          17.61339|          17.23501|           17.0314|           21.4308|          20.02897|           19.2105|          18.72402|          18.42265|1.9034959999999999|          1.622004|          3.843295|          3.261534|          17.92848|17.469160000000002|17.205560000000002|         0.08781031|\n",
            "|  8|           21.1678|           19.4526|          18.46825|          17.98139|          17.57809|          19.93722|           18.2243|           17.3751|          16.98035|16.705389999999998|21.290210000000002|          19.48498|          18.47597|          18.00036|          17.67478|          1.153943|          1.118922|          3.401702|3.3023309999999997|           17.6805|           17.2073|           16.8742|         0.05917491|\n",
            "|  9|          21.17853|          19.17635|          18.03896|17.526020000000003|          17.01611|           19.4564|          17.30913|16.281679999999998|          15.85244|          15.49496|          21.26003|          19.07335|          17.90324|17.396160000000002|          16.97397|2.0499549999999997|            1.9838|          6.355478|           6.07556|16.584229999999998|          16.07726|          15.66218|0.10928620000000001|\n",
            "| 10|21.788829999999997|          20.17289|19.087979999999998|          18.56919|          18.10856|          18.99529|          17.49396|16.602320000000002|          16.24098|15.891370000000002|          21.85461|          20.04889|           18.9334|          18.46421|18.039270000000002|          3.756351|          2.486459|           9.47885| 5.353098999999999|          16.91265|          16.47159|           16.0629|         0.08782733|\n",
            "| 11|          20.89442|19.334039999999998|          18.49448|          18.06617|          17.68347|           19.7055|          18.02899|17.237820000000003|          16.79329|          16.45674|          21.05211|           19.3538|          18.51972|18.039479999999998|          17.68378|          1.996389|1.8647040000000001|          4.898281|          4.408826|          17.28813|16.830679999999997|          16.48455|         0.07788806|\n",
            "| 12|          21.04597|          20.34885|          19.93639|19.799570000000003|19.633670000000002|          17.95683|17.102829999999997|          16.84429|16.717779999999998|            16.687|          20.81333|          19.82058|          19.44227|19.252029999999998|          19.12497|3.9630730000000005|2.8546150000000003|          7.957783|          4.747912|          17.10257|          16.90971|          16.82976|         0.01660742|\n",
            "| 13|          20.38704|          19.16457|18.292170000000002|          17.84274|          17.48801|          17.49813|16.136570000000003|          15.48056|15.108189999999999|          14.83966|          20.43113|18.946479999999998|          18.06844|           17.6023|          17.22888|          4.866303|          4.477489|          9.355639|          8.716623|          15.74451|15.304329999999998|14.985560000000001|          0.0504769|\n",
            "| 14|          21.61665|          19.82155|            18.748|18.277820000000002|          17.91564|          20.12363|          18.14301|          17.19932|          16.78641|          16.45385|          21.86315|19.742929999999998|          18.68667|          18.21135|          17.82475|1.9871020000000001|          1.735654|          6.147456|          5.013532|          17.44821|          16.97135|          16.59142|          0.1077413|\n",
            "| 15|          23.30925|          22.15276|          20.29525|           19.5218|          19.04421|22.330389999999998|20.530160000000002|          18.72577|          18.00626|17.579620000000002|           23.6361|22.162020000000002|20.248279999999998|19.453570000000003|          18.97869|          2.067432|          1.456434|          5.587363|3.8688540000000002|           18.9745|           18.1911|          17.71711|          0.4031112|\n",
            "| 16|          21.49633|          19.37705|18.403760000000002|          17.98159|          17.53014|19.503120000000003|          17.37516|          16.49396|          16.11985|           15.8056|          21.42938|          19.26621|18.238329999999998|          17.79615|          17.41667|          2.200965|           2.19278|          6.514995|          6.452497|          16.80126|          16.34821|          15.97546|         0.09800664|\n",
            "| 17|22.238000000000003|20.135070000000002|          18.78731|          18.26305|          17.84711|          21.06491|           18.7877|          17.58297|          17.10366|            16.724|          22.24924|          20.07566|            18.764|18.197370000000003|           17.7667|1.2884120000000001|           1.11685|          3.623408|          3.512226|          17.87225|17.318620000000003|           16.8839|          0.1531249|\n",
            "| 18|          22.00384|          20.49115|           19.6092|19.251739999999998|           19.0458|          18.09337|          16.61526|          15.98688|15.693589999999999|          15.48375|          21.91412|          20.27685|          19.38179|18.961570000000002|          18.64882|          6.920745|          5.406353|12.342789999999999| 9.002994000000001|          16.27731|           15.9094|15.644279999999998|         0.06366909|\n",
            "| 19|          21.40737|          20.37486|          19.84155|          19.71085|          19.61652|          19.22499|           18.1385|          17.73387|          17.54859|          17.38435|          21.18713|19.960160000000002|          19.44691|          19.18525|          18.96943|          2.225943|          2.375711|          5.267819|          6.071639|            18.027|          17.76642|          17.54637|         0.02425634|\n",
            "+---+------------------+------------------+------------------+------------------+------------------+------------------+------------------+------------------+------------------+------------------+------------------+------------------+------------------+------------------+------------------+------------------+------------------+------------------+------------------+------------------+------------------+------------------+-------------------+\n",
            "only showing top 20 rows\n",
            "\n"
          ],
          "name": "stdout"
        }
      ]
    },
    {
      "cell_type": "code",
      "metadata": {
        "id": "dBOUXhjBwA6v"
      },
      "source": [
        "\n"
      ],
      "execution_count": null,
      "outputs": []
    },
    {
      "cell_type": "code",
      "metadata": {
        "id": "IB_J5Rx5vr9p"
      },
      "source": [
        "from sklearn.tree import DecisionTreeRegressor \n",
        "  \n",
        "# create a regressor object\n",
        "regressor = DecisionTreeRegressor(random_state = 0) \n",
        "  "
      ],
      "execution_count": null,
      "outputs": []
    },
    {
      "cell_type": "code",
      "metadata": {
        "id": "6-9ExTbhvujZ"
      },
      "source": [
        "x=df.iloc[:,:-1].values\n",
        "y=df.iloc[:,-1].values\n",
        "from sklearn.model_selection import train_test_split\n",
        "x_train,x_test,y_train,y_test=train_test_split(x,y,test_size=0.1,random_state=42)"
      ],
      "execution_count": null,
      "outputs": []
    },
    {
      "cell_type": "code",
      "metadata": {
        "colab": {
          "base_uri": "https://localhost:8080/"
        },
        "id": "wSIMqGUvw8eW",
        "outputId": "9a025d3f-5bdd-4037-a124-fdb700af2cbe"
      },
      "source": [
        "import timeit\n",
        "start_time = timeit.default_timer()\n",
        "regressor.fit(x_train, y_train)\n",
        "end_time = timeit.default_timer()\n",
        "\n",
        "execution_time = end_time - start_time\n",
        "print(f'run-time: {round(execution_time/60.0, 2)}')"
      ],
      "execution_count": null,
      "outputs": [
        {
          "output_type": "stream",
          "text": [
            "run-time: 3.32\n"
          ],
          "name": "stdout"
        }
      ]
    },
    {
      "cell_type": "code",
      "metadata": {
        "id": "K_LKFSfguCyo"
      },
      "source": [
        "y_pred = regressor.predict(x_test)"
      ],
      "execution_count": null,
      "outputs": []
    },
    {
      "cell_type": "code",
      "metadata": {
        "colab": {
          "base_uri": "https://localhost:8080/"
        },
        "id": "fEhdyB5uuocz",
        "outputId": "5cebc8c7-1c85-46e3-b9be-33bc025db349"
      },
      "source": [
        "from sklearn import metrics\n",
        "print(metrics.r2_score(y_test,y_pred))"
      ],
      "execution_count": null,
      "outputs": [
        {
          "output_type": "stream",
          "text": [
            "0.4370830959478943\n"
          ],
          "name": "stdout"
        }
      ]
    },
    {
      "cell_type": "code",
      "metadata": {
        "id": "ALwIYZPLfgPS"
      },
      "source": [
        "from pyspark.ml.linalg import Vectors\n",
        "from pyspark.ml.feature import VectorAssembler\n"
      ],
      "execution_count": null,
      "outputs": []
    },
    {
      "cell_type": "code",
      "metadata": {
        "id": "tnVaAFEk2sh6"
      },
      "source": [
        ""
      ],
      "execution_count": null,
      "outputs": []
    },
    {
      "cell_type": "code",
      "metadata": {
        "id": "mKDeuTOyv_ZJ"
      },
      "source": [
        ""
      ],
      "execution_count": null,
      "outputs": []
    },
    {
      "cell_type": "code",
      "metadata": {
        "id": "YuUrCc8uhokx"
      },
      "source": [
        "from pyspark.ml.regression import DecisionTreeRegressor"
      ],
      "execution_count": null,
      "outputs": []
    },
    {
      "cell_type": "code",
      "metadata": {
        "id": "FSrkIjNFhvP4"
      },
      "source": [
        "from pyspark.sql import Row\n",
        "from pyspark.ml.linalg import Vectors\n",
        "def transData(data):\n",
        "    return data.rdd.map(lambda r: [Vectors.dense(r[:-1]),r[-1]]).toDF(['features','label'])"
      ],
      "execution_count": null,
      "outputs": []
    },
    {
      "cell_type": "code",
      "metadata": {
        "colab": {
          "base_uri": "https://localhost:8080/"
        },
        "id": "O0aMDGAlhyZY",
        "outputId": "b9ae7e8e-6f05-4e8d-a8bf-fe0afbd70c4a"
      },
      "source": [
        "transformed= transData(data)\n",
        "transformed.show(3)"
      ],
      "execution_count": null,
      "outputs": [
        {
          "output_type": "stream",
          "text": [
            "+--------------------+------------------+\n",
            "|            features|             label|\n",
            "+--------------------+------------------+\n",
            "|[0.0,24.35021,22....|0.8162744000000001|\n",
            "|[1.0,24.47392,22....|         0.5564747|\n",
            "|[2.0,23.38084,22....|          0.619608|\n",
            "+--------------------+------------------+\n",
            "only showing top 3 rows\n",
            "\n"
          ],
          "name": "stdout"
        }
      ]
    },
    {
      "cell_type": "code",
      "metadata": {
        "colab": {
          "base_uri": "https://localhost:8080/"
        },
        "id": "ydZiI12Vh1HY",
        "outputId": "bd90b003-bde4-4af9-9ca6-af8dbaba6c9e"
      },
      "source": [
        "from pyspark.ml import Pipeline\n",
        "from pyspark.ml.feature import VectorIndexer\n",
        "\n",
        "featureIndexer = VectorIndexer(inputCol=\"features\", \\\n",
        "                               outputCol=\"indexedFeatures\").fit(transformed)\n",
        "\n",
        "data = featureIndexer.transform(transformed)\n",
        "data.show(5,True)\n"
      ],
      "execution_count": null,
      "outputs": [
        {
          "output_type": "stream",
          "text": [
            "+--------------------+------------------+--------------------+\n",
            "|            features|             label|     indexedFeatures|\n",
            "+--------------------+------------------+--------------------+\n",
            "|[0.0,24.35021,22....|0.8162744000000001|[0.0,24.35021,22....|\n",
            "|[1.0,24.47392,22....|         0.5564747|[1.0,24.47392,22....|\n",
            "|[2.0,23.38084,22....|          0.619608|[2.0,23.38084,22....|\n",
            "|[3.0,24.722579999...|         0.4611808|[3.0,24.722579999...|\n",
            "|[4.0,25.2249,24.4...|         0.6421724|[4.0,25.2249,24.4...|\n",
            "+--------------------+------------------+--------------------+\n",
            "only showing top 5 rows\n",
            "\n"
          ],
          "name": "stdout"
        }
      ]
    },
    {
      "cell_type": "code",
      "metadata": {
        "id": "3mm3EGrLh-SY"
      },
      "source": [
        "(trainingData, testData) = data.randomSplit([0.8, 0.2])"
      ],
      "execution_count": null,
      "outputs": []
    },
    {
      "cell_type": "code",
      "metadata": {
        "id": "gi95-hVMixlA"
      },
      "source": [
        "dt = DecisionTreeRegressor(featuresCol=\"indexedFeatures\",maxDepth=30)\n",
        "\n",
        "# Chain indexer and tree in a Pipeline\n",
        "pipeline = Pipeline(stages=[featureIndexer, dt])\n"
      ],
      "execution_count": null,
      "outputs": []
    },
    {
      "cell_type": "code",
      "metadata": {
        "id": "wlCSdaW0i16w"
      },
      "source": [
        "import time\n",
        "start_time = time.process_time()\n",
        "model = pipeline.fit(trainingData)\n",
        "end_time = time.process_time()\n",
        "\n",
        "delta_time = end_time - start_time\n",
        "print(f'run-time: {round(delta_time/60.0, 2)}')\n"
      ],
      "execution_count": null,
      "outputs": []
    },
    {
      "cell_type": "code",
      "metadata": {
        "id": "_7eQxcWDyvOC"
      },
      "source": [
        "import timeit\n",
        "\n",
        "start=timeit.default_timer()\n",
        "\n",
        "model = pipeline.fit(trainingData)\n",
        "\n",
        "stop=timeit.default_timer()\n",
        "execution_time = (stop - start)/60\n",
        "print(\"Program Executed in minutes \"+str(execution_time))"
      ],
      "execution_count": null,
      "outputs": []
    },
    {
      "cell_type": "code",
      "metadata": {
        "id": "3KtB0p710TLX"
      },
      "source": [
        "pred = model.transform(testData)"
      ],
      "execution_count": null,
      "outputs": []
    },
    {
      "cell_type": "code",
      "metadata": {
        "id": "v-qomFPEpWFA"
      },
      "source": [
        "from pyspark.ml.evaluation import RegressionEvaluator"
      ],
      "execution_count": null,
      "outputs": []
    },
    {
      "cell_type": "code",
      "metadata": {
        "id": "-jbVHy3bjHaY",
        "colab": {
          "base_uri": "https://localhost:8080/"
        },
        "outputId": "042ed928-cf20-4936-8158-748620c2b5d5"
      },
      "source": [
        "evaluator = RegressionEvaluator(labelCol=\"label\", predictionCol=\"prediction\", metricName=\"rmse\")\n",
        "rmse = evaluator.evaluate(pred)\n",
        "print(\"Root Mean Squared Error (RMSE) on test data = %g\" % rmse)"
      ],
      "execution_count": null,
      "outputs": [
        {
          "output_type": "stream",
          "text": [
            "Root Mean Squared Error (RMSE) on test data = 0.455845\n"
          ],
          "name": "stdout"
        }
      ]
    },
    {
      "cell_type": "code",
      "metadata": {
        "colab": {
          "base_uri": "https://localhost:8080/"
        },
        "id": "p-ymrtOZyQJ5",
        "outputId": "7c1c2880-66f6-4bd0-c4cb-6b7f027b5555"
      },
      "source": [
        "pred.select(\"prediction\", \"label\", \"features\").show(5) \n"
      ],
      "execution_count": null,
      "outputs": [
        {
          "output_type": "stream",
          "text": [
            "+-------------------+----------+--------------------+\n",
            "|         prediction|     label|            features|\n",
            "+-------------------+----------+--------------------+\n",
            "|0.07392323021037464|0.06366909|[18.0,22.00384,20...|\n",
            "| 0.3263506552191518| 0.3502668|[32.0,25.17381,21...|\n",
            "| 0.6253202917928479| 0.4401068|[38.0,24.36361,23...|\n",
            "|  0.567333247054659|  0.440762|[40.0,23.32368,22...|\n",
            "| 0.1184790423517536| 0.1281856|[47.0,21.37297000...|\n",
            "+-------------------+----------+--------------------+\n",
            "only showing top 5 rows\n",
            "\n"
          ],
          "name": "stdout"
        }
      ]
    },
    {
      "cell_type": "code",
      "metadata": {
        "colab": {
          "base_uri": "https://localhost:8080/"
        },
        "id": "CMIVSCUrX6Oc",
        "outputId": "e53a7a5a-3318-4dfd-fa0f-a6b9cb5c741c"
      },
      "source": [
        "type(pred)"
      ],
      "execution_count": null,
      "outputs": [
        {
          "output_type": "execute_result",
          "data": {
            "text/plain": [
              "pyspark.sql.dataframe.DataFrame"
            ]
          },
          "metadata": {
            "tags": []
          },
          "execution_count": 28
        }
      ]
    },
    {
      "cell_type": "code",
      "metadata": {
        "id": "hYSj_TJBXY-f"
      },
      "source": [
        "#result=pred.predictions.collect()"
      ],
      "execution_count": null,
      "outputs": []
    },
    {
      "cell_type": "code",
      "metadata": {
        "id": "7uCyu6lBXZ-J"
      },
      "source": [
        "#dataframe=spark.createDataFrame(result)"
      ],
      "execution_count": null,
      "outputs": []
    },
    {
      "cell_type": "code",
      "metadata": {
        "id": "X-Xfarzt5_ck",
        "colab": {
          "base_uri": "https://localhost:8080/"
        },
        "outputId": "c3e0d0b9-6dd1-4b23-8d88-95e31dc94b38"
      },
      "source": [
        "evaluator = RegressionEvaluator(\n",
        "    labelCol=\"label\", predictionCol=\"prediction\", metricName=\"r2\")\n",
        "rmse = evaluator.evaluate(pred)\n",
        "print(\"R2 on test data = %g\" % rmse)"
      ],
      "execution_count": null,
      "outputs": [
        {
          "output_type": "stream",
          "text": [
            "R2 on test data = 0.602507\n"
          ],
          "name": "stdout"
        }
      ]
    },
    {
      "cell_type": "code",
      "metadata": {
        "colab": {
          "base_uri": "https://localhost:8080/"
        },
        "id": "yen3J8I8CnxW",
        "outputId": "203a7a13-70db-4921-86b9-d0e97c3e23a0"
      },
      "source": [
        "evaluator = RegressionEvaluator(\n",
        "    labelCol=\"label\", predictionCol=\"prediction\", metricName=\"mae\")\n",
        "mae = evaluator.evaluate(pred)\n",
        "print(\"MAE on test data = %.3f\" %  mae)"
      ],
      "execution_count": null,
      "outputs": [
        {
          "output_type": "stream",
          "text": [
            "MAE on test data = 0.212\n"
          ],
          "name": "stdout"
        }
      ]
    },
    {
      "cell_type": "code",
      "metadata": {
        "id": "yLR54AkkPQFN"
      },
      "source": [
        "import numpy as np\n",
        "y_test=np.array(pred.select(\"label\").collect())\n",
        "y_pred=np.array(pred.select(\"prediction\").collect())\n",
        "import matplotlib.pyplot as plt"
      ],
      "execution_count": null,
      "outputs": []
    },
    {
      "cell_type": "code",
      "metadata": {
        "colab": {
          "base_uri": "https://localhost:8080/",
          "height": 295
        },
        "id": "UfcyJD4dJp3k",
        "outputId": "a66696b7-35d9-497d-e8b4-9b621f169f7e"
      },
      "source": [
        "fig = plt.figure()\n",
        "ax1 = fig.add_subplot(111)\n",
        "plt.title(\"Decision tree_Spark\")\n",
        "plt.scatter(y_test[:30000], y_pred[:30000], s=0.34, color=\"purple\")\n",
        "ax1.set_xlabel(\"Test redshift\")\n",
        "ax1.set_ylabel(\"Predicted redshift\")\n",
        "ax1.plot([0,4], [0,4], '-r',color=\"black\")\n",
        "ax1.set_xlim(0, 1)\n",
        "ax1.set_ylim(0, 1)\n",
        "\n",
        "    \n",
        "plt.show()"
      ],
      "execution_count": null,
      "outputs": [
        {
          "output_type": "display_data",
          "data": {
            "image/png": "[encoded data removed]",
            "text/plain": [
              "<Figure size 432x288 with 1 Axes>"
            ]
          },
          "metadata": {
            "tags": [],
            "needs_background": "light"
          }
        }
      ]
    },
    {
      "cell_type": "code",
      "metadata": {
        "id": "sFyxitReZ4Pz"
      },
      "source": [
        ""
      ],
      "execution_count": null,
      "outputs": []
    }
  ]
}