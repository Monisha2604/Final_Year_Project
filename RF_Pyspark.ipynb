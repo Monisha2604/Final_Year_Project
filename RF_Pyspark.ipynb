{
  "nbformat": 4,
  "nbformat_minor": 0,
  "metadata": {
    "colab": {
      "name": "RF_Pyspark.ipynb",
      "provenance": [],
      "collapsed_sections": [],
      "include_colab_link": true
    },
    "kernelspec": {
      "name": "python3",
      "display_name": "Python 3"
    },
    "language_info": {
      "name": "python"
    }
  },
  "cells": [
    {
      "cell_type": "markdown",
      "metadata": {
        "id": "view-in-github",
        "colab_type": "text"
      },
      "source": [
        "<a href=\"https://colab.research.google.com/github/Monisha2604/Final_Year_Project/blob/master/RF_Pyspark.ipynb\" target=\"_parent\"><img src=\"https://colab.research.google.com/assets/colab-badge.svg\" alt=\"Open In Colab\"/></a>"
      ]
    },
    {
      "cell_type": "code",
      "metadata": {
        "id": "Q7Vab09pqd6W"
      },
      "source": [
        "!apt-get install openjdk-8-jdk-headless -qq > /dev/null\n",
        "!wget -q https://www-us.apache.org/dist/spark/spark-3.0.2/spark-3.0.2-bin-hadoop2.7.tgz\n",
        "!tar xf spark-3.0.2-bin-hadoop2.7.tgz\n",
        "!pip install -q findspark"
      ],
      "execution_count": null,
      "outputs": []
    },
    {
      "cell_type": "code",
      "metadata": {
        "colab": {
          "base_uri": "https://localhost:8080/"
        },
        "id": "AypcuClhfuZ6",
        "outputId": "25522104-9821-44cd-b259-8c739eb3313e"
      },
      "source": [
        "from google.colab import drive\n",
        "drive.mount('/content/drive')"
      ],
      "execution_count": null,
      "outputs": [
        {
          "output_type": "stream",
          "text": [
            "Mounted at /content/drive\n"
          ],
          "name": "stdout"
        }
      ]
    },
    {
      "cell_type": "code",
      "metadata": {
        "id": "pnuOhlPut0hK"
      },
      "source": [
        "import os\n",
        "os.environ[\"JAVA_HOME\"] = \"/usr/lib/jvm/java-8-openjdk-amd64\"\n",
        "os.environ[\"SPARK_HOME\"] = \"/content/spark-3.0.2-bin-hadoop2.7\""
      ],
      "execution_count": null,
      "outputs": []
    },
    {
      "cell_type": "code",
      "metadata": {
        "id": "AQ7u2OMdt2Mv"
      },
      "source": [
        "import findspark\n",
        "findspark.init()"
      ],
      "execution_count": null,
      "outputs": []
    },
    {
      "cell_type": "code",
      "metadata": {
        "id": "wLppeeYbdWNp"
      },
      "source": [
        "from pyspark import SparkContext, SparkConf\n",
        "from pyspark.sql import SQLContext\n",
        "from pyspark.ml.linalg import Vectors\n",
        "from pyspark.ml.feature import VectorIndexer"
      ],
      "execution_count": null,
      "outputs": []
    },
    {
      "cell_type": "code",
      "metadata": {
        "id": "Jp-vBAfKdBnI"
      },
      "source": [
        "conf = SparkConf().setAppName('RandomForest').setMaster('local[*]')\n",
        "sc = SparkContext(conf=conf)\n",
        "sql_context = SQLContext(sc)"
      ],
      "execution_count": null,
      "outputs": []
    },
    {
      "cell_type": "code",
      "metadata": {
        "id": "VTgflHNHdUc2"
      },
      "source": [
        "data=sql_context.read.csv(\"/content/drive/MyDrive/Copy of Final_project_processed_data.csv\",inferSchema=True,header=True)\n"
      ],
      "execution_count": null,
      "outputs": []
    },
    {
      "cell_type": "code",
      "metadata": {
        "colab": {
          "base_uri": "https://localhost:8080/"
        },
        "id": "XCVOiD2FeJEe",
        "outputId": "9d8f9108-626d-46a2-85e8-67585ade3d6c"
      },
      "source": [
        "data.count()"
      ],
      "execution_count": null,
      "outputs": [
        {
          "output_type": "execute_result",
          "data": {
            "text/plain": [
              "2441900"
            ]
          },
          "metadata": {
            "tags": []
          },
          "execution_count": 35
        }
      ]
    },
    {
      "cell_type": "code",
      "metadata": {
        "colab": {
          "base_uri": "https://localhost:8080/"
        },
        "id": "blEf_RGUzvAH",
        "outputId": "b9c297d3-c6ed-45c7-e7c6-f15115b6ddf6"
      },
      "source": [
        "data.show()"
      ],
      "execution_count": null,
      "outputs": [
        {
          "output_type": "stream",
          "text": [
            "+---+------------------+------------------+------------------+------------------+------------------+------------------+------------------+------------------+------------------+------------------+------------------+------------------+------------------+------------------+------------------+------------------+------------------+------------------+------------------+------------------+------------------+------------------+-------------------+\n",
            "|_c0|          psfMag_u|          psfMag_g|          psfMag_r|          psfMag_i|          psfMag_z|           dered_u|           dered_g|           dered_r|           dered_i|           dered_z|        fiberMag_u|        fiberMag_g|        fiberMag_r|        fiberMag_i|        fiberMag_z|        petroR50_r|        petroR50_z|        petroR90_r|        petroR90_z|                 r|                 i|                 z|           redshift|\n",
            "+---+------------------+------------------+------------------+------------------+------------------+------------------+------------------+------------------+------------------+------------------+------------------+------------------+------------------+------------------+------------------+------------------+------------------+------------------+------------------+------------------+------------------+------------------+-------------------+\n",
            "|  0|          24.35021|          22.78955|          22.03197|21.071720000000003|21.222839999999998|          24.85709|          21.12559|          20.30777|           19.2567|          19.64961|          23.45947|          22.21595|21.799429999999997|          20.82268|          20.63929|          3.463256|          1.221438|          5.318553|          3.343638|          20.38345|          19.31294|          19.69144| 0.8162744000000001|\n",
            "|  1|          24.47392|          22.43417|          20.73903|          19.74737|          19.26174|           24.2802|          21.56639|          19.91743|          18.95574|          18.52003|          23.65456|           22.5849|          20.85625|19.906010000000002|          19.45691|1.7828490000000001|          1.586178|           6.19271|          4.988663|          19.99389|          19.01255|           18.5623|          0.5564747|\n",
            "|  2|          23.38084|          22.54274|21.593989999999998|          20.49164|           20.0267|22.317510000000002|          21.26557|          20.37567|19.422179999999997|          19.13447|          23.18704|22.337429999999998|          21.35546|          20.38862|          20.05538|1.3803450000000002|2.4460290000000002|2.7030279999999998|          4.893902|          20.47651|19.497120000000002|          19.19021|           0.619608|\n",
            "|  3|24.722579999999997|          22.71763|          20.91958|          20.06721|          19.74904|          24.47891|21.867070000000002|20.026020000000003|           19.1619|           18.8123|          25.56193|          22.43001|           20.7863|           20.0537|          19.60366|          1.569348|1.7924689999999999|          6.201793|          8.331386|          20.13745|           19.2447|          18.87388|          0.4611808|\n",
            "|  4|           25.2249|          24.46752|          21.76405|20.690070000000002|19.975920000000002|26.231279999999998|          23.61348|          20.46305|          19.37706|          18.63556|          25.20392|23.634320000000002|21.815739999999998|          20.69833|          19.95681|1.7627220000000001|          2.094598|          3.480688|          4.283308|          20.52637|           19.4241|18.670560000000002|          0.6421724|\n",
            "|  5|23.553539999999998|          22.45598|          20.99954|          20.09101|           19.5419|           22.7042|          21.62725|          20.20583|          19.39738|18.921670000000002|23.364279999999997|          22.46785|          21.04416|          20.21503|          19.71143|1.1513799999999998|         0.7017788|3.3795050000000004|          1.196405|            20.268|19.443579999999997|18.956039999999998|          0.5553204|\n",
            "|  6|          21.70427|          20.79232|          19.98709|          19.59036|          19.23104|           18.6573|          17.62015|          17.20031|16.940379999999998|          16.75367|           21.5369|          20.27036|          19.63993|           19.2544|          18.99801|          4.007807|3.5750309999999996|          9.122769| 9.300533999999999|           17.4657|           17.1376|          16.90036|         0.04402394|\n",
            "|  7|          21.58328|          20.38735|19.573320000000002|          18.99925|          18.57326|          19.54567|          18.20083|          17.61339|          17.23501|           17.0314|           21.4308|          20.02897|           19.2105|          18.72402|          18.42265|1.9034959999999999|          1.622004|          3.843295|          3.261534|          17.92848|17.469160000000002|17.205560000000002|         0.08781031|\n",
            "|  8|           21.1678|           19.4526|          18.46825|          17.98139|          17.57809|          19.93722|           18.2243|           17.3751|          16.98035|16.705389999999998|21.290210000000002|          19.48498|          18.47597|          18.00036|          17.67478|          1.153943|          1.118922|          3.401702|3.3023309999999997|           17.6805|           17.2073|           16.8742|         0.05917491|\n",
            "|  9|          21.17853|          19.17635|          18.03896|17.526020000000003|          17.01611|           19.4564|          17.30913|16.281679999999998|          15.85244|          15.49496|          21.26003|          19.07335|          17.90324|17.396160000000002|          16.97397|2.0499549999999997|            1.9838|          6.355478|           6.07556|16.584229999999998|          16.07726|          15.66218|0.10928620000000001|\n",
            "| 10|21.788829999999997|          20.17289|19.087979999999998|          18.56919|          18.10856|          18.99529|          17.49396|16.602320000000002|          16.24098|15.891370000000002|          21.85461|          20.04889|           18.9334|          18.46421|18.039270000000002|          3.756351|          2.486459|           9.47885| 5.353098999999999|          16.91265|          16.47159|           16.0629|         0.08782733|\n",
            "| 11|          20.89442|19.334039999999998|          18.49448|          18.06617|          17.68347|           19.7055|          18.02899|17.237820000000003|          16.79329|          16.45674|          21.05211|           19.3538|          18.51972|18.039479999999998|          17.68378|          1.996389|1.8647040000000001|          4.898281|          4.408826|          17.28813|16.830679999999997|          16.48455|         0.07788806|\n",
            "| 12|          21.04597|          20.34885|          19.93639|19.799570000000003|19.633670000000002|          17.95683|17.102829999999997|          16.84429|16.717779999999998|            16.687|          20.81333|          19.82058|          19.44227|19.252029999999998|          19.12497|3.9630730000000005|2.8546150000000003|          7.957783|          4.747912|          17.10257|          16.90971|          16.82976|         0.01660742|\n",
            "| 13|          20.38704|          19.16457|18.292170000000002|          17.84274|          17.48801|          17.49813|16.136570000000003|          15.48056|15.108189999999999|          14.83966|          20.43113|18.946479999999998|          18.06844|           17.6023|          17.22888|          4.866303|          4.477489|          9.355639|          8.716623|          15.74451|15.304329999999998|14.985560000000001|          0.0504769|\n",
            "| 14|          21.61665|          19.82155|            18.748|18.277820000000002|          17.91564|          20.12363|          18.14301|          17.19932|          16.78641|          16.45385|          21.86315|19.742929999999998|          18.68667|          18.21135|          17.82475|1.9871020000000001|          1.735654|          6.147456|          5.013532|          17.44821|          16.97135|          16.59142|          0.1077413|\n",
            "| 15|          23.30925|          22.15276|          20.29525|           19.5218|          19.04421|22.330389999999998|20.530160000000002|          18.72577|          18.00626|17.579620000000002|           23.6361|22.162020000000002|20.248279999999998|19.453570000000003|          18.97869|          2.067432|          1.456434|          5.587363|3.8688540000000002|           18.9745|           18.1911|          17.71711|          0.4031112|\n",
            "| 16|          21.49633|          19.37705|18.403760000000002|          17.98159|          17.53014|19.503120000000003|          17.37516|          16.49396|          16.11985|           15.8056|          21.42938|          19.26621|18.238329999999998|          17.79615|          17.41667|          2.200965|           2.19278|          6.514995|          6.452497|          16.80126|          16.34821|          15.97546|         0.09800664|\n",
            "| 17|22.238000000000003|20.135070000000002|          18.78731|          18.26305|          17.84711|          21.06491|           18.7877|          17.58297|          17.10366|            16.724|          22.24924|          20.07566|            18.764|18.197370000000003|           17.7667|1.2884120000000001|           1.11685|          3.623408|          3.512226|          17.87225|17.318620000000003|           16.8839|          0.1531249|\n",
            "| 18|          22.00384|          20.49115|           19.6092|19.251739999999998|           19.0458|          18.09337|          16.61526|          15.98688|15.693589999999999|          15.48375|          21.91412|          20.27685|          19.38179|18.961570000000002|          18.64882|          6.920745|          5.406353|12.342789999999999| 9.002994000000001|          16.27731|           15.9094|15.644279999999998|         0.06366909|\n",
            "| 19|          21.40737|          20.37486|          19.84155|          19.71085|          19.61652|          19.22499|           18.1385|          17.73387|          17.54859|          17.38435|          21.18713|19.960160000000002|          19.44691|          19.18525|          18.96943|          2.225943|          2.375711|          5.267819|          6.071639|            18.027|          17.76642|          17.54637|         0.02425634|\n",
            "+---+------------------+------------------+------------------+------------------+------------------+------------------+------------------+------------------+------------------+------------------+------------------+------------------+------------------+------------------+------------------+------------------+------------------+------------------+------------------+------------------+------------------+------------------+-------------------+\n",
            "only showing top 20 rows\n",
            "\n"
          ],
          "name": "stdout"
        }
      ]
    },
    {
      "cell_type": "code",
      "metadata": {
        "id": "JB1OpzbmeM0P"
      },
      "source": [
        "from pyspark.ml.feature import VectorAssembler\n",
        "assembler=VectorAssembler(\n",
        "    inputCols=['psfMag_u',\n",
        "               'psfMag_g',\n",
        "               'psfMag_r',\n",
        "               'psfMag_i',\n",
        "               'psfMag_z',\n",
        "               'dered_u', \n",
        "               'dered_g', \n",
        "               'dered_r', \n",
        "               'dered_i', \n",
        "               'dered_z', \n",
        "               'fiberMag_u', \n",
        "               'fiberMag_g', \n",
        "               'fiberMag_r', \n",
        "               'fiberMag_i', \n",
        "               'fiberMag_z', \n",
        "               'petroR50_r', \n",
        "               'petroR50_z', \n",
        "               'petroR90_r', \n",
        "               'petroR90_z',\n",
        "               'r', \n",
        "               'i', \n",
        "               'z'],\n",
        "    outputCol=\"features\"\n",
        ")"
      ],
      "execution_count": null,
      "outputs": []
    },
    {
      "cell_type": "code",
      "metadata": {
        "id": "XFzGj-CleULP"
      },
      "source": [
        "data=assembler.transform(data)"
      ],
      "execution_count": null,
      "outputs": []
    },
    {
      "cell_type": "code",
      "metadata": {
        "id": "ty8Zbx7-eW5H"
      },
      "source": [
        "output=data.select(\"features\",\"redshift\")"
      ],
      "execution_count": null,
      "outputs": []
    },
    {
      "cell_type": "code",
      "metadata": {
        "id": "UogTdOWufVmI"
      },
      "source": [
        "featureIndexer=VectorIndexer(inputCol=\"features\", outputCol=\"indexedFeatures\", maxCategories=4).fit(data)"
      ],
      "execution_count": null,
      "outputs": []
    },
    {
      "cell_type": "code",
      "metadata": {
        "id": "O9JV1O9hfql8"
      },
      "source": [
        "#type(featureIndexer)"
      ],
      "execution_count": null,
      "outputs": []
    },
    {
      "cell_type": "code",
      "metadata": {
        "id": "rzgRzvxVeali"
      },
      "source": [
        "(train_df,test_df)=output.randomSplit([0.8,0.2])"
      ],
      "execution_count": null,
      "outputs": []
    },
    {
      "cell_type": "code",
      "metadata": {
        "id": "pN6YR4UlVBcm"
      },
      "source": [
        "from pyspark.sql import Row\n",
        "from pyspark.ml.linalg import Vectors\n",
        "def transData(data):\n",
        "    return data.rdd.map(lambda r: [Vectors.dense(r[:-1]),r[-1]]).toDF(['features','label'])"
      ],
      "execution_count": null,
      "outputs": []
    },
    {
      "cell_type": "code",
      "metadata": {
        "colab": {
          "base_uri": "https://localhost:8080/"
        },
        "id": "rJsV-YQcVSeV",
        "outputId": "53c4ffb0-47ac-4538-a72f-edabda6a083b"
      },
      "source": [
        "transformed= transData(data)\n",
        "transformed.show(5)"
      ],
      "execution_count": null,
      "outputs": [
        {
          "output_type": "stream",
          "text": [
            "+--------------------+------------------+\n",
            "|            features|             label|\n",
            "+--------------------+------------------+\n",
            "|[0.0,24.35021,22....|0.8162744000000001|\n",
            "|[1.0,24.47392,22....|         0.5564747|\n",
            "|[2.0,23.38084,22....|          0.619608|\n",
            "|[3.0,24.722579999...|         0.4611808|\n",
            "|[4.0,25.2249,24.4...|         0.6421724|\n",
            "+--------------------+------------------+\n",
            "only showing top 5 rows\n",
            "\n"
          ],
          "name": "stdout"
        }
      ]
    },
    {
      "cell_type": "code",
      "metadata": {
        "colab": {
          "base_uri": "https://localhost:8080/"
        },
        "id": "yc6viKGdVZLC",
        "outputId": "ea4b329f-e185-49d7-a53e-4239a72bab8c"
      },
      "source": [
        "from pyspark.ml import Pipeline\n",
        "from pyspark.ml.feature import VectorIndexer\n",
        "\n",
        "featureIndexer = VectorIndexer(inputCol=\"features\", \\\n",
        "                               outputCol=\"indexedFeatures\").fit(transformed)\n",
        "\n",
        "df = featureIndexer.transform(transformed)\n",
        "df.show(5,True)\n"
      ],
      "execution_count": null,
      "outputs": [
        {
          "output_type": "stream",
          "text": [
            "+--------------------+------------------+--------------------+\n",
            "|            features|             label|     indexedFeatures|\n",
            "+--------------------+------------------+--------------------+\n",
            "|[0.0,24.35021,22....|0.8162744000000001|[0.0,24.35021,22....|\n",
            "|[1.0,24.47392,22....|         0.5564747|[1.0,24.47392,22....|\n",
            "|[2.0,23.38084,22....|          0.619608|[2.0,23.38084,22....|\n",
            "|[3.0,24.722579999...|         0.4611808|[3.0,24.722579999...|\n",
            "|[4.0,25.2249,24.4...|         0.6421724|[4.0,25.2249,24.4...|\n",
            "+--------------------+------------------+--------------------+\n",
            "only showing top 5 rows\n",
            "\n"
          ],
          "name": "stdout"
        }
      ]
    },
    {
      "cell_type": "code",
      "metadata": {
        "id": "LwUv47hZVvt2"
      },
      "source": [
        "(trainingData, testData) = df.randomSplit([0.80, 0.20]) "
      ],
      "execution_count": null,
      "outputs": []
    },
    {
      "cell_type": "code",
      "metadata": {
        "id": "w0ZQhIzTedd5"
      },
      "source": [
        "from pyspark.ml.regression import RandomForestRegressor\n",
        "rf = RandomForestRegressor(featuresCol=\"features\",numTrees=50,maxDepth=10)"
      ],
      "execution_count": null,
      "outputs": []
    },
    {
      "cell_type": "code",
      "metadata": {
        "id": "myUVJDwzgEWJ"
      },
      "source": [
        "from pyspark.ml import Pipeline"
      ],
      "execution_count": null,
      "outputs": []
    },
    {
      "cell_type": "code",
      "metadata": {
        "id": "IFiJleQLfD_6"
      },
      "source": [
        "pipeline = Pipeline(stages=[rf])"
      ],
      "execution_count": null,
      "outputs": []
    },
    {
      "cell_type": "code",
      "metadata": {
        "id": "1jLNhA8ygYzf"
      },
      "source": [
        "import timeit"
      ],
      "execution_count": null,
      "outputs": []
    },
    {
      "cell_type": "code",
      "metadata": {
        "colab": {
          "base_uri": "https://localhost:8080/"
        },
        "id": "zBqk93cYWJub",
        "outputId": "dd53ade2-204d-452d-98d9-2eaf0ce68cb4"
      },
      "source": [
        "%time\n",
        "pipeline = Pipeline(stages=[featureIndexer, rf])\n",
        "start = timeit.default_timer()\n",
        "model = pipeline.fit(trainingData)\n",
        "stop = timeit.default_timer()\n",
        "print('Time: ', (stop - start)/60,'minutes')"
      ],
      "execution_count": null,
      "outputs": [
        {
          "output_type": "stream",
          "text": [
            "CPU times: user 4 µs, sys: 0 ns, total: 4 µs\n",
            "Wall time: 9.54 µs\n",
            "Time:  14.820390283999995 minutes\n"
          ],
          "name": "stdout"
        }
      ]
    },
    {
      "cell_type": "code",
      "metadata": {
        "colab": {
          "base_uri": "https://localhost:8080/"
        },
        "id": "kAHTNy96g_uq",
        "outputId": "dc5dbe74-0e45-4212-fe30-27e4e53e15c9"
      },
      "source": [
        "output.show(3),train_df.show(2)"
      ],
      "execution_count": null,
      "outputs": [
        {
          "output_type": "stream",
          "text": [
            "+--------------------+------------------+\n",
            "|            features|          redshift|\n",
            "+--------------------+------------------+\n",
            "|[24.35021,22.7895...|0.8162744000000001|\n",
            "|[24.47392,22.4341...|         0.5564747|\n",
            "|[23.38084,22.5427...|          0.619608|\n",
            "+--------------------+------------------+\n",
            "only showing top 3 rows\n",
            "\n",
            "+--------------------+----------+\n",
            "|            features|  redshift|\n",
            "+--------------------+----------+\n",
            "|[15.2698299999999...|       0.0|\n",
            "|[15.3482,15.27617...|0.03022659|\n",
            "+--------------------+----------+\n",
            "only showing top 2 rows\n",
            "\n"
          ],
          "name": "stdout"
        },
        {
          "output_type": "execute_result",
          "data": {
            "text/plain": [
              "(None, None)"
            ]
          },
          "metadata": {
            "tags": []
          },
          "execution_count": 46
        }
      ]
    },
    {
      "cell_type": "code",
      "metadata": {
        "id": "txwgT7onhbSh"
      },
      "source": [
        "train_df=train_df.withColumnRenamed(\"redshift\",\"label\")"
      ],
      "execution_count": null,
      "outputs": []
    },
    {
      "cell_type": "code",
      "metadata": {
        "colab": {
          "base_uri": "https://localhost:8080/"
        },
        "id": "qlFg12Ydih1Q",
        "outputId": "22690aed-62bd-42c9-9e71-2179d17ec320"
      },
      "source": [
        "train_df.show(3),\n",
        "test_df.show(2)"
      ],
      "execution_count": null,
      "outputs": [
        {
          "output_type": "stream",
          "text": [
            "+--------------------+----------+\n",
            "|            features|     label|\n",
            "+--------------------+----------+\n",
            "|[15.2698299999999...|       0.0|\n",
            "|[15.3482,15.27617...|0.03022659|\n",
            "|[15.38067,13.8078...|       0.0|\n",
            "+--------------------+----------+\n",
            "only showing top 3 rows\n",
            "\n",
            "+--------------------+----------+\n",
            "|            features|  redshift|\n",
            "+--------------------+----------+\n",
            "|[15.7218299999999...|0.03588414|\n",
            "|[15.7410600000000...| 0.2543997|\n",
            "+--------------------+----------+\n",
            "only showing top 2 rows\n",
            "\n"
          ],
          "name": "stdout"
        }
      ]
    },
    {
      "cell_type": "code",
      "metadata": {
        "colab": {
          "base_uri": "https://localhost:8080/"
        },
        "id": "dGOdljCVgBzp",
        "outputId": "5e969f06-1c36-4da2-a2f5-cb1d2a5af103"
      },
      "source": [
        "import timeit\n",
        "start=timeit.default_timer()\n",
        "model = pipeline.fit(train_df)\n",
        "stop=timeit.default_timer()\n",
        "print(\"time:\",(stop-start)/30,\" mins\")"
      ],
      "execution_count": null,
      "outputs": [
        {
          "output_type": "stream",
          "text": [
            "time: 4.441034690733341  mins\n"
          ],
          "name": "stdout"
        }
      ]
    },
    {
      "cell_type": "code",
      "metadata": {
        "id": "ybwiWzm5gm35"
      },
      "source": [
        "#test_df=test_df.select(\"features\",\"redshift\")\n",
        "test_df=test_df.withColumnRenamed(\"redshift\",\"label\")"
      ],
      "execution_count": null,
      "outputs": []
    },
    {
      "cell_type": "code",
      "metadata": {
        "id": "ZHpSsQVzhvJw"
      },
      "source": [
        "predictions = model.transform(testData)"
      ],
      "execution_count": null,
      "outputs": []
    },
    {
      "cell_type": "code",
      "metadata": {
        "colab": {
          "base_uri": "https://localhost:8080/"
        },
        "id": "XmYxMJNAiD4U",
        "outputId": "5853392e-824b-43e0-bfb8-d763899c3620"
      },
      "source": [
        "predictions.show(5)"
      ],
      "execution_count": null,
      "outputs": [
        {
          "output_type": "stream",
          "text": [
            "+--------------------+-----------+------------------+\n",
            "|            features|      label|        prediction|\n",
            "+--------------------+-----------+------------------+\n",
            "|[15.5872299999999...|        0.0|0.0890105861998347|\n",
            "|[15.7218299999999...| 0.03588414|0.0890105861998347|\n",
            "|[16.07687,16.0014...|  0.1103326|0.0890105861998347|\n",
            "|[16.25712,16.3869...|  0.1179971|0.0890105861998347|\n",
            "|[16.31604,15.7989...|0.009996938|0.0890105861998347|\n",
            "+--------------------+-----------+------------------+\n",
            "only showing top 5 rows\n",
            "\n"
          ],
          "name": "stdout"
        }
      ]
    },
    {
      "cell_type": "code",
      "metadata": {
        "colab": {
          "base_uri": "https://localhost:8080/"
        },
        "id": "EwtJ3k19iSTc",
        "outputId": "b3073825-b315-4f77-a60b-8a0c47eb54af"
      },
      "source": [
        "from pyspark.ml.evaluation import RegressionEvaluator\n",
        "evaluator = RegressionEvaluator(\n",
        "    labelCol=\"label\", predictionCol=\"prediction\", metricName=\"r2\")\n",
        "r2 = evaluator.evaluate(predictions)\n",
        "print(\"R2 on test data = %g\" % r2)"
      ],
      "execution_count": null,
      "outputs": [
        {
          "output_type": "stream",
          "text": [
            "R2 on test data = 0.614903\n"
          ],
          "name": "stdout"
        }
      ]
    },
    {
      "cell_type": "code",
      "metadata": {
        "colab": {
          "base_uri": "https://localhost:8080/"
        },
        "id": "D6Uo5UzrjLkT",
        "outputId": "2a10d457-8f18-4737-eccf-83cc8e8dc43f"
      },
      "source": [
        "from pyspark.ml.evaluation import RegressionEvaluator\n",
        "evaluator = RegressionEvaluator(\n",
        "    labelCol=\"label\", predictionCol=\"prediction\", metricName=\"mse\")\n",
        "mse = evaluator.evaluate(predictions)\n",
        "print(\"Mean Squared Error (MSE) on test data = %g\" % mse)"
      ],
      "execution_count": null,
      "outputs": [
        {
          "output_type": "stream",
          "text": [
            "Mean Squared Error (MSE) on test data = 0.205155\n"
          ],
          "name": "stdout"
        }
      ]
    },
    {
      "cell_type": "code",
      "metadata": {
        "colab": {
          "base_uri": "https://localhost:8080/"
        },
        "id": "7EkXFCTdji8o",
        "outputId": "efc8ff34-2032-489a-9071-d0f0011f204c"
      },
      "source": [
        "from pyspark.ml.evaluation import RegressionEvaluator\n",
        "evaluator = RegressionEvaluator(\n",
        "    labelCol=\"label\", predictionCol=\"prediction\", metricName=\"mae\")\n",
        "mae = evaluator.evaluate(predictions)\n",
        "print(\"Mean Absolute Error (MAE) on test data = %g\" % mae)"
      ],
      "execution_count": null,
      "outputs": [
        {
          "output_type": "stream",
          "text": [
            "Mean Absolute Error (MAE) on test data = 0.208638\n"
          ],
          "name": "stdout"
        }
      ]
    },
    {
      "cell_type": "code",
      "metadata": {
        "id": "H8e5nGm1juEj"
      },
      "source": [
        "import numpy as np"
      ],
      "execution_count": null,
      "outputs": []
    },
    {
      "cell_type": "code",
      "metadata": {
        "id": "FQXJZpNXhNpg"
      },
      "source": [
        "result=predictions.toPandas()"
      ],
      "execution_count": null,
      "outputs": []
    },
    {
      "cell_type": "code",
      "metadata": {
        "colab": {
          "base_uri": "https://localhost:8080/"
        },
        "id": "0-FjBcB-hM2t",
        "outputId": "0036775c-9fc9-4583-e154-5341ec3e8ec0"
      },
      "source": [
        "import matplotlib.pyplot as plt\n",
        " \n",
        "fig = plt.figure()\n",
        "ax1 = fig.add_subplot(111)\n",
        "plt.title(\"Random forest\")\n",
        "plt.scatter(result.label[:30000], result.prediction[:30000], s=0.3, color=\"purple\")\n",
        "ax1.set_xlabel(\"Test redshift\")\n",
        "ax1.set_ylabel(\"Predicted redshift\")\n",
        "ax1.plot([0,1], [0,1], '-r',color=\"black\")\n",
        "ax1.set_xlim(0, 1)\n",
        "ax1.set_ylim(0, 1)\n",
        "    \n",
        "plt.show() "
      ],
      "execution_count": null,
      "outputs": [
        {
          "output_type": "display_data",
          "data": {
            "image/png": "[encoded data removed]",
            "text/plain": [
              "<Figure size 432x288 with 1 Axes>"
            ]
          },
          "metadata": {
            "tags": [],
            "needs_background": "light"
          }
        }
      ]
    },
    {
      "cell_type": "code",
      "metadata": {
        "id": "FhmjFPzTj4D9"
      },
      "source": [
        "y_test=np.array(predictions.select(\"label\").collect())\n",
        "y_pred=np.array(predictions.select(\"prediction\").collect())"
      ],
      "execution_count": null,
      "outputs": []
    },
    {
      "cell_type": "code",
      "metadata": {
        "colab": {
          "base_uri": "https://localhost:8080/"
        },
        "id": "TIhV__U-lqLU",
        "outputId": "2f28ade9-391d-403a-85e2-4f5c7fd42966"
      },
      "source": [
        "y_test"
      ],
      "execution_count": null,
      "outputs": [
        {
          "output_type": "execute_result",
          "data": {
            "text/plain": [
              "array([[0.1933094],\n",
              "       [0.804176 ],\n",
              "       [0.162808 ],\n",
              "       ...,\n",
              "       [0.4489835],\n",
              "       [0.4740988],\n",
              "       [0.4153849]])"
            ]
          },
          "metadata": {
            "tags": []
          },
          "execution_count": 125
        }
      ]
    },
    {
      "cell_type": "code",
      "metadata": {
        "id": "a1IyX6tYmaA2"
      },
      "source": [
        ""
      ],
      "execution_count": null,
      "outputs": []
    }
  ]
}