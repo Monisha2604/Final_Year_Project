{
  "nbformat": 4,
  "nbformat_minor": 0,
  "metadata": {
    "colab": {
      "name": "RF_sklearn.ipynb",
      "provenance": [],
      "collapsed_sections": [],
      "include_colab_link": true
    },
    "kernelspec": {
      "name": "python3",
      "display_name": "Python 3"
    },
    "language_info": {
      "name": "python"
    }
  },
  "cells": [
    {
      "cell_type": "markdown",
      "metadata": {
        "id": "view-in-github",
        "colab_type": "text"
      },
      "source": [
        "<a href=\"https://colab.research.google.com/github/Monisha2604/Final_Year_Project/blob/master/RF_sklearn.ipynb\" target=\"_parent\"><img src=\"https://colab.research.google.com/assets/colab-badge.svg\" alt=\"Open In Colab\"/></a>"
      ]
    },
    {
      "cell_type": "code",
      "metadata": {
        "id": "5VjAY4Uxidaw"
      },
      "source": [
        "import pandas as pd \n",
        "import numpy as np \n",
        "import matplotlib.pyplot as plt"
      ],
      "execution_count": null,
      "outputs": []
    },
    {
      "cell_type": "code",
      "metadata": {
        "colab": {
          "base_uri": "https://localhost:8080/"
        },
        "id": "tDddg_bbeQFl",
        "outputId": "2196b58f-a640-41f6-cfb7-8b0b4267b93a"
      },
      "source": [
        "from google.colab import drive\n",
        "drive.mount('/content/drive')"
      ],
      "execution_count": null,
      "outputs": [
        {
          "output_type": "stream",
          "text": [
            "Mounted at /content/drive\n"
          ],
          "name": "stdout"
        }
      ]
    },
    {
      "cell_type": "code",
      "metadata": {
        "id": "z9R11fjEiqXT"
      },
      "source": [
        "data=pd.read_csv('/content/drive/MyDrive/Copy of Final_project_processed_data.csv')"
      ],
      "execution_count": null,
      "outputs": []
    },
    {
      "cell_type": "code",
      "metadata": {
        "colab": {
          "base_uri": "https://localhost:8080/",
          "height": 454
        },
        "id": "xJkchnGK6feY",
        "outputId": "08da7a55-dd77-4f5e-e5de-ee8d0ef5fdcd"
      },
      "source": [
        "data"
      ],
      "execution_count": null,
      "outputs": [
        {
          "output_type": "execute_result",
          "data": {
            "text/html": [
              "<div>\n",
              "<style scoped>\n",
              "    .dataframe tbody tr th:only-of-type {\n",
              "        vertical-align: middle;\n",
              "    }\n",
              "\n",
              "    .dataframe tbody tr th {\n",
              "        vertical-align: top;\n",
              "    }\n",
              "\n",
              "    .dataframe thead th {\n",
              "        text-align: right;\n",
              "    }\n",
              "</style>\n",
              "<table border=\"1\" class=\"dataframe\">\n",
              "  <thead>\n",
              "    <tr style=\"text-align: right;\">\n",
              "      <th></th>\n",
              "      <th>Unnamed: 0</th>\n",
              "      <th>psfMag_u</th>\n",
              "      <th>psfMag_g</th>\n",
              "      <th>psfMag_r</th>\n",
              "      <th>psfMag_i</th>\n",
              "      <th>psfMag_z</th>\n",
              "      <th>dered_u</th>\n",
              "      <th>dered_g</th>\n",
              "      <th>dered_r</th>\n",
              "      <th>dered_i</th>\n",
              "      <th>dered_z</th>\n",
              "      <th>fiberMag_u</th>\n",
              "      <th>fiberMag_g</th>\n",
              "      <th>fiberMag_r</th>\n",
              "      <th>fiberMag_i</th>\n",
              "      <th>fiberMag_z</th>\n",
              "      <th>petroR50_r</th>\n",
              "      <th>petroR50_z</th>\n",
              "      <th>petroR90_r</th>\n",
              "      <th>petroR90_z</th>\n",
              "      <th>r</th>\n",
              "      <th>i</th>\n",
              "      <th>z</th>\n",
              "      <th>redshift</th>\n",
              "    </tr>\n",
              "  </thead>\n",
              "  <tbody>\n",
              "    <tr>\n",
              "      <th>0</th>\n",
              "      <td>0</td>\n",
              "      <td>24.35021</td>\n",
              "      <td>22.78955</td>\n",
              "      <td>22.03197</td>\n",
              "      <td>21.07172</td>\n",
              "      <td>21.22284</td>\n",
              "      <td>24.85709</td>\n",
              "      <td>21.12559</td>\n",
              "      <td>20.30777</td>\n",
              "      <td>19.25670</td>\n",
              "      <td>19.64961</td>\n",
              "      <td>23.45947</td>\n",
              "      <td>22.21595</td>\n",
              "      <td>21.79943</td>\n",
              "      <td>20.82268</td>\n",
              "      <td>20.63929</td>\n",
              "      <td>3.463256</td>\n",
              "      <td>1.221438</td>\n",
              "      <td>5.318553</td>\n",
              "      <td>3.343638</td>\n",
              "      <td>20.38345</td>\n",
              "      <td>19.31294</td>\n",
              "      <td>19.69144</td>\n",
              "      <td>0.816274</td>\n",
              "    </tr>\n",
              "    <tr>\n",
              "      <th>1</th>\n",
              "      <td>1</td>\n",
              "      <td>24.47392</td>\n",
              "      <td>22.43417</td>\n",
              "      <td>20.73903</td>\n",
              "      <td>19.74737</td>\n",
              "      <td>19.26174</td>\n",
              "      <td>24.28020</td>\n",
              "      <td>21.56639</td>\n",
              "      <td>19.91743</td>\n",
              "      <td>18.95574</td>\n",
              "      <td>18.52003</td>\n",
              "      <td>23.65456</td>\n",
              "      <td>22.58490</td>\n",
              "      <td>20.85625</td>\n",
              "      <td>19.90601</td>\n",
              "      <td>19.45691</td>\n",
              "      <td>1.782849</td>\n",
              "      <td>1.586178</td>\n",
              "      <td>6.192710</td>\n",
              "      <td>4.988663</td>\n",
              "      <td>19.99389</td>\n",
              "      <td>19.01255</td>\n",
              "      <td>18.56230</td>\n",
              "      <td>0.556475</td>\n",
              "    </tr>\n",
              "    <tr>\n",
              "      <th>2</th>\n",
              "      <td>2</td>\n",
              "      <td>23.38084</td>\n",
              "      <td>22.54274</td>\n",
              "      <td>21.59399</td>\n",
              "      <td>20.49164</td>\n",
              "      <td>20.02670</td>\n",
              "      <td>22.31751</td>\n",
              "      <td>21.26557</td>\n",
              "      <td>20.37567</td>\n",
              "      <td>19.42218</td>\n",
              "      <td>19.13447</td>\n",
              "      <td>23.18704</td>\n",
              "      <td>22.33743</td>\n",
              "      <td>21.35546</td>\n",
              "      <td>20.38862</td>\n",
              "      <td>20.05538</td>\n",
              "      <td>1.380345</td>\n",
              "      <td>2.446029</td>\n",
              "      <td>2.703028</td>\n",
              "      <td>4.893902</td>\n",
              "      <td>20.47651</td>\n",
              "      <td>19.49712</td>\n",
              "      <td>19.19021</td>\n",
              "      <td>0.619608</td>\n",
              "    </tr>\n",
              "    <tr>\n",
              "      <th>3</th>\n",
              "      <td>3</td>\n",
              "      <td>24.72258</td>\n",
              "      <td>22.71763</td>\n",
              "      <td>20.91958</td>\n",
              "      <td>20.06721</td>\n",
              "      <td>19.74904</td>\n",
              "      <td>24.47891</td>\n",
              "      <td>21.86707</td>\n",
              "      <td>20.02602</td>\n",
              "      <td>19.16190</td>\n",
              "      <td>18.81230</td>\n",
              "      <td>25.56193</td>\n",
              "      <td>22.43001</td>\n",
              "      <td>20.78630</td>\n",
              "      <td>20.05370</td>\n",
              "      <td>19.60366</td>\n",
              "      <td>1.569348</td>\n",
              "      <td>1.792469</td>\n",
              "      <td>6.201793</td>\n",
              "      <td>8.331386</td>\n",
              "      <td>20.13745</td>\n",
              "      <td>19.24470</td>\n",
              "      <td>18.87388</td>\n",
              "      <td>0.461181</td>\n",
              "    </tr>\n",
              "    <tr>\n",
              "      <th>4</th>\n",
              "      <td>4</td>\n",
              "      <td>25.22490</td>\n",
              "      <td>24.46752</td>\n",
              "      <td>21.76405</td>\n",
              "      <td>20.69007</td>\n",
              "      <td>19.97592</td>\n",
              "      <td>26.23128</td>\n",
              "      <td>23.61348</td>\n",
              "      <td>20.46305</td>\n",
              "      <td>19.37706</td>\n",
              "      <td>18.63556</td>\n",
              "      <td>25.20392</td>\n",
              "      <td>23.63432</td>\n",
              "      <td>21.81574</td>\n",
              "      <td>20.69833</td>\n",
              "      <td>19.95681</td>\n",
              "      <td>1.762722</td>\n",
              "      <td>2.094598</td>\n",
              "      <td>3.480688</td>\n",
              "      <td>4.283308</td>\n",
              "      <td>20.52637</td>\n",
              "      <td>19.42410</td>\n",
              "      <td>18.67056</td>\n",
              "      <td>0.642172</td>\n",
              "    </tr>\n",
              "    <tr>\n",
              "      <th>...</th>\n",
              "      <td>...</td>\n",
              "      <td>...</td>\n",
              "      <td>...</td>\n",
              "      <td>...</td>\n",
              "      <td>...</td>\n",
              "      <td>...</td>\n",
              "      <td>...</td>\n",
              "      <td>...</td>\n",
              "      <td>...</td>\n",
              "      <td>...</td>\n",
              "      <td>...</td>\n",
              "      <td>...</td>\n",
              "      <td>...</td>\n",
              "      <td>...</td>\n",
              "      <td>...</td>\n",
              "      <td>...</td>\n",
              "      <td>...</td>\n",
              "      <td>...</td>\n",
              "      <td>...</td>\n",
              "      <td>...</td>\n",
              "      <td>...</td>\n",
              "      <td>...</td>\n",
              "      <td>...</td>\n",
              "      <td>...</td>\n",
              "    </tr>\n",
              "    <tr>\n",
              "      <th>2441895</th>\n",
              "      <td>2499995</td>\n",
              "      <td>24.25570</td>\n",
              "      <td>23.01099</td>\n",
              "      <td>21.23196</td>\n",
              "      <td>20.30472</td>\n",
              "      <td>19.93614</td>\n",
              "      <td>23.31473</td>\n",
              "      <td>21.78997</td>\n",
              "      <td>20.02522</td>\n",
              "      <td>19.13366</td>\n",
              "      <td>18.76199</td>\n",
              "      <td>24.47870</td>\n",
              "      <td>23.11604</td>\n",
              "      <td>21.44318</td>\n",
              "      <td>20.50772</td>\n",
              "      <td>20.17090</td>\n",
              "      <td>1.639935</td>\n",
              "      <td>1.505080</td>\n",
              "      <td>3.582559</td>\n",
              "      <td>2.904573</td>\n",
              "      <td>20.20885</td>\n",
              "      <td>19.27012</td>\n",
              "      <td>18.86349</td>\n",
              "      <td>0.577636</td>\n",
              "    </tr>\n",
              "    <tr>\n",
              "      <th>2441896</th>\n",
              "      <td>2499996</td>\n",
              "      <td>22.74953</td>\n",
              "      <td>20.92413</td>\n",
              "      <td>20.47596</td>\n",
              "      <td>20.49193</td>\n",
              "      <td>20.28576</td>\n",
              "      <td>22.55029</td>\n",
              "      <td>20.75138</td>\n",
              "      <td>20.35955</td>\n",
              "      <td>20.40362</td>\n",
              "      <td>20.20701</td>\n",
              "      <td>22.77330</td>\n",
              "      <td>21.31367</td>\n",
              "      <td>20.80185</td>\n",
              "      <td>20.79133</td>\n",
              "      <td>20.55892</td>\n",
              "      <td>0.789819</td>\n",
              "      <td>0.704238</td>\n",
              "      <td>1.714250</td>\n",
              "      <td>1.432922</td>\n",
              "      <td>20.47752</td>\n",
              "      <td>20.49128</td>\n",
              "      <td>20.27222</td>\n",
              "      <td>3.374991</td>\n",
              "    </tr>\n",
              "    <tr>\n",
              "      <th>2441897</th>\n",
              "      <td>2499997</td>\n",
              "      <td>23.43518</td>\n",
              "      <td>24.22807</td>\n",
              "      <td>22.15212</td>\n",
              "      <td>21.01483</td>\n",
              "      <td>20.16220</td>\n",
              "      <td>23.13518</td>\n",
              "      <td>24.03269</td>\n",
              "      <td>21.56787</td>\n",
              "      <td>20.50004</td>\n",
              "      <td>19.74846</td>\n",
              "      <td>23.43972</td>\n",
              "      <td>24.25535</td>\n",
              "      <td>22.35298</td>\n",
              "      <td>21.17685</td>\n",
              "      <td>20.37539</td>\n",
              "      <td>1.261137</td>\n",
              "      <td>1.045210</td>\n",
              "      <td>3.583881</td>\n",
              "      <td>6.687465</td>\n",
              "      <td>21.62790</td>\n",
              "      <td>20.54465</td>\n",
              "      <td>19.78164</td>\n",
              "      <td>0.693724</td>\n",
              "    </tr>\n",
              "    <tr>\n",
              "      <th>2441898</th>\n",
              "      <td>2499998</td>\n",
              "      <td>21.57994</td>\n",
              "      <td>21.33937</td>\n",
              "      <td>21.00875</td>\n",
              "      <td>20.89020</td>\n",
              "      <td>20.99512</td>\n",
              "      <td>21.23898</td>\n",
              "      <td>21.05072</td>\n",
              "      <td>20.80949</td>\n",
              "      <td>20.74134</td>\n",
              "      <td>20.87878</td>\n",
              "      <td>22.11382</td>\n",
              "      <td>21.68848</td>\n",
              "      <td>21.41005</td>\n",
              "      <td>21.24844</td>\n",
              "      <td>21.49399</td>\n",
              "      <td>0.869942</td>\n",
              "      <td>0.046646</td>\n",
              "      <td>2.231194</td>\n",
              "      <td>0.076052</td>\n",
              "      <td>21.01353</td>\n",
              "      <td>20.89297</td>\n",
              "      <td>20.99157</td>\n",
              "      <td>1.507465</td>\n",
              "    </tr>\n",
              "    <tr>\n",
              "      <th>2441899</th>\n",
              "      <td>2499999</td>\n",
              "      <td>21.82280</td>\n",
              "      <td>21.38213</td>\n",
              "      <td>21.43386</td>\n",
              "      <td>20.86564</td>\n",
              "      <td>20.80775</td>\n",
              "      <td>21.39019</td>\n",
              "      <td>21.05401</td>\n",
              "      <td>21.11859</td>\n",
              "      <td>20.60785</td>\n",
              "      <td>20.67832</td>\n",
              "      <td>22.05169</td>\n",
              "      <td>21.71717</td>\n",
              "      <td>21.58672</td>\n",
              "      <td>20.88961</td>\n",
              "      <td>20.97998</td>\n",
              "      <td>0.893495</td>\n",
              "      <td>0.331073</td>\n",
              "      <td>2.340025</td>\n",
              "      <td>0.511981</td>\n",
              "      <td>21.31424</td>\n",
              "      <td>20.75324</td>\n",
              "      <td>20.78646</td>\n",
              "      <td>1.708678</td>\n",
              "    </tr>\n",
              "  </tbody>\n",
              "</table>\n",
              "<p>2441900 rows × 24 columns</p>\n",
              "</div>"
            ],
            "text/plain": [
              "         Unnamed: 0  psfMag_u  psfMag_g  ...         i         z  redshift\n",
              "0                 0  24.35021  22.78955  ...  19.31294  19.69144  0.816274\n",
              "1                 1  24.47392  22.43417  ...  19.01255  18.56230  0.556475\n",
              "2                 2  23.38084  22.54274  ...  19.49712  19.19021  0.619608\n",
              "3                 3  24.72258  22.71763  ...  19.24470  18.87388  0.461181\n",
              "4                 4  25.22490  24.46752  ...  19.42410  18.67056  0.642172\n",
              "...             ...       ...       ...  ...       ...       ...       ...\n",
              "2441895     2499995  24.25570  23.01099  ...  19.27012  18.86349  0.577636\n",
              "2441896     2499996  22.74953  20.92413  ...  20.49128  20.27222  3.374991\n",
              "2441897     2499997  23.43518  24.22807  ...  20.54465  19.78164  0.693724\n",
              "2441898     2499998  21.57994  21.33937  ...  20.89297  20.99157  1.507465\n",
              "2441899     2499999  21.82280  21.38213  ...  20.75324  20.78646  1.708678\n",
              "\n",
              "[2441900 rows x 24 columns]"
            ]
          },
          "metadata": {
            "tags": []
          },
          "execution_count": 23
        }
      ]
    },
    {
      "cell_type": "code",
      "metadata": {
        "id": "x-7S7faIjz5s"
      },
      "source": [
        "X = data.drop(\"redshift\",axis=1)   #Feature Matrix\n",
        "y = data[\"redshift\"]"
      ],
      "execution_count": null,
      "outputs": []
    },
    {
      "cell_type": "code",
      "metadata": {
        "colab": {
          "base_uri": "https://localhost:8080/"
        },
        "id": "lcZCZ0VZ69-M",
        "outputId": "85f073bc-a33f-4858-c380-423f31887b8b"
      },
      "source": [
        "type(X),X"
      ],
      "execution_count": null,
      "outputs": [
        {
          "output_type": "execute_result",
          "data": {
            "text/plain": [
              "(pandas.core.frame.DataFrame,\n",
              "          psfMag_u  psfMag_g  psfMag_r  ...         r         i         z\n",
              " 0        24.35021  22.78955  22.03197  ...  20.38345  19.31294  19.69144\n",
              " 1        24.47392  22.43417  20.73903  ...  19.99389  19.01255  18.56230\n",
              " 2        23.38084  22.54274  21.59399  ...  20.47651  19.49712  19.19021\n",
              " 3        24.72258  22.71763  20.91958  ...  20.13745  19.24470  18.87388\n",
              " 4        25.22490  24.46752  21.76405  ...  20.52637  19.42410  18.67056\n",
              " ...           ...       ...       ...  ...       ...       ...       ...\n",
              " 2440745  24.25570  23.01099  21.23196  ...  20.20885  19.27012  18.86349\n",
              " 2440746  22.74953  20.92413  20.47596  ...  20.47752  20.49128  20.27222\n",
              " 2440747  23.43518  24.22807  22.15212  ...  21.62790  20.54465  19.78164\n",
              " 2440748  21.57994  21.33937  21.00875  ...  21.01353  20.89297  20.99157\n",
              " 2440749  21.82280  21.38213  21.43386  ...  21.31424  20.75324  20.78646\n",
              " \n",
              " [2440750 rows x 18 columns])"
            ]
          },
          "metadata": {
            "tags": []
          },
          "execution_count": 6
        }
      ]
    },
    {
      "cell_type": "code",
      "metadata": {
        "id": "T4efUpAciqe6"
      },
      "source": [
        "from sklearn.model_selection import train_test_split\n",
        "X_train, X_test, y_train, y_test = train_test_split(X, y, test_size = 0.2, random_state = 0)\n"
      ],
      "execution_count": null,
      "outputs": []
    },
    {
      "cell_type": "code",
      "metadata": {
        "colab": {
          "base_uri": "https://localhost:8080/"
        },
        "id": "BBmgg-is6rTt",
        "outputId": "aa9596ce-7a19-4e32-af52-8b8d98a9391f"
      },
      "source": [
        "X_train.shape"
      ],
      "execution_count": null,
      "outputs": [
        {
          "output_type": "execute_result",
          "data": {
            "text/plain": [
              "(1953520, 23)"
            ]
          },
          "metadata": {
            "tags": []
          },
          "execution_count": 6
        }
      ]
    },
    {
      "cell_type": "code",
      "metadata": {
        "id": "tEqpDaiXjk5q"
      },
      "source": [
        "from sklearn.ensemble import RandomForestRegressor\n",
        "regressor = RandomForestRegressor(n_estimators=10, random_state=0)"
      ],
      "execution_count": null,
      "outputs": []
    },
    {
      "cell_type": "code",
      "metadata": {
        "colab": {
          "base_uri": "https://localhost:8080/"
        },
        "id": "kMq6Qx7wjO5l",
        "outputId": "db242574-4332-4fac-d976-ae2efaf4c9cc"
      },
      "source": [
        "import time \n",
        "\n",
        "start=time.process_time()\n",
        "regressor.fit(X_train, y_train) \n",
        "stop=time.process_time()\n",
        "execution_time = (stop - start)/60\n",
        "print(\"Program Executed in minutes \"+str(execution_time))\n",
        "\n"
      ],
      "execution_count": null,
      "outputs": [
        {
          "output_type": "stream",
          "text": [
            "Program Executed in minutes 20.811263093866668\n"
          ],
          "name": "stdout"
        }
      ]
    },
    {
      "cell_type": "code",
      "metadata": {
        "id": "_YwjQEeOlFBl"
      },
      "source": [
        "Y_pred=regressor.predict(X_test)"
      ],
      "execution_count": null,
      "outputs": []
    },
    {
      "cell_type": "code",
      "metadata": {
        "colab": {
          "base_uri": "https://localhost:8080/"
        },
        "id": "zW6R_b3ulUaD",
        "outputId": "b21fdb52-0314-4525-b690-5328d60807a8"
      },
      "source": [
        "from sklearn import metrics \n",
        "print(metrics.mean_absolute_error(y_test,Y_pred)) "
      ],
      "execution_count": null,
      "outputs": [
        {
          "output_type": "stream",
          "text": [
            "0.14813881890183778\n"
          ],
          "name": "stdout"
        }
      ]
    },
    {
      "cell_type": "code",
      "metadata": {
        "colab": {
          "base_uri": "https://localhost:8080/"
        },
        "id": "qb_uLVShladU",
        "outputId": "60c5e6e8-8d95-4c27-f522-7d51ac0740ed"
      },
      "source": [
        "print(metrics.mean_squared_error(y_test,Y_pred)) "
      ],
      "execution_count": null,
      "outputs": [
        {
          "output_type": "stream",
          "text": [
            "0.15615664204074545\n"
          ],
          "name": "stdout"
        }
      ]
    },
    {
      "cell_type": "code",
      "metadata": {
        "colab": {
          "base_uri": "https://localhost:8080/"
        },
        "id": "ivkBy8holeo0",
        "outputId": "853b6a5a-3afb-43ae-c682-4e49b2492ddc"
      },
      "source": [
        "print(np.sqrt(metrics.mean_squared_error(y_test,Y_pred)))"
      ],
      "execution_count": null,
      "outputs": [
        {
          "output_type": "stream",
          "text": [
            "0.39516660036084206\n"
          ],
          "name": "stdout"
        }
      ]
    },
    {
      "cell_type": "code",
      "metadata": {
        "colab": {
          "base_uri": "https://localhost:8080/"
        },
        "id": "Z_uhEaOClkJk",
        "outputId": "1dab9c3b-f29e-404d-ebfb-1e1ac618680d"
      },
      "source": [
        "from sklearn import metrics\n",
        "print(metrics.r2_score(y_test,Y_pred))"
      ],
      "execution_count": null,
      "outputs": [
        {
          "output_type": "stream",
          "text": [
            "0.707543993108593\n"
          ],
          "name": "stdout"
        }
      ]
    },
    {
      "cell_type": "code",
      "metadata": {
        "colab": {
          "base_uri": "https://localhost:8080/"
        },
        "id": "auraXSvd2CZJ",
        "outputId": "79b835dd-88fd-479e-814a-3524400a179c"
      },
      "source": [
        "len(y_train),len(Y_pred)"
      ],
      "execution_count": null,
      "outputs": [
        {
          "output_type": "execute_result",
          "data": {
            "text/plain": [
              "(1952600, 488150)"
            ]
          },
          "metadata": {
            "tags": []
          },
          "execution_count": 16
        }
      ]
    },
    {
      "cell_type": "code",
      "metadata": {
        "colab": {
          "base_uri": "https://localhost:8080/",
          "height": 295
        },
        "id": "3OGuzbSP_i95",
        "outputId": "75c03afb-50b5-40a4-a765-a3dc06c02dec"
      },
      "source": [
        "fig = plt.figure()\n",
        "ax1 = fig.add_subplot(111)\n",
        "plt.title(\"Random Forest\")\n",
        "plt.scatter(y_test[:30000], Y_pred[:30000], s=0.30, color=\"purple\")\n",
        "ax1.set_xlabel(\"Test redshift\")\n",
        "ax1.set_ylabel(\"Predicted redshift\")\n",
        "ax1.plot([0,1], [0,1], '-r',color=\"black\")\n",
        "ax1.set_xlim(0, 1)\n",
        "ax1.set_ylim(0, 1)\n",
        "\n",
        "    \n",
        "plt.show()"
      ],
      "execution_count": null,
      "outputs": [
        {
          "output_type": "display_data",
          "data": {
            "image/png": "[encoded data removed]",
            "text/plain": [
              "<Figure size 432x288 with 1 Axes>"
            ]
          },
          "metadata": {
            "tags": [],
            "needs_background": "light"
          }
        }
      ]
    },
    {
      "cell_type": "code",
      "metadata": {
        "id": "otMIAL76Eow1"
      },
      "source": [
        ""
      ],
      "execution_count": null,
      "outputs": []
    }
  ]
}