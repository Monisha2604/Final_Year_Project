{
  "nbformat": 4,
  "nbformat_minor": 0,
  "metadata": {
    "colab": {
      "name": "Classification of Random_Forest_Pyspark .ipynb",
      "provenance": [],
      "collapsed_sections": [],
      "include_colab_link": true
    },
    "kernelspec": {
      "name": "python3",
      "display_name": "Python 3"
    },
    "language_info": {
      "name": "python"
    }
  },
  "cells": [
    {
      "cell_type": "markdown",
      "metadata": {
        "id": "view-in-github",
        "colab_type": "text"
      },
      "source": [
        "<a href=\"https://colab.research.google.com/github/Monisha2604/Final_Year_Project/blob/master/Classification_of_Random_Forest_Pyspark_.ipynb\" target=\"_parent\"><img src=\"https://colab.research.google.com/assets/colab-badge.svg\" alt=\"Open In Colab\"/></a>"
      ]
    },
    {
      "cell_type": "code",
      "metadata": {
        "id": "Q7Vab09pqd6W"
      },
      "source": [
        "!apt-get install openjdk-8-jdk-headless -qq > /dev/null\n",
        "!wget -q https://www-us.apache.org/dist/spark/spark-3.0.3/spark-3.0.3-bin-hadoop2.7.tgz\n",
        "!tar xf spark-3.0.3-bin-hadoop2.7.tgz\n",
        "!pip install -q findspark"
      ],
      "execution_count": null,
      "outputs": []
    },
    {
      "cell_type": "code",
      "metadata": {
        "colab": {
          "base_uri": "https://localhost:8080/"
        },
        "id": "AypcuClhfuZ6",
        "outputId": "405f42d4-f966-407d-e46f-25d7252284fc"
      },
      "source": [
        "from google.colab import drive\n",
        "drive.mount('/content/drive')"
      ],
      "execution_count": null,
      "outputs": [
        {
          "output_type": "stream",
          "text": [
            "Mounted at /content/drive\n"
          ],
          "name": "stdout"
        }
      ]
    },
    {
      "cell_type": "code",
      "metadata": {
        "id": "pnuOhlPut0hK"
      },
      "source": [
        "import os\n",
        "os.environ[\"JAVA_HOME\"] = \"/usr/lib/jvm/java-8-openjdk-amd64\"\n",
        "os.environ[\"SPARK_HOME\"] = \"/content/spark-3.0.3-bin-hadoop2.7\"\n",
        "\n",
        "import findspark\n",
        "findspark.init()\n",
        "from pyspark.sql import SparkSession"
      ],
      "execution_count": null,
      "outputs": []
    },
    {
      "cell_type": "code",
      "metadata": {
        "id": "wLppeeYbdWNp"
      },
      "source": [
        "from pyspark import SparkContext, SparkConf\n",
        "from pyspark.sql import SQLContext\n",
        "from pyspark.ml.linalg import Vectors\n",
        "from pyspark.ml.feature import VectorIndexer"
      ],
      "execution_count": null,
      "outputs": []
    },
    {
      "cell_type": "code",
      "metadata": {
        "id": "Jp-vBAfKdBnI"
      },
      "source": [
        "conf = SparkConf().setAppName('RandomForest').setMaster('local[*]')\n",
        "sc = SparkContext(conf=conf)\n",
        "sql_context = SQLContext(sc)"
      ],
      "execution_count": null,
      "outputs": []
    },
    {
      "cell_type": "code",
      "metadata": {
        "id": "VTgflHNHdUc2"
      },
      "source": [
        "data=sql_context.read.csv(\"/content/drive/MyDrive/classification.csv\",inferSchema=True,header=True)\n"
      ],
      "execution_count": null,
      "outputs": []
    },
    {
      "cell_type": "code",
      "metadata": {
        "id": "pvH_-0wTkuIz"
      },
      "source": [
        "data=data.withColumnRenamed(\"class\",\"label\")"
      ],
      "execution_count": null,
      "outputs": []
    },
    {
      "cell_type": "code",
      "metadata": {
        "id": "8og_dRAfkEfS"
      },
      "source": [
        "data = data.withColumn(\"label\",data.label.cast('double'))"
      ],
      "execution_count": null,
      "outputs": []
    },
    {
      "cell_type": "code",
      "metadata": {
        "id": "3c-lsVkNS4CJ"
      },
      "source": [
        "from pyspark.ml import Pipeline\n",
        "from pyspark.ml.classification import RandomForestClassifier\n",
        "from pyspark.ml.feature import IndexToString, StringIndexer, VectorIndexer\n",
        "from pyspark.ml.evaluation import MulticlassClassificationEvaluator"
      ],
      "execution_count": null,
      "outputs": []
    },
    {
      "cell_type": "code",
      "metadata": {
        "id": "jjE5X9WcSsbW"
      },
      "source": [
        "labelIndexer = StringIndexer(inputCol=\"label\", outputCol=\"indexedLabel\").fit(data)\n",
        "\n",
        "# Automatically identify categorical features, and index them.\n",
        "# Set maxCategories so features with > 4 distinct values are treated as continuous.\n"
      ],
      "execution_count": null,
      "outputs": []
    },
    {
      "cell_type": "code",
      "metadata": {
        "colab": {
          "base_uri": "https://localhost:8080/"
        },
        "id": "XCVOiD2FeJEe",
        "outputId": "581029c3-47bf-4880-879e-0ede3198f4d7"
      },
      "source": [
        "data.count()"
      ],
      "execution_count": null,
      "outputs": [
        {
          "output_type": "execute_result",
          "data": {
            "text/plain": [
              "712281"
            ]
          },
          "metadata": {
            "tags": []
          },
          "execution_count": 12
        }
      ]
    },
    {
      "cell_type": "code",
      "metadata": {
        "colab": {
          "base_uri": "https://localhost:8080/"
        },
        "id": "i92ElbRiNyLO",
        "outputId": "4ab65221-3817-4378-870c-a2d7bfbef8ca"
      },
      "source": [
        "data.show()\n"
      ],
      "execution_count": null,
      "outputs": [
        {
          "output_type": "stream",
          "text": [
            "+---+------------------+------------------+------------------+------------------+------------------+------------------+------------------+---+------+-----+------------------+-----+--------------------+-----+-----+-------+\n",
            "|_c0|                ra|               dec|                 u|                 g|                 r|                 i|                 z|run|camcol|field|         specobjid|class|            redshift|plate|  mjd|fiberid|\n",
            "+---+------------------+------------------+------------------+------------------+------------------+------------------+------------------+---+------+-----+------------------+-----+--------------------+-----+-----+-------+\n",
            "|  0|  241.342916969633|1.1743006658508799|          19.51355|          19.20316|19.455779999999997|          19.71678|          19.94081|745|     6|  552|387465727008860160|    2|-2.75988499999999...|  344|51693|    568|\n",
            "|  1|  241.453356927647|  1.10397579028334|          19.27841|          18.15512|          17.91325|          17.84251|          17.83266|745|     6|  552|387464077741418496|    2|        -6.403156E-4|  344|51693|    562|\n",
            "|  2|241.76647454315497|1.1081924399987801|18.367160000000002|16.152260000000002|          15.06507|14.513720000000001|          14.05285|745|     6|  555|388525106411890688|    0|          0.02725771|  345|51690|    326|\n",
            "|  3|  241.852654857948|1.1384148436325199|          19.53237|          17.64661|          16.59679|          16.07399|15.679889999999999|745|     6|  555|388527855190960128|    0|          0.05667758|  345|51690|    336|\n",
            "|  4|  242.032774690535|  1.08536356748174|          17.92471|          16.89563|16.341070000000002|          16.06352|15.828470000000001|745|     6|  556|388535826650261504|    0|           0.0244775|  345|51690|    365|\n",
            "|  5|  242.104730406433|  1.10736196643851|19.350620000000003|          17.90006|          17.33493|          16.98621|          16.73307|745|     6|  557|388534727138633728|    0|          0.08144762|  345|51690|    361|\n",
            "|  6|  242.186566640871|  1.07892854544347|          18.87871|          17.66926|          17.05803|          16.73153|16.417289999999998|745|     6|  557|388537201039796224|    0|           0.0277606|  345|51690|    370|\n",
            "|  7|  242.103892401446|  1.13532098806702|          19.51914|          18.35248|          17.83754|17.542939999999998|          17.34665|745|     6|  557|388539125185144832|    0|          0.05574461|  345|51690|    377|\n",
            "|  8|  242.273332856091|1.0829775692963999|          19.36918|18.027379999999997|          17.53441|          17.23723|17.041320000000002|745|     6|  558|388547371522353152|    0|          0.05533386|  345|51690|    407|\n",
            "|  9|  242.427462007759|  1.07349297886343|19.352339999999998|          17.07839|          16.13249|15.789589999999999|          15.60029|745|     6|  559|388547921278167040|    2|-8.46572699999999...|  345|51690|    409|\n",
            "| 10|242.43839749038398|1.1718763639441498|          17.91883|          16.78357|          16.36801|          16.02861|           15.8854|745|     6|  559|388546272010725376|    0|          0.05555231|  345|51690|    403|\n",
            "| 11|    242.4869272738|  1.19568835470874|          17.87385|          15.88812|           15.0771|          14.77845|          14.60094|745|     6|  559|388559191272351744|    2|        -1.067304E-4|  345|51690|    450|\n",
            "| 12|  242.451059751996|  1.08957908403602|          18.46837|          17.05451|          16.43692|          16.05719|15.817210000000001|745|     6|  559|388557816882817024|    0|          0.05591223|  345|51690|    445|\n",
            "| 13|242.56254034738097|  1.19024511720709|          18.42238|18.226879999999998|          18.16234|18.026320000000002|          17.98409|745|     6|  560|388558916394444800|    1|  1.9272099999999999|  345|51690|    449|\n",
            "| 14|  242.627870184633|  1.18451696718085|          18.36225|          17.05275|          16.56915|          16.37815|          16.33203|745|     6|  560|388580356871186432|    2|        -2.194389E-4|  345|51690|    527|\n",
            "| 15|  242.591052592067|  1.24363458496336|          19.49664|          18.28441|          17.72901|          17.33362|          17.14402|745|     6|  560|388556717371189248|    0|          0.05762954|  345|51690|    441|\n",
            "| 16|  242.796982637402|   1.1870516745993|18.375729999999997|          16.87815|          16.28783|          16.05516|15.956489999999999|745|     6|  561|388591351987464192|    2|-9.54355800000000...|  345|51690|    567|\n",
            "| 17|  242.690510111464|1.2150658755735702|          18.75865|          17.75045|           17.3277|           17.0813|          16.96067|745|     6|  561|388578707603744768|    0|          0.02796681|  345|51690|    521|\n",
            "| 18|242.72789935381002|1.1207344101118102|          17.87721|          16.59167|          15.95641|          15.56669|15.331620000000001|745|     6|  561|388579532237465600|    0|          0.05804155|  345|51690|    524|\n",
            "| 19|  242.825226687736|  1.05878491956693|          18.72041|17.248720000000002|          16.62611|           16.3921|16.274070000000002|745|     6|  562|388590252475836416|    2|        -2.301595E-4|  345|51690|    563|\n",
            "+---+------------------+------------------+------------------+------------------+------------------+------------------+------------------+---+------+-----+------------------+-----+--------------------+-----+-----+-------+\n",
            "only showing top 20 rows\n",
            "\n"
          ],
          "name": "stdout"
        }
      ]
    },
    {
      "cell_type": "code",
      "metadata": {
        "id": "JB1OpzbmeM0P"
      },
      "source": [
        "from pyspark.ml.feature import VectorAssembler\n",
        "assembler=VectorAssembler(\n",
        "    inputCols=[\n",
        "               'ra',\n",
        "               'dec',\n",
        "               'u',\n",
        "               'g',\n",
        "               'r', \n",
        "              'i', \n",
        "               'z', \n",
        "               'run', \n",
        "               'camcol', \n",
        "               'field', \n",
        "               'specobjid', \n",
        "               'redshift', \n",
        "              'plate', \n",
        "               'mjd', \n",
        "               'fiberid'],\n",
        "    outputCol=\"features\"\n",
        ")"
      ],
      "execution_count": null,
      "outputs": []
    },
    {
      "cell_type": "code",
      "metadata": {
        "id": "XFzGj-CleULP"
      },
      "source": [
        "data=assembler.transform(data)"
      ],
      "execution_count": null,
      "outputs": []
    },
    {
      "cell_type": "code",
      "metadata": {
        "id": "ty8Zbx7-eW5H"
      },
      "source": [
        "output=data.select(\"features\",\"label\")"
      ],
      "execution_count": null,
      "outputs": []
    },
    {
      "cell_type": "code",
      "metadata": {
        "id": "UogTdOWufVmI"
      },
      "source": [
        "#featureIndexer=VectorIndexer(inputCol=\"features\", outputCol=\"indexedFeatures\", maxCategories=4).fit(data)"
      ],
      "execution_count": null,
      "outputs": []
    },
    {
      "cell_type": "code",
      "metadata": {
        "id": "O9JV1O9hfql8"
      },
      "source": [
        "featureIndexer =\\\n",
        "    VectorIndexer(inputCol=\"features\", outputCol=\"indexedFeatures\", maxCategories=4).fit(output)"
      ],
      "execution_count": null,
      "outputs": []
    },
    {
      "cell_type": "code",
      "metadata": {
        "id": "rzgRzvxVeali"
      },
      "source": [
        "(train_df,test_df)=output.randomSplit([0.8,0.2])"
      ],
      "execution_count": null,
      "outputs": []
    },
    {
      "cell_type": "code",
      "metadata": {
        "id": "w0ZQhIzTedd5"
      },
      "source": [
        "from pyspark.ml.regression import RandomForestRegressor\n",
        "rf = RandomForestRegressor(featuresCol=\"features\",numTrees=10)"
      ],
      "execution_count": null,
      "outputs": []
    },
    {
      "cell_type": "code",
      "metadata": {
        "id": "myUVJDwzgEWJ"
      },
      "source": [
        "from pyspark.ml import Pipeline"
      ],
      "execution_count": null,
      "outputs": []
    },
    {
      "cell_type": "code",
      "metadata": {
        "id": "IFiJleQLfD_6"
      },
      "source": [
        "pipeline = Pipeline(stages=[rf])"
      ],
      "execution_count": null,
      "outputs": []
    },
    {
      "cell_type": "code",
      "metadata": {
        "id": "1jLNhA8ygYzf"
      },
      "source": [
        "import time"
      ],
      "execution_count": null,
      "outputs": []
    },
    {
      "cell_type": "code",
      "metadata": {
        "colab": {
          "base_uri": "https://localhost:8080/"
        },
        "id": "kAHTNy96g_uq",
        "outputId": "b03cf698-cb4f-4892-847e-a6ff4e0ce5eb"
      },
      "source": [
        "output.show(3),train_df.show(2)"
      ],
      "execution_count": null,
      "outputs": [
        {
          "output_type": "stream",
          "text": [
            "+--------------------+-----+\n",
            "|            features|class|\n",
            "+--------------------+-----+\n",
            "|[241.342916969633...|    2|\n",
            "|[241.453356927647...|    2|\n",
            "|[241.766474543154...|    0|\n",
            "+--------------------+-----+\n",
            "only showing top 3 rows\n",
            "\n",
            "+--------------------+-----+\n",
            "|            features|class|\n",
            "+--------------------+-----+\n",
            "|[0.00279526841154...|    2|\n",
            "|[0.00309191408801...|    0|\n",
            "+--------------------+-----+\n",
            "only showing top 2 rows\n",
            "\n"
          ],
          "name": "stdout"
        },
        {
          "output_type": "execute_result",
          "data": {
            "text/plain": [
              "(None, None)"
            ]
          },
          "metadata": {
            "tags": []
          },
          "execution_count": 94
        }
      ]
    },
    {
      "cell_type": "code",
      "metadata": {
        "id": "txwgT7onhbSh"
      },
      "source": [
        "#train_df=train_df.withColumnRenamed(\"class\",\"label\")"
      ],
      "execution_count": null,
      "outputs": []
    },
    {
      "cell_type": "code",
      "metadata": {
        "colab": {
          "base_uri": "https://localhost:8080/"
        },
        "id": "qlFg12Ydih1Q",
        "outputId": "1c667538-6497-4111-f765-0341209209a4"
      },
      "source": [
        "train_df.show(3),\n",
        "test_df.show(2)"
      ],
      "execution_count": null,
      "outputs": [
        {
          "output_type": "stream",
          "text": [
            "+--------------------+-----+\n",
            "|            features|label|\n",
            "+--------------------+-----+\n",
            "|[0.00279526841154...|  2.0|\n",
            "|[0.00309191408801...|  0.0|\n",
            "|[0.00448112711910...|  2.0|\n",
            "+--------------------+-----+\n",
            "only showing top 3 rows\n",
            "\n",
            "+--------------------+-----+\n",
            "|            features|label|\n",
            "+--------------------+-----+\n",
            "|[0.01344820589838...|  0.0|\n",
            "|[0.01915507271166...|  0.0|\n",
            "+--------------------+-----+\n",
            "only showing top 2 rows\n",
            "\n"
          ],
          "name": "stdout"
        }
      ]
    },
    {
      "cell_type": "code",
      "metadata": {
        "colab": {
          "base_uri": "https://localhost:8080/"
        },
        "id": "dGOdljCVgBzp",
        "outputId": "c46ec474-2061-40c0-c266-32181912cbd5"
      },
      "source": [
        "import time\n",
        "start=time.process_time()\n",
        "model = pipeline.fit(train_df)\n",
        "stop=time.process_time()\n",
        "print(\"time:\",(stop-start)/30,\" mins\")"
      ],
      "execution_count": null,
      "outputs": [
        {
          "output_type": "stream",
          "text": [
            "time: 0.006358269400000023  mins\n"
          ],
          "name": "stdout"
        }
      ]
    },
    {
      "cell_type": "code",
      "metadata": {
        "id": "ybwiWzm5gm35"
      },
      "source": [
        "#test_df=test_df.select(\"features\",\"redshift\")\n",
        "test_df=test_df.withColumnRenamed(\"class\",\"label\")"
      ],
      "execution_count": null,
      "outputs": []
    },
    {
      "cell_type": "code",
      "metadata": {
        "id": "ZHpSsQVzhvJw"
      },
      "source": [
        "predictions = model.transform(test_df)"
      ],
      "execution_count": null,
      "outputs": []
    },
    {
      "cell_type": "code",
      "metadata": {
        "colab": {
          "base_uri": "https://localhost:8080/"
        },
        "id": "r_GL25eblTcI",
        "outputId": "4f88cc9f-524c-4e22-a1d8-0060f7c4358a"
      },
      "source": [
        "predictions.show()"
      ],
      "execution_count": null,
      "outputs": [
        {
          "output_type": "stream",
          "text": [
            "+--------------------+-----+-------------------+\n",
            "|            features|label|         prediction|\n",
            "+--------------------+-----+-------------------+\n",
            "|[0.01389003301186...|  0.0|0.05246883758878203|\n",
            "|[0.01848314781506...|  2.0| 1.9713502345263971|\n",
            "|[0.01915507271166...|  0.0|0.05246883758878203|\n",
            "|[0.02308862428230...|  0.0|0.06924576277631547|\n",
            "|[0.02501491786887...|  2.0| 1.9731640999606292|\n",
            "|[0.03927184173510...|  1.0| 0.9536174731583718|\n",
            "|[0.04818390721116...|  2.0| 1.8941832065074338|\n",
            "|[0.04966387809702...|  0.0|0.18931773977412655|\n",
            "|[0.05067354869208...|  0.0|0.09463353698435087|\n",
            "|[0.05440928948416...|  0.0|0.09463353698435087|\n",
            "|[0.05478375381056...|  1.0| 0.9542273222411559|\n",
            "|[0.06548326601921...|  2.0| 1.9624852589645456|\n",
            "|[0.07189364143016...|  2.0| 1.9713502345263971|\n",
            "|[0.08036979244657...|  0.0|0.05246883758878203|\n",
            "|[0.09437692644340...|  0.0|0.33311793311216753|\n",
            "|[0.09534082381657...|  2.0| 1.9816801050689847|\n",
            "|[0.09985036570731...|  2.0| 1.9713502345263971|\n",
            "|[0.10017152706370...|  2.0|   1.97192550260708|\n",
            "|[0.10261409071642...|  2.0| 1.6989401602309981|\n",
            "|[0.10739640631391...|  2.0|  1.963332694699875|\n",
            "+--------------------+-----+-------------------+\n",
            "only showing top 20 rows\n",
            "\n"
          ],
          "name": "stdout"
        }
      ]
    },
    {
      "cell_type": "code",
      "metadata": {
        "colab": {
          "base_uri": "https://localhost:8080/"
        },
        "id": "ANHDjlsojdD5",
        "outputId": "af43c07b-62d1-45a3-80d0-0308c5159667"
      },
      "source": [
        "for col in data.dtypes:\n",
        "    \n",
        "  # printing the column and datatype \n",
        "  # of that column\n",
        "  print(col[0],\",\",col[1])"
      ],
      "execution_count": null,
      "outputs": [
        {
          "output_type": "stream",
          "text": [
            "_c0 , int\n",
            "ra , double\n",
            "dec , double\n",
            "u , double\n",
            "g , double\n",
            "r , double\n",
            "i , double\n",
            "z , double\n",
            "run , int\n",
            "camcol , int\n",
            "field , int\n",
            "specobjid , decimal(20,0)\n",
            "class , int\n",
            "redshift , double\n",
            "plate , int\n",
            "mjd , int\n",
            "fiberid , int\n",
            "features , vector\n"
          ],
          "name": "stdout"
        }
      ]
    },
    {
      "cell_type": "code",
      "metadata": {
        "colab": {
          "base_uri": "https://localhost:8080/"
        },
        "id": "5bkRTxTAmB5x",
        "outputId": "1b357d36-5b09-475b-8790-a0d5b7a36697"
      },
      "source": [
        "from pyspark.sql.functions import round, col,lit\n",
        "pred=predictions.select(\"*\", round(col('prediction'))).show()"
      ],
      "execution_count": null,
      "outputs": [
        {
          "output_type": "stream",
          "text": [
            "+--------------------+-----+-------------------+--------------------+\n",
            "|            features|label|         prediction|round(prediction, 0)|\n",
            "+--------------------+-----+-------------------+--------------------+\n",
            "|[0.01344820589838...|  0.0|0.08817806196675945|                 0.0|\n",
            "|[0.01915507271166...|  0.0|0.10115858592227456|                 0.0|\n",
            "|[0.02501491786887...|  2.0|  1.992356562457423|                 2.0|\n",
            "|[0.03258568849634...|  0.0| 0.0474916057656629|                 0.0|\n",
            "|[0.03603019516873...|  2.0|  1.956482711900437|                 2.0|\n",
            "|[0.04818390721116...|  2.0| 1.9112773475290656|                 2.0|\n",
            "|[0.06660064528279...|  2.0| 1.9912493325316192|                 2.0|\n",
            "|[0.06874226460303...|  2.0| 1.9785840229820253|                 2.0|\n",
            "|[0.07242495804791...|  1.0| 0.8670958148858787|                 1.0|\n",
            "|[0.09985036570731...|  2.0| 1.9693981362404518|                 2.0|\n",
            "|[0.10261409071642...|  2.0| 1.8345331312776954|                 2.0|\n",
            "|[0.11223983612956...|  2.0| 1.9912493325316192|                 2.0|\n",
            "|[0.11446859748440...|  0.0|0.08672828166479887|                 0.0|\n",
            "|[0.12894869948218...|  0.0|0.08672828166479887|                 0.0|\n",
            "|[0.13071255308467...|  0.0|0.08817806196675945|                 0.0|\n",
            "|[0.14014638289393...|  2.0| 1.9693981362404518|                 2.0|\n",
            "|[0.15220081575182...|  2.0| 1.9912493325316192|                 2.0|\n",
            "|[0.16382725496430...|  0.0|0.07904233423722067|                 0.0|\n",
            "|[0.16608258029567...|  0.0|0.08910826916263254|                 0.0|\n",
            "|[0.18239619745105...|  1.0|  1.081842753626561|                 1.0|\n",
            "+--------------------+-----+-------------------+--------------------+\n",
            "only showing top 20 rows\n",
            "\n"
          ],
          "name": "stdout"
        }
      ]
    },
    {
      "cell_type": "code",
      "metadata": {
        "id": "TUjzBfj6o73R"
      },
      "source": [
        "from pyspark.sql import SparkSession"
      ],
      "execution_count": null,
      "outputs": []
    },
    {
      "cell_type": "code",
      "metadata": {
        "id": "P5mDkbVio2dK"
      },
      "source": [
        "spark = SparkSession.builder \\\n",
        "    .master(\"local[1]\") \\\n",
        "    .appName(\"SparkByExamples.com\") \\\n",
        "    .getOrCreate()"
      ],
      "execution_count": null,
      "outputs": []
    },
    {
      "cell_type": "code",
      "metadata": {
        "colab": {
          "base_uri": "https://localhost:8080/",
          "height": 303
        },
        "id": "qqVJem1PngQ5",
        "outputId": "9cdeb941-2f54-4f7d-90a6-0fa7b5fc9aff"
      },
      "source": [
        "df=spark.createDataFrame(pred)"
      ],
      "execution_count": null,
      "outputs": [
        {
          "output_type": "error",
          "ename": "TypeError",
          "evalue": "ignored",
          "traceback": [
            "\u001b[0;31m---------------------------------------------------------------------------\u001b[0m",
            "\u001b[0;31mTypeError\u001b[0m                                 Traceback (most recent call last)",
            "\u001b[0;32m<ipython-input-64-fe6ffcb2b330>\u001b[0m in \u001b[0;36m<module>\u001b[0;34m()\u001b[0m\n\u001b[0;32m----> 1\u001b[0;31m \u001b[0mdf\u001b[0m\u001b[0;34m=\u001b[0m\u001b[0mspark\u001b[0m\u001b[0;34m.\u001b[0m\u001b[0mcreateDataFrame\u001b[0m\u001b[0;34m(\u001b[0m\u001b[0mpred\u001b[0m\u001b[0;34m)\u001b[0m\u001b[0;34m\u001b[0m\u001b[0;34m\u001b[0m\u001b[0m\n\u001b[0m",
            "\u001b[0;32m/content/spark-3.0.3-bin-hadoop2.7/python/pyspark/sql/session.py\u001b[0m in \u001b[0;36mcreateDataFrame\u001b[0;34m(self, data, schema, samplingRatio, verifySchema)\u001b[0m\n\u001b[1;32m    603\u001b[0m             return super(SparkSession, self).createDataFrame(\n\u001b[1;32m    604\u001b[0m                 data, schema, samplingRatio, verifySchema)\n\u001b[0;32m--> 605\u001b[0;31m         \u001b[0;32mreturn\u001b[0m \u001b[0mself\u001b[0m\u001b[0;34m.\u001b[0m\u001b[0m_create_dataframe\u001b[0m\u001b[0;34m(\u001b[0m\u001b[0mdata\u001b[0m\u001b[0;34m,\u001b[0m \u001b[0mschema\u001b[0m\u001b[0;34m,\u001b[0m \u001b[0msamplingRatio\u001b[0m\u001b[0;34m,\u001b[0m \u001b[0mverifySchema\u001b[0m\u001b[0;34m)\u001b[0m\u001b[0;34m\u001b[0m\u001b[0;34m\u001b[0m\u001b[0m\n\u001b[0m\u001b[1;32m    606\u001b[0m \u001b[0;34m\u001b[0m\u001b[0m\n\u001b[1;32m    607\u001b[0m     \u001b[0;32mdef\u001b[0m \u001b[0m_create_dataframe\u001b[0m\u001b[0;34m(\u001b[0m\u001b[0mself\u001b[0m\u001b[0;34m,\u001b[0m \u001b[0mdata\u001b[0m\u001b[0;34m,\u001b[0m \u001b[0mschema\u001b[0m\u001b[0;34m,\u001b[0m \u001b[0msamplingRatio\u001b[0m\u001b[0;34m,\u001b[0m \u001b[0mverifySchema\u001b[0m\u001b[0;34m)\u001b[0m\u001b[0;34m:\u001b[0m\u001b[0;34m\u001b[0m\u001b[0;34m\u001b[0m\u001b[0m\n",
            "\u001b[0;32m/content/spark-3.0.3-bin-hadoop2.7/python/pyspark/sql/session.py\u001b[0m in \u001b[0;36m_create_dataframe\u001b[0;34m(self, data, schema, samplingRatio, verifySchema)\u001b[0m\n\u001b[1;32m    628\u001b[0m             \u001b[0mrdd\u001b[0m\u001b[0;34m,\u001b[0m \u001b[0mschema\u001b[0m \u001b[0;34m=\u001b[0m \u001b[0mself\u001b[0m\u001b[0;34m.\u001b[0m\u001b[0m_createFromRDD\u001b[0m\u001b[0;34m(\u001b[0m\u001b[0mdata\u001b[0m\u001b[0;34m.\u001b[0m\u001b[0mmap\u001b[0m\u001b[0;34m(\u001b[0m\u001b[0mprepare\u001b[0m\u001b[0;34m)\u001b[0m\u001b[0;34m,\u001b[0m \u001b[0mschema\u001b[0m\u001b[0;34m,\u001b[0m \u001b[0msamplingRatio\u001b[0m\u001b[0;34m)\u001b[0m\u001b[0;34m\u001b[0m\u001b[0;34m\u001b[0m\u001b[0m\n\u001b[1;32m    629\u001b[0m         \u001b[0;32melse\u001b[0m\u001b[0;34m:\u001b[0m\u001b[0;34m\u001b[0m\u001b[0;34m\u001b[0m\u001b[0m\n\u001b[0;32m--> 630\u001b[0;31m             \u001b[0mrdd\u001b[0m\u001b[0;34m,\u001b[0m \u001b[0mschema\u001b[0m \u001b[0;34m=\u001b[0m \u001b[0mself\u001b[0m\u001b[0;34m.\u001b[0m\u001b[0m_createFromLocal\u001b[0m\u001b[0;34m(\u001b[0m\u001b[0mmap\u001b[0m\u001b[0;34m(\u001b[0m\u001b[0mprepare\u001b[0m\u001b[0;34m,\u001b[0m \u001b[0mdata\u001b[0m\u001b[0;34m)\u001b[0m\u001b[0;34m,\u001b[0m \u001b[0mschema\u001b[0m\u001b[0;34m)\u001b[0m\u001b[0;34m\u001b[0m\u001b[0;34m\u001b[0m\u001b[0m\n\u001b[0m\u001b[1;32m    631\u001b[0m         \u001b[0mjrdd\u001b[0m \u001b[0;34m=\u001b[0m \u001b[0mself\u001b[0m\u001b[0;34m.\u001b[0m\u001b[0m_jvm\u001b[0m\u001b[0;34m.\u001b[0m\u001b[0mSerDeUtil\u001b[0m\u001b[0;34m.\u001b[0m\u001b[0mtoJavaArray\u001b[0m\u001b[0;34m(\u001b[0m\u001b[0mrdd\u001b[0m\u001b[0;34m.\u001b[0m\u001b[0m_to_java_object_rdd\u001b[0m\u001b[0;34m(\u001b[0m\u001b[0;34m)\u001b[0m\u001b[0;34m)\u001b[0m\u001b[0;34m\u001b[0m\u001b[0;34m\u001b[0m\u001b[0m\n\u001b[1;32m    632\u001b[0m         \u001b[0mjdf\u001b[0m \u001b[0;34m=\u001b[0m \u001b[0mself\u001b[0m\u001b[0;34m.\u001b[0m\u001b[0m_jsparkSession\u001b[0m\u001b[0;34m.\u001b[0m\u001b[0mapplySchemaToPythonRDD\u001b[0m\u001b[0;34m(\u001b[0m\u001b[0mjrdd\u001b[0m\u001b[0;34m.\u001b[0m\u001b[0mrdd\u001b[0m\u001b[0;34m(\u001b[0m\u001b[0;34m)\u001b[0m\u001b[0;34m,\u001b[0m \u001b[0mschema\u001b[0m\u001b[0;34m.\u001b[0m\u001b[0mjson\u001b[0m\u001b[0;34m(\u001b[0m\u001b[0;34m)\u001b[0m\u001b[0;34m)\u001b[0m\u001b[0;34m\u001b[0m\u001b[0;34m\u001b[0m\u001b[0m\n",
            "\u001b[0;31mTypeError\u001b[0m: 'NoneType' object is not iterable"
          ]
        }
      ]
    },
    {
      "cell_type": "code",
      "metadata": {
        "id": "dTQmL-PLlasm"
      },
      "source": [
        "import pyspark.sql.functions as func"
      ],
      "execution_count": null,
      "outputs": []
    },
    {
      "cell_type": "code",
      "metadata": {
        "colab": {
          "base_uri": "https://localhost:8080/",
          "height": 279
        },
        "id": "dH3iETufkZaQ",
        "outputId": "f1617cc0-2cb0-442a-ace9-43693504c869"
      },
      "source": [
        "df2 = predictions.withColumn(\"label\",predictions.select(\"*\", round(predictions['prediction'])))"
      ],
      "execution_count": null,
      "outputs": [
        {
          "output_type": "error",
          "ename": "AssertionError",
          "evalue": "ignored",
          "traceback": [
            "\u001b[0;31m---------------------------------------------------------------------------\u001b[0m",
            "\u001b[0;31mAssertionError\u001b[0m                            Traceback (most recent call last)",
            "\u001b[0;32m<ipython-input-53-6f14de085204>\u001b[0m in \u001b[0;36m<module>\u001b[0;34m()\u001b[0m\n\u001b[0;32m----> 1\u001b[0;31m \u001b[0mdf2\u001b[0m \u001b[0;34m=\u001b[0m \u001b[0mpredictions\u001b[0m\u001b[0;34m.\u001b[0m\u001b[0mwithColumn\u001b[0m\u001b[0;34m(\u001b[0m\u001b[0;34m\"label\"\u001b[0m\u001b[0;34m,\u001b[0m\u001b[0mpredictions\u001b[0m\u001b[0;34m.\u001b[0m\u001b[0mselect\u001b[0m\u001b[0;34m(\u001b[0m\u001b[0;34m\"*\"\u001b[0m\u001b[0;34m,\u001b[0m \u001b[0mround\u001b[0m\u001b[0;34m(\u001b[0m\u001b[0mpredictions\u001b[0m\u001b[0;34m[\u001b[0m\u001b[0;34m'prediction'\u001b[0m\u001b[0;34m]\u001b[0m\u001b[0;34m)\u001b[0m\u001b[0;34m)\u001b[0m\u001b[0;34m)\u001b[0m\u001b[0;34m\u001b[0m\u001b[0;34m\u001b[0m\u001b[0m\n\u001b[0m",
            "\u001b[0;32m/content/spark-3.0.3-bin-hadoop2.7/python/pyspark/sql/dataframe.py\u001b[0m in \u001b[0;36mwithColumn\u001b[0;34m(self, colName, col)\u001b[0m\n\u001b[1;32m   2093\u001b[0m \u001b[0;34m\u001b[0m\u001b[0m\n\u001b[1;32m   2094\u001b[0m         \"\"\"\n\u001b[0;32m-> 2095\u001b[0;31m         \u001b[0;32massert\u001b[0m \u001b[0misinstance\u001b[0m\u001b[0;34m(\u001b[0m\u001b[0mcol\u001b[0m\u001b[0;34m,\u001b[0m \u001b[0mColumn\u001b[0m\u001b[0;34m)\u001b[0m\u001b[0;34m,\u001b[0m \u001b[0;34m\"col should be Column\"\u001b[0m\u001b[0;34m\u001b[0m\u001b[0;34m\u001b[0m\u001b[0m\n\u001b[0m\u001b[1;32m   2096\u001b[0m         \u001b[0;32mreturn\u001b[0m \u001b[0mDataFrame\u001b[0m\u001b[0;34m(\u001b[0m\u001b[0mself\u001b[0m\u001b[0;34m.\u001b[0m\u001b[0m_jdf\u001b[0m\u001b[0;34m.\u001b[0m\u001b[0mwithColumn\u001b[0m\u001b[0;34m(\u001b[0m\u001b[0mcolName\u001b[0m\u001b[0;34m,\u001b[0m \u001b[0mcol\u001b[0m\u001b[0;34m.\u001b[0m\u001b[0m_jc\u001b[0m\u001b[0;34m)\u001b[0m\u001b[0;34m,\u001b[0m \u001b[0mself\u001b[0m\u001b[0;34m.\u001b[0m\u001b[0msql_ctx\u001b[0m\u001b[0;34m)\u001b[0m\u001b[0;34m\u001b[0m\u001b[0;34m\u001b[0m\u001b[0m\n\u001b[1;32m   2097\u001b[0m \u001b[0;34m\u001b[0m\u001b[0m\n",
            "\u001b[0;31mAssertionError\u001b[0m: col should be Column"
          ]
        }
      ]
    },
    {
      "cell_type": "code",
      "metadata": {
        "colab": {
          "base_uri": "https://localhost:8080/"
        },
        "id": "3bj-eL9XiT0H",
        "outputId": "462b3729-7d0b-4687-8770-011698fe3df4"
      },
      "source": [
        "df2.show()"
      ],
      "execution_count": null,
      "outputs": [
        {
          "output_type": "stream",
          "text": [
            "+--------------------+-----+-------------------+\n",
            "|            features|label|         prediction|\n",
            "+--------------------+-----+-------------------+\n",
            "|[0.01344820589838...|  0.0|0.08817806196675945|\n",
            "|[0.01915507271166...|  0.0|0.10115858592227456|\n",
            "|[0.02501491786887...|  2.0|  1.992356562457423|\n",
            "|[0.03258568849634...|  0.0| 0.0474916057656629|\n",
            "|[0.03603019516873...|  2.0|  1.956482711900437|\n",
            "|[0.04818390721116...|  2.0| 1.9112773475290656|\n",
            "|[0.06660064528279...|  2.0| 1.9912493325316192|\n",
            "|[0.06874226460303...|  2.0| 1.9785840229820253|\n",
            "|[0.07242495804791...|  1.0| 0.8670958148858787|\n",
            "|[0.09985036570731...|  2.0| 1.9693981362404518|\n",
            "|[0.10261409071642...|  2.0| 1.8345331312776954|\n",
            "|[0.11223983612956...|  2.0| 1.9912493325316192|\n",
            "|[0.11446859748440...|  0.0|0.08672828166479887|\n",
            "|[0.12894869948218...|  0.0|0.08672828166479887|\n",
            "|[0.13071255308467...|  0.0|0.08817806196675945|\n",
            "|[0.14014638289393...|  2.0| 1.9693981362404518|\n",
            "|[0.15220081575182...|  2.0| 1.9912493325316192|\n",
            "|[0.16382725496430...|  0.0|0.07904233423722067|\n",
            "|[0.16608258029567...|  0.0|0.08910826916263254|\n",
            "|[0.18239619745105...|  1.0|  1.081842753626561|\n",
            "+--------------------+-----+-------------------+\n",
            "only showing top 20 rows\n",
            "\n"
          ],
          "name": "stdout"
        }
      ]
    },
    {
      "cell_type": "code",
      "metadata": {
        "colab": {
          "base_uri": "https://localhost:8080/"
        },
        "id": "zUaLkWvaVL8B",
        "outputId": "d0acd7bc-fb99-48d0-804d-681cd7f6c336"
      },
      "source": [
        "\n",
        "\n",
        "# Select example rows to display.\n",
        "predictions.select(\"prediction\", \"label\", \"features\").show(5)\n",
        "\n",
        "# Select (prediction, true label) and compute test error\n",
        "evaluator = MulticlassClassificationEvaluator(\n",
        "    labelCol=\"label\", predictionCol=\"prediction\", metricName=\"accuracy\")\n",
        "accuracy = evaluator.evaluate(predictions)\n",
        "print(\"Test Error = %g\" % (accuracy))\n",
        "\n"
      ],
      "execution_count": null,
      "outputs": [
        {
          "output_type": "stream",
          "text": [
            "+-------------------+-----+--------------------+\n",
            "|         prediction|label|            features|\n",
            "+-------------------+-----+--------------------+\n",
            "|0.05246883758878203|  0.0|[0.01389003301186...|\n",
            "| 1.9713502345263971|  2.0|[0.01848314781506...|\n",
            "|0.05246883758878203|  0.0|[0.01915507271166...|\n",
            "|0.06924576277631547|  0.0|[0.02308862428230...|\n",
            "| 1.9731640999606292|  2.0|[0.02501491786887...|\n",
            "+-------------------+-----+--------------------+\n",
            "only showing top 5 rows\n",
            "\n",
            "Test Error = 0\n"
          ],
          "name": "stdout"
        }
      ]
    },
    {
      "cell_type": "code",
      "metadata": {
        "id": "DWySlHz6bdD1"
      },
      "source": [
        "pandas_df = predictions.select(\"*\").toPandas()"
      ],
      "execution_count": null,
      "outputs": []
    },
    {
      "cell_type": "code",
      "metadata": {
        "id": "2TxzxmE4e1k5"
      },
      "source": [
        "pandas_df['prediction']=pandas_df['prediction'].round(0)"
      ],
      "execution_count": null,
      "outputs": []
    },
    {
      "cell_type": "code",
      "metadata": {
        "colab": {
          "base_uri": "https://localhost:8080/",
          "height": 203
        },
        "id": "N8Mc03DmqArC",
        "outputId": "f4f4e9f1-e2ca-424f-c217-b01b5d5eb980"
      },
      "source": [
        "pandas_df.head()"
      ],
      "execution_count": null,
      "outputs": [
        {
          "output_type": "execute_result",
          "data": {
            "text/html": [
              "<div>\n",
              "<style scoped>\n",
              "    .dataframe tbody tr th:only-of-type {\n",
              "        vertical-align: middle;\n",
              "    }\n",
              "\n",
              "    .dataframe tbody tr th {\n",
              "        vertical-align: top;\n",
              "    }\n",
              "\n",
              "    .dataframe thead th {\n",
              "        text-align: right;\n",
              "    }\n",
              "</style>\n",
              "<table border=\"1\" class=\"dataframe\">\n",
              "  <thead>\n",
              "    <tr style=\"text-align: right;\">\n",
              "      <th></th>\n",
              "      <th>features</th>\n",
              "      <th>label</th>\n",
              "      <th>prediction</th>\n",
              "    </tr>\n",
              "  </thead>\n",
              "  <tbody>\n",
              "    <tr>\n",
              "      <th>0</th>\n",
              "      <td>[0.0134482058983849, -1.11302619848276, 18.696...</td>\n",
              "      <td>0.0</td>\n",
              "      <td>0.0</td>\n",
              "    </tr>\n",
              "    <tr>\n",
              "      <th>1</th>\n",
              "      <td>[0.0191550727116692, -10.9763042314022, 19.035...</td>\n",
              "      <td>0.0</td>\n",
              "      <td>0.0</td>\n",
              "    </tr>\n",
              "    <tr>\n",
              "      <th>2</th>\n",
              "      <td>[0.025014917868873, 24.9795121086878, 18.20867...</td>\n",
              "      <td>2.0</td>\n",
              "      <td>2.0</td>\n",
              "    </tr>\n",
              "    <tr>\n",
              "      <th>3</th>\n",
              "      <td>[0.03258568849634, -0.0405799798589323, 16.882...</td>\n",
              "      <td>0.0</td>\n",
              "      <td>0.0</td>\n",
              "    </tr>\n",
              "    <tr>\n",
              "      <th>4</th>\n",
              "      <td>[0.0360301951687347, 15.2210707527229, 18.2129...</td>\n",
              "      <td>2.0</td>\n",
              "      <td>2.0</td>\n",
              "    </tr>\n",
              "  </tbody>\n",
              "</table>\n",
              "</div>"
            ],
            "text/plain": [
              "                                            features  label  prediction\n",
              "0  [0.0134482058983849, -1.11302619848276, 18.696...    0.0         0.0\n",
              "1  [0.0191550727116692, -10.9763042314022, 19.035...    0.0         0.0\n",
              "2  [0.025014917868873, 24.9795121086878, 18.20867...    2.0         2.0\n",
              "3  [0.03258568849634, -0.0405799798589323, 16.882...    0.0         0.0\n",
              "4  [0.0360301951687347, 15.2210707527229, 18.2129...    2.0         2.0"
            ]
          },
          "metadata": {
            "tags": []
          },
          "execution_count": 72
        }
      ]
    },
    {
      "cell_type": "code",
      "metadata": {
        "id": "iMGNfS0Nqjpi"
      },
      "source": [
        "df=spark.createDataFrame(pandas_df)"
      ],
      "execution_count": null,
      "outputs": []
    },
    {
      "cell_type": "code",
      "metadata": {
        "colab": {
          "base_uri": "https://localhost:8080/"
        },
        "id": "laiTj19cqhcQ",
        "outputId": "2301c2c1-36b2-4d7a-b219-d54c54fef05d"
      },
      "source": [
        "evaluator = MulticlassClassificationEvaluator(\n",
        "    labelCol=\"label\", predictionCol=\"prediction\", metricName=\"accuracy\")\n",
        "accuracy = evaluator.evaluate(df)\n",
        "print(\"Accuracy = %g\" % (accuracy))\n"
      ],
      "execution_count": null,
      "outputs": [
        {
          "output_type": "stream",
          "text": [
            "Accuracy = 0.976363\n"
          ],
          "name": "stdout"
        }
      ]
    },
    {
      "cell_type": "code",
      "metadata": {
        "id": "dG0YzLxbecBE"
      },
      "source": [
        " from sklearn.metrics import precision_score,recall_score"
      ],
      "execution_count": null,
      "outputs": []
    },
    {
      "cell_type": "code",
      "metadata": {
        "colab": {
          "base_uri": "https://localhost:8080/"
        },
        "id": "XmYxMJNAiD4U",
        "outputId": "c7455d44-1216-422c-acdf-8c75821a2284"
      },
      "source": [
        "predictions.show(5)"
      ],
      "execution_count": null,
      "outputs": [
        {
          "output_type": "stream",
          "text": [
            "+--------------------+-----+-------------------+\n",
            "|            features|label|         prediction|\n",
            "+--------------------+-----+-------------------+\n",
            "|[0.00309191408801...|    0|0.04027367679185538|\n",
            "|[0.01606872091895...|    2| 1.9460147633740337|\n",
            "|[0.01975416749075...|    0|0.04027367679185538|\n",
            "|[0.02308862428230...|    0|0.04027367679185538|\n",
            "|[0.03146774942922...|    2| 1.8080214551390046|\n",
            "+--------------------+-----+-------------------+\n",
            "only showing top 5 rows\n",
            "\n"
          ],
          "name": "stdout"
        }
      ]
    }
  ]
}