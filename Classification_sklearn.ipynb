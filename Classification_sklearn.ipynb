{
  "nbformat": 4,
  "nbformat_minor": 0,
  "metadata": {
    "colab": {
      "name": "Classification_sklearn.ipynb",
      "provenance": [],
      "collapsed_sections": [],
      "include_colab_link": true
    },
    "kernelspec": {
      "name": "python3",
      "display_name": "Python 3"
    },
    "language_info": {
      "name": "python"
    }
  },
  "cells": [
    {
      "cell_type": "markdown",
      "metadata": {
        "id": "view-in-github",
        "colab_type": "text"
      },
      "source": [
        "<a href=\"https://colab.research.google.com/github/Monisha2604/Final_Year_Project/blob/master/Classification_sklearn.ipynb\" target=\"_parent\"><img src=\"https://colab.research.google.com/assets/colab-badge.svg\" alt=\"Open In Colab\"/></a>"
      ]
    },
    {
      "cell_type": "code",
      "metadata": {
        "id": "SWopX0b7FTHv"
      },
      "source": [
        "import numpy as np \n",
        "import pandas as pd \n",
        "import matplotlib.pyplot as plt\n",
        "import seaborn as sb"
      ],
      "execution_count": null,
      "outputs": []
    },
    {
      "cell_type": "code",
      "metadata": {
        "id": "B3uDluswIh-G"
      },
      "source": [
        "from sklearn.preprocessing import LabelEncoder,StandardScaler\n",
        "from sklearn.model_selection import train_test_split,GridSearchCV,cross_val_predict,cross_val_score\n",
        "from sklearn.metrics import precision_score,recall_score,f1_score,confusion_matrix"
      ],
      "execution_count": null,
      "outputs": []
    },
    {
      "cell_type": "code",
      "metadata": {
        "id": "WL-QgFz5Inn2"
      },
      "source": [
        "from sklearn.neighbors import KNeighborsClassifier\n",
        "from sklearn.svm import SVC"
      ],
      "execution_count": null,
      "outputs": []
    },
    {
      "cell_type": "code",
      "metadata": {
        "id": "qhZdijKrIuMl",
        "colab": {
          "base_uri": "https://localhost:8080/",
          "height": 346
        },
        "outputId": "e6907ba9-c06d-43ba-af74-68be28fd8308"
      },
      "source": [
        "from sklearn.ensemble import AdaBoostClassifier,RandomForestClassifier\n",
        "from tensorflow import keras\n",
        "from keras.layers import Dense,Dropout,Input\n",
        "from keras.models import Model\n",
        "from keras.utils import to_categorical,plot_model\n",
        "\n"
      ],
      "execution_count": null,
      "outputs": [
        {
          "output_type": "error",
          "ename": "ImportError",
          "evalue": "ignored",
          "traceback": [
            "\u001b[0;31m---------------------------------------------------------------------------\u001b[0m",
            "\u001b[0;31mImportError\u001b[0m                               Traceback (most recent call last)",
            "\u001b[0;32m<ipython-input-4-9a8950206a65>\u001b[0m in \u001b[0;36m<module>\u001b[0;34m()\u001b[0m\n\u001b[1;32m      3\u001b[0m \u001b[0;32mfrom\u001b[0m \u001b[0mkeras\u001b[0m\u001b[0;34m.\u001b[0m\u001b[0mlayers\u001b[0m \u001b[0;32mimport\u001b[0m \u001b[0mDense\u001b[0m\u001b[0;34m,\u001b[0m\u001b[0mDropout\u001b[0m\u001b[0;34m,\u001b[0m\u001b[0mInput\u001b[0m\u001b[0;34m\u001b[0m\u001b[0;34m\u001b[0m\u001b[0m\n\u001b[1;32m      4\u001b[0m \u001b[0;32mfrom\u001b[0m \u001b[0mkeras\u001b[0m\u001b[0;34m.\u001b[0m\u001b[0mmodels\u001b[0m \u001b[0;32mimport\u001b[0m \u001b[0mModel\u001b[0m\u001b[0;34m\u001b[0m\u001b[0;34m\u001b[0m\u001b[0m\n\u001b[0;32m----> 5\u001b[0;31m \u001b[0;32mfrom\u001b[0m \u001b[0mkeras\u001b[0m\u001b[0;34m.\u001b[0m\u001b[0mutils\u001b[0m \u001b[0;32mimport\u001b[0m \u001b[0mto_categorical\u001b[0m\u001b[0;34m,\u001b[0m\u001b[0mplot_model\u001b[0m\u001b[0;34m\u001b[0m\u001b[0;34m\u001b[0m\u001b[0m\n\u001b[0m\u001b[1;32m      6\u001b[0m \u001b[0;34m\u001b[0m\u001b[0m\n",
            "\u001b[0;31mImportError\u001b[0m: cannot import name 'to_categorical' from 'keras.utils' (/usr/local/lib/python3.7/dist-packages/keras/utils/__init__.py)",
            "",
            "\u001b[0;31m---------------------------------------------------------------------------\u001b[0;32m\nNOTE: If your import is failing due to a missing package, you can\nmanually install dependencies using either !pip or !apt.\n\nTo view examples of installing some common dependencies, click the\n\"Open Examples\" button below.\n\u001b[0;31m---------------------------------------------------------------------------\u001b[0m\n"
          ]
        }
      ]
    },
    {
      "cell_type": "code",
      "metadata": {
        "id": "ArN0qiYxIv-d"
      },
      "source": [
        "data=pd.read_csv(\"/content/drive/MyDrive/MyTable_Sourav_0 (1).csv\")"
      ],
      "execution_count": null,
      "outputs": []
    },
    {
      "cell_type": "code",
      "metadata": {
        "colab": {
          "base_uri": "https://localhost:8080/",
          "height": 223
        },
        "id": "ztWT8l6sLMrE",
        "outputId": "b1881a69-84d2-44c7-b9f7-68efcd87247a"
      },
      "source": [
        "data.head()"
      ],
      "execution_count": null,
      "outputs": [
        {
          "output_type": "execute_result",
          "data": {
            "text/html": [
              "<div>\n",
              "<style scoped>\n",
              "    .dataframe tbody tr th:only-of-type {\n",
              "        vertical-align: middle;\n",
              "    }\n",
              "\n",
              "    .dataframe tbody tr th {\n",
              "        vertical-align: top;\n",
              "    }\n",
              "\n",
              "    .dataframe thead th {\n",
              "        text-align: right;\n",
              "    }\n",
              "</style>\n",
              "<table border=\"1\" class=\"dataframe\">\n",
              "  <thead>\n",
              "    <tr style=\"text-align: right;\">\n",
              "      <th></th>\n",
              "      <th>objid</th>\n",
              "      <th>ra</th>\n",
              "      <th>dec</th>\n",
              "      <th>u</th>\n",
              "      <th>g</th>\n",
              "      <th>r</th>\n",
              "      <th>i</th>\n",
              "      <th>z</th>\n",
              "      <th>run</th>\n",
              "      <th>rerun</th>\n",
              "      <th>camcol</th>\n",
              "      <th>field</th>\n",
              "      <th>specobjid</th>\n",
              "      <th>class</th>\n",
              "      <th>redshift</th>\n",
              "      <th>plate</th>\n",
              "      <th>mjd</th>\n",
              "      <th>fiberid</th>\n",
              "    </tr>\n",
              "  </thead>\n",
              "  <tbody>\n",
              "    <tr>\n",
              "      <th>0</th>\n",
              "      <td>1237648675604791614</td>\n",
              "      <td>241.342917</td>\n",
              "      <td>1.174301</td>\n",
              "      <td>19.51355</td>\n",
              "      <td>19.20316</td>\n",
              "      <td>19.45578</td>\n",
              "      <td>19.71678</td>\n",
              "      <td>19.94081</td>\n",
              "      <td>745</td>\n",
              "      <td>301</td>\n",
              "      <td>6</td>\n",
              "      <td>552</td>\n",
              "      <td>387465727008860160</td>\n",
              "      <td>STAR</td>\n",
              "      <td>-0.000276</td>\n",
              "      <td>344</td>\n",
              "      <td>51693</td>\n",
              "      <td>568</td>\n",
              "    </tr>\n",
              "    <tr>\n",
              "      <th>1</th>\n",
              "      <td>1237648675604791855</td>\n",
              "      <td>241.453357</td>\n",
              "      <td>1.103976</td>\n",
              "      <td>19.27841</td>\n",
              "      <td>18.15512</td>\n",
              "      <td>17.91325</td>\n",
              "      <td>17.84251</td>\n",
              "      <td>17.83266</td>\n",
              "      <td>745</td>\n",
              "      <td>301</td>\n",
              "      <td>6</td>\n",
              "      <td>552</td>\n",
              "      <td>387464077741418496</td>\n",
              "      <td>STAR</td>\n",
              "      <td>-0.000640</td>\n",
              "      <td>344</td>\n",
              "      <td>51693</td>\n",
              "      <td>562</td>\n",
              "    </tr>\n",
              "    <tr>\n",
              "      <th>2</th>\n",
              "      <td>1237648675604987914</td>\n",
              "      <td>241.766475</td>\n",
              "      <td>1.108192</td>\n",
              "      <td>18.36716</td>\n",
              "      <td>16.15226</td>\n",
              "      <td>15.06507</td>\n",
              "      <td>14.51372</td>\n",
              "      <td>14.05285</td>\n",
              "      <td>745</td>\n",
              "      <td>301</td>\n",
              "      <td>6</td>\n",
              "      <td>555</td>\n",
              "      <td>388525106411890688</td>\n",
              "      <td>GALAXY</td>\n",
              "      <td>0.027258</td>\n",
              "      <td>345</td>\n",
              "      <td>51690</td>\n",
              "      <td>326</td>\n",
              "    </tr>\n",
              "    <tr>\n",
              "      <th>3</th>\n",
              "      <td>1237648675604988405</td>\n",
              "      <td>241.852655</td>\n",
              "      <td>1.138415</td>\n",
              "      <td>19.53237</td>\n",
              "      <td>17.64661</td>\n",
              "      <td>16.59679</td>\n",
              "      <td>16.07399</td>\n",
              "      <td>15.67989</td>\n",
              "      <td>745</td>\n",
              "      <td>301</td>\n",
              "      <td>6</td>\n",
              "      <td>555</td>\n",
              "      <td>388527855190960128</td>\n",
              "      <td>GALAXY</td>\n",
              "      <td>0.056678</td>\n",
              "      <td>345</td>\n",
              "      <td>51690</td>\n",
              "      <td>336</td>\n",
              "    </tr>\n",
              "    <tr>\n",
              "      <th>4</th>\n",
              "      <td>1237648675605053923</td>\n",
              "      <td>242.032775</td>\n",
              "      <td>1.085364</td>\n",
              "      <td>17.92471</td>\n",
              "      <td>16.89563</td>\n",
              "      <td>16.34107</td>\n",
              "      <td>16.06352</td>\n",
              "      <td>15.82847</td>\n",
              "      <td>745</td>\n",
              "      <td>301</td>\n",
              "      <td>6</td>\n",
              "      <td>556</td>\n",
              "      <td>388535826650261504</td>\n",
              "      <td>GALAXY</td>\n",
              "      <td>0.024477</td>\n",
              "      <td>345</td>\n",
              "      <td>51690</td>\n",
              "      <td>365</td>\n",
              "    </tr>\n",
              "  </tbody>\n",
              "</table>\n",
              "</div>"
            ],
            "text/plain": [
              "                 objid          ra       dec  ...  plate    mjd  fiberid\n",
              "0  1237648675604791614  241.342917  1.174301  ...    344  51693      568\n",
              "1  1237648675604791855  241.453357  1.103976  ...    344  51693      562\n",
              "2  1237648675604987914  241.766475  1.108192  ...    345  51690      326\n",
              "3  1237648675604988405  241.852655  1.138415  ...    345  51690      336\n",
              "4  1237648675605053923  242.032775  1.085364  ...    345  51690      365\n",
              "\n",
              "[5 rows x 18 columns]"
            ]
          },
          "metadata": {
            "tags": []
          },
          "execution_count": 6
        }
      ]
    },
    {
      "cell_type": "code",
      "metadata": {
        "id": "3jew3YaqLRd6"
      },
      "source": [
        "enc = LabelEncoder()\n",
        "data['class'] = enc.fit_transform(data['class']) # Galaxy: 0 ,QSO : 1, Star : 2\n",
        "data.drop(['objid','rerun'],1,inplace=True) #dropping objid because it is basicaly id and rerun has the same value of 301 across the entire dataset\n"
      ],
      "execution_count": null,
      "outputs": []
    },
    {
      "cell_type": "code",
      "metadata": {
        "colab": {
          "base_uri": "https://localhost:8080/",
          "height": 437
        },
        "id": "dBy4JCKjLXNG",
        "outputId": "8da0117a-4a60-4afa-a9f4-94e72487cfd0"
      },
      "source": [
        "data"
      ],
      "execution_count": null,
      "outputs": [
        {
          "output_type": "execute_result",
          "data": {
            "text/html": [
              "<div>\n",
              "<style scoped>\n",
              "    .dataframe tbody tr th:only-of-type {\n",
              "        vertical-align: middle;\n",
              "    }\n",
              "\n",
              "    .dataframe tbody tr th {\n",
              "        vertical-align: top;\n",
              "    }\n",
              "\n",
              "    .dataframe thead th {\n",
              "        text-align: right;\n",
              "    }\n",
              "</style>\n",
              "<table border=\"1\" class=\"dataframe\">\n",
              "  <thead>\n",
              "    <tr style=\"text-align: right;\">\n",
              "      <th></th>\n",
              "      <th>ra</th>\n",
              "      <th>dec</th>\n",
              "      <th>u</th>\n",
              "      <th>g</th>\n",
              "      <th>r</th>\n",
              "      <th>i</th>\n",
              "      <th>z</th>\n",
              "      <th>run</th>\n",
              "      <th>camcol</th>\n",
              "      <th>field</th>\n",
              "      <th>specobjid</th>\n",
              "      <th>class</th>\n",
              "      <th>redshift</th>\n",
              "      <th>plate</th>\n",
              "      <th>mjd</th>\n",
              "      <th>fiberid</th>\n",
              "    </tr>\n",
              "  </thead>\n",
              "  <tbody>\n",
              "    <tr>\n",
              "      <th>0</th>\n",
              "      <td>241.342917</td>\n",
              "      <td>1.174301</td>\n",
              "      <td>19.51355</td>\n",
              "      <td>19.20316</td>\n",
              "      <td>19.45578</td>\n",
              "      <td>19.71678</td>\n",
              "      <td>19.94081</td>\n",
              "      <td>745</td>\n",
              "      <td>6</td>\n",
              "      <td>552</td>\n",
              "      <td>387465727008860160</td>\n",
              "      <td>2</td>\n",
              "      <td>-0.000276</td>\n",
              "      <td>344</td>\n",
              "      <td>51693</td>\n",
              "      <td>568</td>\n",
              "    </tr>\n",
              "    <tr>\n",
              "      <th>1</th>\n",
              "      <td>241.453357</td>\n",
              "      <td>1.103976</td>\n",
              "      <td>19.27841</td>\n",
              "      <td>18.15512</td>\n",
              "      <td>17.91325</td>\n",
              "      <td>17.84251</td>\n",
              "      <td>17.83266</td>\n",
              "      <td>745</td>\n",
              "      <td>6</td>\n",
              "      <td>552</td>\n",
              "      <td>387464077741418496</td>\n",
              "      <td>2</td>\n",
              "      <td>-0.000640</td>\n",
              "      <td>344</td>\n",
              "      <td>51693</td>\n",
              "      <td>562</td>\n",
              "    </tr>\n",
              "    <tr>\n",
              "      <th>2</th>\n",
              "      <td>241.766475</td>\n",
              "      <td>1.108192</td>\n",
              "      <td>18.36716</td>\n",
              "      <td>16.15226</td>\n",
              "      <td>15.06507</td>\n",
              "      <td>14.51372</td>\n",
              "      <td>14.05285</td>\n",
              "      <td>745</td>\n",
              "      <td>6</td>\n",
              "      <td>555</td>\n",
              "      <td>388525106411890688</td>\n",
              "      <td>0</td>\n",
              "      <td>0.027258</td>\n",
              "      <td>345</td>\n",
              "      <td>51690</td>\n",
              "      <td>326</td>\n",
              "    </tr>\n",
              "    <tr>\n",
              "      <th>3</th>\n",
              "      <td>241.852655</td>\n",
              "      <td>1.138415</td>\n",
              "      <td>19.53237</td>\n",
              "      <td>17.64661</td>\n",
              "      <td>16.59679</td>\n",
              "      <td>16.07399</td>\n",
              "      <td>15.67989</td>\n",
              "      <td>745</td>\n",
              "      <td>6</td>\n",
              "      <td>555</td>\n",
              "      <td>388527855190960128</td>\n",
              "      <td>0</td>\n",
              "      <td>0.056678</td>\n",
              "      <td>345</td>\n",
              "      <td>51690</td>\n",
              "      <td>336</td>\n",
              "    </tr>\n",
              "    <tr>\n",
              "      <th>4</th>\n",
              "      <td>242.032775</td>\n",
              "      <td>1.085364</td>\n",
              "      <td>17.92471</td>\n",
              "      <td>16.89563</td>\n",
              "      <td>16.34107</td>\n",
              "      <td>16.06352</td>\n",
              "      <td>15.82847</td>\n",
              "      <td>745</td>\n",
              "      <td>6</td>\n",
              "      <td>556</td>\n",
              "      <td>388535826650261504</td>\n",
              "      <td>0</td>\n",
              "      <td>0.024477</td>\n",
              "      <td>345</td>\n",
              "      <td>51690</td>\n",
              "      <td>365</td>\n",
              "    </tr>\n",
              "    <tr>\n",
              "      <th>...</th>\n",
              "      <td>...</td>\n",
              "      <td>...</td>\n",
              "      <td>...</td>\n",
              "      <td>...</td>\n",
              "      <td>...</td>\n",
              "      <td>...</td>\n",
              "      <td>...</td>\n",
              "      <td>...</td>\n",
              "      <td>...</td>\n",
              "      <td>...</td>\n",
              "      <td>...</td>\n",
              "      <td>...</td>\n",
              "      <td>...</td>\n",
              "      <td>...</td>\n",
              "      <td>...</td>\n",
              "      <td>...</td>\n",
              "    </tr>\n",
              "    <tr>\n",
              "      <th>712276</th>\n",
              "      <td>341.206598</td>\n",
              "      <td>25.421164</td>\n",
              "      <td>19.09945</td>\n",
              "      <td>17.11115</td>\n",
              "      <td>16.14581</td>\n",
              "      <td>15.68184</td>\n",
              "      <td>15.35745</td>\n",
              "      <td>8110</td>\n",
              "      <td>3</td>\n",
              "      <td>117</td>\n",
              "      <td>7091189296820887552</td>\n",
              "      <td>0</td>\n",
              "      <td>0.082436</td>\n",
              "      <td>6298</td>\n",
              "      <td>56208</td>\n",
              "      <td>988</td>\n",
              "    </tr>\n",
              "    <tr>\n",
              "      <th>712277</th>\n",
              "      <td>341.592597</td>\n",
              "      <td>25.467884</td>\n",
              "      <td>18.50628</td>\n",
              "      <td>17.61458</td>\n",
              "      <td>17.27222</td>\n",
              "      <td>17.15221</td>\n",
              "      <td>17.13450</td>\n",
              "      <td>8110</td>\n",
              "      <td>3</td>\n",
              "      <td>119</td>\n",
              "      <td>8621189981912670208</td>\n",
              "      <td>2</td>\n",
              "      <td>-0.000464</td>\n",
              "      <td>7657</td>\n",
              "      <td>57309</td>\n",
              "      <td>634</td>\n",
              "    </tr>\n",
              "    <tr>\n",
              "      <th>712278</th>\n",
              "      <td>341.753313</td>\n",
              "      <td>25.439133</td>\n",
              "      <td>19.47210</td>\n",
              "      <td>18.51253</td>\n",
              "      <td>18.17173</td>\n",
              "      <td>18.05165</td>\n",
              "      <td>17.97351</td>\n",
              "      <td>8110</td>\n",
              "      <td>3</td>\n",
              "      <td>120</td>\n",
              "      <td>7082108705668308992</td>\n",
              "      <td>2</td>\n",
              "      <td>-0.000784</td>\n",
              "      <td>6290</td>\n",
              "      <td>56238</td>\n",
              "      <td>721</td>\n",
              "    </tr>\n",
              "    <tr>\n",
              "      <th>712279</th>\n",
              "      <td>342.761684</td>\n",
              "      <td>25.533355</td>\n",
              "      <td>19.31310</td>\n",
              "      <td>19.00313</td>\n",
              "      <td>18.82146</td>\n",
              "      <td>18.91799</td>\n",
              "      <td>18.79010</td>\n",
              "      <td>8110</td>\n",
              "      <td>3</td>\n",
              "      <td>126</td>\n",
              "      <td>8619945335236567040</td>\n",
              "      <td>1</td>\n",
              "      <td>0.855534</td>\n",
              "      <td>7656</td>\n",
              "      <td>57338</td>\n",
              "      <td>202</td>\n",
              "    </tr>\n",
              "    <tr>\n",
              "      <th>712280</th>\n",
              "      <td>342.770540</td>\n",
              "      <td>25.576414</td>\n",
              "      <td>19.17867</td>\n",
              "      <td>18.07677</td>\n",
              "      <td>17.66761</td>\n",
              "      <td>17.51846</td>\n",
              "      <td>17.45146</td>\n",
              "      <td>8110</td>\n",
              "      <td>3</td>\n",
              "      <td>126</td>\n",
              "      <td>8619934065242382336</td>\n",
              "      <td>2</td>\n",
              "      <td>-0.000175</td>\n",
              "      <td>7656</td>\n",
              "      <td>57338</td>\n",
              "      <td>161</td>\n",
              "    </tr>\n",
              "  </tbody>\n",
              "</table>\n",
              "<p>712281 rows × 16 columns</p>\n",
              "</div>"
            ],
            "text/plain": [
              "                ra        dec         u  ...  plate    mjd  fiberid\n",
              "0       241.342917   1.174301  19.51355  ...    344  51693      568\n",
              "1       241.453357   1.103976  19.27841  ...    344  51693      562\n",
              "2       241.766475   1.108192  18.36716  ...    345  51690      326\n",
              "3       241.852655   1.138415  19.53237  ...    345  51690      336\n",
              "4       242.032775   1.085364  17.92471  ...    345  51690      365\n",
              "...            ...        ...       ...  ...    ...    ...      ...\n",
              "712276  341.206598  25.421164  19.09945  ...   6298  56208      988\n",
              "712277  341.592597  25.467884  18.50628  ...   7657  57309      634\n",
              "712278  341.753313  25.439133  19.47210  ...   6290  56238      721\n",
              "712279  342.761684  25.533355  19.31310  ...   7656  57338      202\n",
              "712280  342.770540  25.576414  19.17867  ...   7656  57338      161\n",
              "\n",
              "[712281 rows x 16 columns]"
            ]
          },
          "metadata": {
            "tags": []
          },
          "execution_count": 8
        }
      ]
    },
    {
      "cell_type": "code",
      "metadata": {
        "colab": {
          "base_uri": "https://localhost:8080/",
          "height": 525
        },
        "id": "ycDjKQJiLYdE",
        "outputId": "f0b74fd1-e48d-4a99-8db5-52913b112c2a"
      },
      "source": [
        "plt.figure(figsize = (25,10))\n",
        "sb.heatmap(data.corr(),annot = True)\n"
      ],
      "execution_count": null,
      "outputs": [
        {
          "output_type": "execute_result",
          "data": {
            "text/plain": [
              "<matplotlib.axes._subplots.AxesSubplot at 0x7f61a0fc11d0>"
            ]
          },
          "metadata": {
            "tags": []
          },
          "execution_count": 9
        },
        {
          "output_type": "display_data",
          "data": {
            "image/png": "[encoded data removed]",
            "text/plain": [
              "<Figure size 1800x720 with 2 Axes>"
            ]
          },
          "metadata": {
            "tags": [],
            "needs_background": "light"
          }
        }
      ]
    },
    {
      "cell_type": "code",
      "metadata": {
        "colab": {
          "base_uri": "https://localhost:8080/",
          "height": 265
        },
        "id": "UVD-_tfaLcH4",
        "outputId": "6f866b8a-c626-4fc4-f8f9-b2da6190a2ae"
      },
      "source": [
        "fig,ax = plt.subplots(1,5,figsize = (25,5))\n",
        "ax[0].plot(data['u'],color = 'orange');\n",
        "ax[0].set_title('U distribution');\n",
        "ax[1].plot(data['g'],color = 'purple');\n",
        "ax[1].set_title('g distribution');\n",
        "ax[2].plot(data['r'],color = 'red');\n",
        "ax[2].set_title('R distribution');\n",
        "ax[3].plot(data['i'],color = 'green');\n",
        "ax[3].set_title('I distribution');\n",
        "ax[4].plot(data['z'],color = 'yellow');\n",
        "ax[4].set_title('Z distribution');"
      ],
      "execution_count": null,
      "outputs": [
        {
          "output_type": "display_data",
          "data": {
            "image/png": "[encoded data removed]",
            "text/plain": [
              "<Figure size 1800x360 with 5 Axes>"
            ]
          },
          "metadata": {
            "tags": [],
            "needs_background": "light"
          }
        }
      ]
    },
    {
      "cell_type": "code",
      "metadata": {
        "colab": {
          "base_uri": "https://localhost:8080/",
          "height": 1000
        },
        "id": "j9DI0K1aLi1U",
        "outputId": "fb1c5ae4-79b0-4891-89ec-ed4dfcebbbae"
      },
      "source": [
        "fig,ax = plt.subplots(5,3,figsize = (30,30))\n",
        "ax[0][0].hist([data[data['class']==0]['u']],color = 'green',edgecolor = 'black');\n",
        "ax[0][0].set_title('u  distribution for galaxy');\n",
        "ax[0][1].hist([data[data['class']==1]['u']],color = 'pink',edgecolor = 'black');\n",
        "ax[0][1].set_title('u  distribution for QSO');\n",
        "ax[0][2].hist([data[data['class']==2]['u']],color = 'orange',edgecolor = 'black');\n",
        "ax[0][2].set_title('u  distribution for Star');\n",
        "ax[1][0].hist([data[data['class']==0]['g']],color = 'green',edgecolor = 'black');\n",
        "ax[1][0].set_title('g distribution for galaxy');\n",
        "ax[1][1].hist([data[data['class']==1]['g']],color = 'pink',edgecolor = 'black');\n",
        "ax[1][1].set_title('g  distribution for QSO');\n",
        "ax[1][2].hist([data[data['class']==2]['g']],color = 'orange',edgecolor = 'black');\n",
        "ax[1][2].set_title('g  distribution for Star');\n",
        "ax[2][0].hist([data[data['class']==0]['r']],color = 'green',edgecolor = 'black');\n",
        "ax[2][0].set_title('r  distribution for galaxy');\n",
        "ax[2][1].hist([data[data['class']==1]['r']],color = 'pink',edgecolor = 'black');\n",
        "ax[2][1].set_title('r  distribution for QSO');\n",
        "ax[2][2].hist([data[data['class']==2]['r']],color = 'orange',edgecolor = 'black');\n",
        "ax[2][2].set_title('r  distribution for Star');\n",
        "ax[3][0].hist([data[data['class']==0]['i']],color = 'green',edgecolor = 'black');\n",
        "ax[3][0].set_title('i  distribution for galaxy');\n",
        "ax[3][1].hist([data[data['class']==1]['i']],color = 'pink',edgecolor = 'black');\n",
        "ax[3][1].set_title('i  distribution for QSO');\n",
        "ax[3][2].hist([data[data['class']==2]['i']],color = 'orange',edgecolor = 'black');\n",
        "ax[3][2].set_title('i  distribution for Star');\n",
        "ax[4][0].hist([data[data['class']==0]['z']],color = 'green',edgecolor = 'black');\n",
        "ax[4][0].set_title('z  distribution for galaxy');\n",
        "ax[4][1].hist([data[data['class']==1]['z']],color = 'pink',edgecolor = 'black');\n",
        "ax[4][1].set_title('z  distribution for QSO');\n",
        "ax[4][2].hist([data[data['class']==2]['z']],color = 'orange',edgecolor = 'black');\n",
        "ax[4][2].set_title('z  distribution for Star');"
      ],
      "execution_count": null,
      "outputs": [
        {
          "output_type": "display_data",
          "data": {
            "image/png": "[encoded data removed]",
            "text/plain": [
              "<Figure size 2160x2160 with 15 Axes>"
            ]
          },
          "metadata": {
            "tags": [],
            "needs_background": "light"
          }
        }
      ]
    },
    {
      "cell_type": "code",
      "metadata": {
        "id": "phxP_B3PLpoJ"
      },
      "source": [
        "data.to_csv(\"classification.csv\")\n"
      ],
      "execution_count": null,
      "outputs": []
    },
    {
      "cell_type": "code",
      "metadata": {
        "colab": {
          "base_uri": "https://localhost:8080/",
          "height": 437
        },
        "id": "LsW-V6BhMnXx",
        "outputId": "ae7861de-7b33-400e-ebfd-8d6b9e69c872"
      },
      "source": [
        "data"
      ],
      "execution_count": null,
      "outputs": [
        {
          "output_type": "execute_result",
          "data": {
            "text/html": [
              "<div>\n",
              "<style scoped>\n",
              "    .dataframe tbody tr th:only-of-type {\n",
              "        vertical-align: middle;\n",
              "    }\n",
              "\n",
              "    .dataframe tbody tr th {\n",
              "        vertical-align: top;\n",
              "    }\n",
              "\n",
              "    .dataframe thead th {\n",
              "        text-align: right;\n",
              "    }\n",
              "</style>\n",
              "<table border=\"1\" class=\"dataframe\">\n",
              "  <thead>\n",
              "    <tr style=\"text-align: right;\">\n",
              "      <th></th>\n",
              "      <th>ra</th>\n",
              "      <th>dec</th>\n",
              "      <th>u</th>\n",
              "      <th>g</th>\n",
              "      <th>r</th>\n",
              "      <th>i</th>\n",
              "      <th>z</th>\n",
              "      <th>run</th>\n",
              "      <th>camcol</th>\n",
              "      <th>field</th>\n",
              "      <th>specobjid</th>\n",
              "      <th>class</th>\n",
              "      <th>redshift</th>\n",
              "      <th>plate</th>\n",
              "      <th>mjd</th>\n",
              "      <th>fiberid</th>\n",
              "    </tr>\n",
              "  </thead>\n",
              "  <tbody>\n",
              "    <tr>\n",
              "      <th>0</th>\n",
              "      <td>241.342917</td>\n",
              "      <td>1.174301</td>\n",
              "      <td>19.51355</td>\n",
              "      <td>19.20316</td>\n",
              "      <td>19.45578</td>\n",
              "      <td>19.71678</td>\n",
              "      <td>19.94081</td>\n",
              "      <td>745</td>\n",
              "      <td>6</td>\n",
              "      <td>552</td>\n",
              "      <td>387465727008860160</td>\n",
              "      <td>2</td>\n",
              "      <td>-0.000276</td>\n",
              "      <td>344</td>\n",
              "      <td>51693</td>\n",
              "      <td>568</td>\n",
              "    </tr>\n",
              "    <tr>\n",
              "      <th>1</th>\n",
              "      <td>241.453357</td>\n",
              "      <td>1.103976</td>\n",
              "      <td>19.27841</td>\n",
              "      <td>18.15512</td>\n",
              "      <td>17.91325</td>\n",
              "      <td>17.84251</td>\n",
              "      <td>17.83266</td>\n",
              "      <td>745</td>\n",
              "      <td>6</td>\n",
              "      <td>552</td>\n",
              "      <td>387464077741418496</td>\n",
              "      <td>2</td>\n",
              "      <td>-0.000640</td>\n",
              "      <td>344</td>\n",
              "      <td>51693</td>\n",
              "      <td>562</td>\n",
              "    </tr>\n",
              "    <tr>\n",
              "      <th>2</th>\n",
              "      <td>241.766475</td>\n",
              "      <td>1.108192</td>\n",
              "      <td>18.36716</td>\n",
              "      <td>16.15226</td>\n",
              "      <td>15.06507</td>\n",
              "      <td>14.51372</td>\n",
              "      <td>14.05285</td>\n",
              "      <td>745</td>\n",
              "      <td>6</td>\n",
              "      <td>555</td>\n",
              "      <td>388525106411890688</td>\n",
              "      <td>0</td>\n",
              "      <td>0.027258</td>\n",
              "      <td>345</td>\n",
              "      <td>51690</td>\n",
              "      <td>326</td>\n",
              "    </tr>\n",
              "    <tr>\n",
              "      <th>3</th>\n",
              "      <td>241.852655</td>\n",
              "      <td>1.138415</td>\n",
              "      <td>19.53237</td>\n",
              "      <td>17.64661</td>\n",
              "      <td>16.59679</td>\n",
              "      <td>16.07399</td>\n",
              "      <td>15.67989</td>\n",
              "      <td>745</td>\n",
              "      <td>6</td>\n",
              "      <td>555</td>\n",
              "      <td>388527855190960128</td>\n",
              "      <td>0</td>\n",
              "      <td>0.056678</td>\n",
              "      <td>345</td>\n",
              "      <td>51690</td>\n",
              "      <td>336</td>\n",
              "    </tr>\n",
              "    <tr>\n",
              "      <th>4</th>\n",
              "      <td>242.032775</td>\n",
              "      <td>1.085364</td>\n",
              "      <td>17.92471</td>\n",
              "      <td>16.89563</td>\n",
              "      <td>16.34107</td>\n",
              "      <td>16.06352</td>\n",
              "      <td>15.82847</td>\n",
              "      <td>745</td>\n",
              "      <td>6</td>\n",
              "      <td>556</td>\n",
              "      <td>388535826650261504</td>\n",
              "      <td>0</td>\n",
              "      <td>0.024477</td>\n",
              "      <td>345</td>\n",
              "      <td>51690</td>\n",
              "      <td>365</td>\n",
              "    </tr>\n",
              "    <tr>\n",
              "      <th>...</th>\n",
              "      <td>...</td>\n",
              "      <td>...</td>\n",
              "      <td>...</td>\n",
              "      <td>...</td>\n",
              "      <td>...</td>\n",
              "      <td>...</td>\n",
              "      <td>...</td>\n",
              "      <td>...</td>\n",
              "      <td>...</td>\n",
              "      <td>...</td>\n",
              "      <td>...</td>\n",
              "      <td>...</td>\n",
              "      <td>...</td>\n",
              "      <td>...</td>\n",
              "      <td>...</td>\n",
              "      <td>...</td>\n",
              "    </tr>\n",
              "    <tr>\n",
              "      <th>712276</th>\n",
              "      <td>341.206598</td>\n",
              "      <td>25.421164</td>\n",
              "      <td>19.09945</td>\n",
              "      <td>17.11115</td>\n",
              "      <td>16.14581</td>\n",
              "      <td>15.68184</td>\n",
              "      <td>15.35745</td>\n",
              "      <td>8110</td>\n",
              "      <td>3</td>\n",
              "      <td>117</td>\n",
              "      <td>7091189296820887552</td>\n",
              "      <td>0</td>\n",
              "      <td>0.082436</td>\n",
              "      <td>6298</td>\n",
              "      <td>56208</td>\n",
              "      <td>988</td>\n",
              "    </tr>\n",
              "    <tr>\n",
              "      <th>712277</th>\n",
              "      <td>341.592597</td>\n",
              "      <td>25.467884</td>\n",
              "      <td>18.50628</td>\n",
              "      <td>17.61458</td>\n",
              "      <td>17.27222</td>\n",
              "      <td>17.15221</td>\n",
              "      <td>17.13450</td>\n",
              "      <td>8110</td>\n",
              "      <td>3</td>\n",
              "      <td>119</td>\n",
              "      <td>8621189981912670208</td>\n",
              "      <td>2</td>\n",
              "      <td>-0.000464</td>\n",
              "      <td>7657</td>\n",
              "      <td>57309</td>\n",
              "      <td>634</td>\n",
              "    </tr>\n",
              "    <tr>\n",
              "      <th>712278</th>\n",
              "      <td>341.753313</td>\n",
              "      <td>25.439133</td>\n",
              "      <td>19.47210</td>\n",
              "      <td>18.51253</td>\n",
              "      <td>18.17173</td>\n",
              "      <td>18.05165</td>\n",
              "      <td>17.97351</td>\n",
              "      <td>8110</td>\n",
              "      <td>3</td>\n",
              "      <td>120</td>\n",
              "      <td>7082108705668308992</td>\n",
              "      <td>2</td>\n",
              "      <td>-0.000784</td>\n",
              "      <td>6290</td>\n",
              "      <td>56238</td>\n",
              "      <td>721</td>\n",
              "    </tr>\n",
              "    <tr>\n",
              "      <th>712279</th>\n",
              "      <td>342.761684</td>\n",
              "      <td>25.533355</td>\n",
              "      <td>19.31310</td>\n",
              "      <td>19.00313</td>\n",
              "      <td>18.82146</td>\n",
              "      <td>18.91799</td>\n",
              "      <td>18.79010</td>\n",
              "      <td>8110</td>\n",
              "      <td>3</td>\n",
              "      <td>126</td>\n",
              "      <td>8619945335236567040</td>\n",
              "      <td>1</td>\n",
              "      <td>0.855534</td>\n",
              "      <td>7656</td>\n",
              "      <td>57338</td>\n",
              "      <td>202</td>\n",
              "    </tr>\n",
              "    <tr>\n",
              "      <th>712280</th>\n",
              "      <td>342.770540</td>\n",
              "      <td>25.576414</td>\n",
              "      <td>19.17867</td>\n",
              "      <td>18.07677</td>\n",
              "      <td>17.66761</td>\n",
              "      <td>17.51846</td>\n",
              "      <td>17.45146</td>\n",
              "      <td>8110</td>\n",
              "      <td>3</td>\n",
              "      <td>126</td>\n",
              "      <td>8619934065242382336</td>\n",
              "      <td>2</td>\n",
              "      <td>-0.000175</td>\n",
              "      <td>7656</td>\n",
              "      <td>57338</td>\n",
              "      <td>161</td>\n",
              "    </tr>\n",
              "  </tbody>\n",
              "</table>\n",
              "<p>712281 rows × 16 columns</p>\n",
              "</div>"
            ],
            "text/plain": [
              "                ra        dec         u  ...  plate    mjd  fiberid\n",
              "0       241.342917   1.174301  19.51355  ...    344  51693      568\n",
              "1       241.453357   1.103976  19.27841  ...    344  51693      562\n",
              "2       241.766475   1.108192  18.36716  ...    345  51690      326\n",
              "3       241.852655   1.138415  19.53237  ...    345  51690      336\n",
              "4       242.032775   1.085364  17.92471  ...    345  51690      365\n",
              "...            ...        ...       ...  ...    ...    ...      ...\n",
              "712276  341.206598  25.421164  19.09945  ...   6298  56208      988\n",
              "712277  341.592597  25.467884  18.50628  ...   7657  57309      634\n",
              "712278  341.753313  25.439133  19.47210  ...   6290  56238      721\n",
              "712279  342.761684  25.533355  19.31310  ...   7656  57338      202\n",
              "712280  342.770540  25.576414  19.17867  ...   7656  57338      161\n",
              "\n",
              "[712281 rows x 16 columns]"
            ]
          },
          "metadata": {
            "tags": []
          },
          "execution_count": 11
        }
      ]
    },
    {
      "cell_type": "code",
      "metadata": {
        "id": "idXvlgueL8iQ"
      },
      "source": [
        "y = data['class']\n",
        "data.drop('class',1,inplace=True)\n",
        "x = data\n"
      ],
      "execution_count": null,
      "outputs": []
    },
    {
      "cell_type": "code",
      "metadata": {
        "colab": {
          "base_uri": "https://localhost:8080/"
        },
        "id": "y0QJKd8fKASt",
        "outputId": "a3784657-f2d3-4be5-d6f6-c3db1633f55e"
      },
      "source": [
        "data.shape"
      ],
      "execution_count": null,
      "outputs": [
        {
          "output_type": "execute_result",
          "data": {
            "text/plain": [
              "(712281, 15)"
            ]
          },
          "metadata": {
            "tags": []
          },
          "execution_count": 13
        }
      ]
    },
    {
      "cell_type": "code",
      "metadata": {
        "colab": {
          "base_uri": "https://localhost:8080/"
        },
        "id": "KtS8PGn0KW8b",
        "outputId": "3a7a267d-354e-4557-ae26-2266fd2b9854"
      },
      "source": [
        "data.dtypes"
      ],
      "execution_count": null,
      "outputs": [
        {
          "output_type": "execute_result",
          "data": {
            "text/plain": [
              "ra           float64\n",
              "dec          float64\n",
              "u            float64\n",
              "g            float64\n",
              "r            float64\n",
              "i            float64\n",
              "z            float64\n",
              "run            int64\n",
              "camcol         int64\n",
              "field          int64\n",
              "specobjid     uint64\n",
              "redshift     float64\n",
              "plate          int64\n",
              "mjd            int64\n",
              "fiberid        int64\n",
              "dtype: object"
            ]
          },
          "metadata": {
            "tags": []
          },
          "execution_count": 41
        }
      ]
    },
    {
      "cell_type": "code",
      "metadata": {
        "id": "SOlFWdqLM8I3"
      },
      "source": [
        "x_train,x_test,y_train,y_test = train_test_split(x,y,test_size = (0.25),random_state=42)"
      ],
      "execution_count": null,
      "outputs": []
    },
    {
      "cell_type": "code",
      "metadata": {
        "id": "fISqPkUxYEDE"
      },
      "source": [
        ""
      ],
      "execution_count": null,
      "outputs": []
    },
    {
      "cell_type": "markdown",
      "metadata": {
        "id": "4kOBwIt2NJli"
      },
      "source": [
        "KNeighborsClassifier\n"
      ]
    },
    {
      "cell_type": "code",
      "metadata": {
        "colab": {
          "base_uri": "https://localhost:8080/"
        },
        "id": "4GbtxtX8NMKv",
        "outputId": "f7d0a7e4-42d5-4526-a658-af40d581dd00"
      },
      "source": [
        "model_params = {'n_neighbors':np.arange(1,10)}\n",
        "grid = GridSearchCV(KNeighborsClassifier(),model_params)\n",
        "grid.fit(x,y)"
      ],
      "execution_count": null,
      "outputs": [
        {
          "output_type": "execute_result",
          "data": {
            "text/plain": [
              "GridSearchCV(cv=None, error_score=nan,\n",
              "             estimator=KNeighborsClassifier(algorithm='auto', leaf_size=30,\n",
              "                                            metric='minkowski',\n",
              "                                            metric_params=None, n_jobs=None,\n",
              "                                            n_neighbors=5, p=2,\n",
              "                                            weights='uniform'),\n",
              "             iid='deprecated', n_jobs=None,\n",
              "             param_grid={'n_neighbors': array([1, 2, 3, 4, 5, 6, 7, 8, 9])},\n",
              "             pre_dispatch='2*n_jobs', refit=True, return_train_score=False,\n",
              "             scoring=None, verbose=0)"
            ]
          },
          "metadata": {
            "tags": []
          },
          "execution_count": 69
        }
      ]
    },
    {
      "cell_type": "code",
      "metadata": {
        "colab": {
          "base_uri": "https://localhost:8080/"
        },
        "id": "qm-EOZwCNOLo",
        "outputId": "0e95c642-d734-4773-a81b-256e4b32260f"
      },
      "source": [
        "grid.best_params_"
      ],
      "execution_count": null,
      "outputs": [
        {
          "output_type": "execute_result",
          "data": {
            "text/plain": [
              "{'n_neighbors': 9}"
            ]
          },
          "metadata": {
            "tags": []
          },
          "execution_count": 70
        }
      ]
    },
    {
      "cell_type": "code",
      "metadata": {
        "colab": {
          "base_uri": "https://localhost:8080/"
        },
        "id": "rmEg6_MpPT6M",
        "outputId": "300ee567-f7f7-4a77-a0be-9bb1cda3158b"
      },
      "source": [
        "KNNmodel = KNeighborsClassifier(n_neighbors = 9)\n",
        "KNNmodel.fit(x_train,y_train) \n"
      ],
      "execution_count": null,
      "outputs": [
        {
          "output_type": "execute_result",
          "data": {
            "text/plain": [
              "KNeighborsClassifier(algorithm='auto', leaf_size=30, metric='minkowski',\n",
              "                     metric_params=None, n_jobs=None, n_neighbors=9, p=2,\n",
              "                     weights='uniform')"
            ]
          },
          "metadata": {
            "tags": []
          },
          "execution_count": 71
        }
      ]
    },
    {
      "cell_type": "code",
      "metadata": {
        "id": "biseEBwMY_gD"
      },
      "source": [
        "y_pred=KNNmodel.predict(x_test)"
      ],
      "execution_count": null,
      "outputs": []
    },
    {
      "cell_type": "code",
      "metadata": {
        "colab": {
          "base_uri": "https://localhost:8080/"
        },
        "id": "qN6GnbX9ZLuC",
        "outputId": "a7af11e5-62ff-4668-f460-2978e5524521"
      },
      "source": [
        "from sklearn.metrics import accuracy_score \n",
        "print(accuracy_score(y_test, y_pred))"
      ],
      "execution_count": null,
      "outputs": [
        {
          "output_type": "stream",
          "text": [
            "0.7913079614311146\n"
          ],
          "name": "stdout"
        }
      ]
    },
    {
      "cell_type": "code",
      "metadata": {
        "colab": {
          "base_uri": "https://localhost:8080/"
        },
        "id": "jrKR_8VdYsyv",
        "outputId": "59e90009-e86e-4dbc-9d2a-f39c778bbb86"
      },
      "source": [
        "print (y_pred,y_test)"
      ],
      "execution_count": null,
      "outputs": [
        {
          "output_type": "stream",
          "text": [
            "[0 2 0 ... 1 0 0] 174634    0\n",
            "304536    2\n",
            "270035    2\n",
            "227978    2\n",
            "676888    0\n",
            "         ..\n",
            "498550    0\n",
            "80694     2\n",
            "705237    2\n",
            "126934    1\n",
            "201304    2\n",
            "Name: class, Length: 178071, dtype: int64\n"
          ],
          "name": "stdout"
        }
      ]
    },
    {
      "cell_type": "code",
      "metadata": {
        "colab": {
          "base_uri": "https://localhost:8080/"
        },
        "id": "--x4nGB3PXFQ",
        "outputId": "982181c7-ec98-431b-fdca-35ffacda2e1e"
      },
      "source": [
        "y_train_pred = cross_val_predict(KNNmodel,x_train,y_train,cv=3)\n",
        "print(\"Confusion Matrix:\")\n",
        "print(confusion_matrix(y_train,y_train_pred))\n",
        "print(\"\")\n",
        "precision_knn = precision_score(y_train_pred,y_train,average = None)\n",
        "print(\"Precison_Score:\",precision_knn.mean())\n",
        "recall_knn = recall_score(y_train_pred,y_train,average = None)\n",
        "print(\"Recall_score:\",recall_knn.mean())\n",
        "\n",
        "print(\"Cross Val Score in Sample\",cross_val_score(KNNmodel,x_train,y_train,cv=3,scoring='accuracy').mean())\n",
        "print(\"Cross Val Score out Sample\",cross_val_score(KNNmodel,x_test,y_test,cv=3,scoring='accuracy').mean())"
      ],
      "execution_count": null,
      "outputs": [
        {
          "output_type": "stream",
          "text": [
            "Confusion Matrix:\n",
            "[[262930   2443  11330]\n",
            " [ 39476   4467  10905]\n",
            " [ 42751   5343 154565]]\n",
            "\n",
            "Precison_Score: 0.5981176573362756\n",
            "Recall_score: 0.6668564958143869\n",
            "Cross Val Score in Sample 0.789880384118605\n",
            "Cross Val Score out Sample 0.7900275732713357\n"
          ],
          "name": "stdout"
        }
      ]
    },
    {
      "cell_type": "code",
      "metadata": {
        "colab": {
          "base_uri": "https://localhost:8080/"
        },
        "id": "UiuLhAMBaAdz",
        "outputId": "47b58579-c620-4a5c-bb02-31b66f6a306b"
      },
      "source": [
        "import time \n",
        "\n",
        "start=time.process_time()\n",
        "KNNmodel.fit(x_train, y_train) \n",
        "stop=time.process_time()\n",
        "execution_time = (stop - start)/60\n",
        "print(\"Program Executed in minutes \"+str(execution_time))"
      ],
      "execution_count": null,
      "outputs": [
        {
          "output_type": "stream",
          "text": [
            "Program Executed in minutes 0.09290241788333257\n"
          ],
          "name": "stdout"
        }
      ]
    },
    {
      "cell_type": "markdown",
      "metadata": {
        "id": "bypLlZ1fZjzs"
      },
      "source": [
        "Random forest \n"
      ]
    },
    {
      "cell_type": "code",
      "metadata": {
        "colab": {
          "base_uri": "https://localhost:8080/"
        },
        "id": "4cE8ECwUZmZx",
        "outputId": "43f1a3f5-430b-4115-8583-79afd43777fa"
      },
      "source": [
        "from sklearn.ensemble import AdaBoostClassifier,RandomForestClassifier\n",
        "\n",
        "import time\n",
        "Forest  = RandomForestClassifier(max_depth = 3,n_estimators = 5)\n",
        "start=time.process_time()\n",
        "Forest.fit(x_train,y_train) \n",
        "stop=time.process_time()\n",
        "execution_time = (stop - start)/60\n",
        "print(\"Program Executed in minutes \"+str(execution_time))"
      ],
      "execution_count": null,
      "outputs": [
        {
          "output_type": "stream",
          "text": [
            "Program Executed in minutes 0.00022838424999997996\n"
          ],
          "name": "stdout"
        }
      ]
    },
    {
      "cell_type": "code",
      "metadata": {
        "id": "9Jw0k124ybra"
      },
      "source": [
        "y_pred=Forest.predict(x_test)"
      ],
      "execution_count": null,
      "outputs": []
    },
    {
      "cell_type": "code",
      "metadata": {
        "colab": {
          "base_uri": "https://localhost:8080/"
        },
        "id": "3G84C4cZzxwf",
        "outputId": "07bf9087-a7af-4a3f-ee6d-f06fd0893cb2"
      },
      "source": [
        "from sklearn.metrics import accuracy_score \n",
        "print(accuracy_score(y_test, y_pred))"
      ],
      "execution_count": null,
      "outputs": [
        {
          "output_type": "stream",
          "text": [
            "0.96\n"
          ],
          "name": "stdout"
        }
      ]
    },
    {
      "cell_type": "code",
      "metadata": {
        "colab": {
          "base_uri": "https://localhost:8080/"
        },
        "id": "drWI7MBIaS3i",
        "outputId": "e6477317-bbba-4d6b-c19d-923e18ca9d29"
      },
      "source": [
        "y_train_pred = cross_val_predict(Forest,x_train,y_train,cv=3)\n",
        "print(\"Confusion Matrix:\")\n",
        "print(confusion_matrix(y_train,y_train_pred))\n",
        "print(\"\")\n",
        "precision_forest = precision_score(y_train_pred,y_train,average = None)\n",
        "print(\"Precison_Score:\",precision_forest.mean())\n",
        "recall_forest = recall_score(y_train_pred,y_train,average = None)\n",
        "print(\"Recall_score:\",recall_forest.mean())\n",
        "\n",
        "print(\"Cross Val Score in Sample\",cross_val_score(Forest,x_train,y_train,cv=3,scoring='accuracy').mean())\n",
        "print(\"Cross Val Score out Sample\",cross_val_score(Forest,x_test,y_test,cv=3,scoring='accuracy').mean())"
      ],
      "execution_count": null,
      "outputs": [
        {
          "output_type": "stream",
          "text": [
            "Confusion Matrix:\n",
            "[[31  5]\n",
            " [ 9 30]]\n",
            "\n",
            "Precison_Score: 0.8151709401709402\n",
            "Recall_score: 0.8160714285714286\n",
            "Cross Val Score in Sample 0.7599999999999999\n",
            "Cross Val Score out Sample 0.8842592592592592\n"
          ],
          "name": "stdout"
        }
      ]
    },
    {
      "cell_type": "markdown",
      "metadata": {
        "id": "qRb1LBhjdDGs"
      },
      "source": [
        "ANN"
      ]
    },
    {
      "cell_type": "code",
      "metadata": {
        "id": "8pyy5Vr2I9mr"
      },
      "source": [
        "from numpy import loadtxt\n",
        "from keras.models import Sequential\n",
        "from keras.layers import Dense"
      ],
      "execution_count": null,
      "outputs": []
    },
    {
      "cell_type": "code",
      "metadata": {
        "colab": {
          "base_uri": "https://localhost:8080/",
          "height": 417
        },
        "id": "rR3e4wexJCK_",
        "outputId": "a5c9f731-dfff-42fc-a79f-8eed2dd25144"
      },
      "source": [
        "x_train"
      ],
      "execution_count": null,
      "outputs": [
        {
          "output_type": "execute_result",
          "data": {
            "text/html": [
              "<div>\n",
              "<style scoped>\n",
              "    .dataframe tbody tr th:only-of-type {\n",
              "        vertical-align: middle;\n",
              "    }\n",
              "\n",
              "    .dataframe tbody tr th {\n",
              "        vertical-align: top;\n",
              "    }\n",
              "\n",
              "    .dataframe thead th {\n",
              "        text-align: right;\n",
              "    }\n",
              "</style>\n",
              "<table border=\"1\" class=\"dataframe\">\n",
              "  <thead>\n",
              "    <tr style=\"text-align: right;\">\n",
              "      <th></th>\n",
              "      <th>ra</th>\n",
              "      <th>dec</th>\n",
              "      <th>u</th>\n",
              "      <th>g</th>\n",
              "      <th>r</th>\n",
              "      <th>i</th>\n",
              "      <th>z</th>\n",
              "      <th>run</th>\n",
              "      <th>camcol</th>\n",
              "      <th>field</th>\n",
              "      <th>specobjid</th>\n",
              "      <th>redshift</th>\n",
              "      <th>plate</th>\n",
              "      <th>mjd</th>\n",
              "      <th>fiberid</th>\n",
              "    </tr>\n",
              "  </thead>\n",
              "  <tbody>\n",
              "    <tr>\n",
              "      <th>548465</th>\n",
              "      <td>185.696558</td>\n",
              "      <td>19.692680</td>\n",
              "      <td>19.39316</td>\n",
              "      <td>17.40664</td>\n",
              "      <td>16.43722</td>\n",
              "      <td>16.00200</td>\n",
              "      <td>15.62257</td>\n",
              "      <td>5314</td>\n",
              "      <td>3</td>\n",
              "      <td>60</td>\n",
              "      <td>2938605429023860736</td>\n",
              "      <td>0.075667</td>\n",
              "      <td>2610</td>\n",
              "      <td>54476</td>\n",
              "      <td>24</td>\n",
              "    </tr>\n",
              "    <tr>\n",
              "      <th>90092</th>\n",
              "      <td>128.116796</td>\n",
              "      <td>45.945945</td>\n",
              "      <td>19.41405</td>\n",
              "      <td>18.37315</td>\n",
              "      <td>17.72025</td>\n",
              "      <td>17.35443</td>\n",
              "      <td>17.14313</td>\n",
              "      <td>2075</td>\n",
              "      <td>3</td>\n",
              "      <td>69</td>\n",
              "      <td>618177905964378112</td>\n",
              "      <td>0.182182</td>\n",
              "      <td>549</td>\n",
              "      <td>51981</td>\n",
              "      <td>214</td>\n",
              "    </tr>\n",
              "    <tr>\n",
              "      <th>344592</th>\n",
              "      <td>199.043545</td>\n",
              "      <td>41.234995</td>\n",
              "      <td>18.71476</td>\n",
              "      <td>17.45604</td>\n",
              "      <td>16.94832</td>\n",
              "      <td>16.64396</td>\n",
              "      <td>16.44150</td>\n",
              "      <td>3840</td>\n",
              "      <td>3</td>\n",
              "      <td>245</td>\n",
              "      <td>1646148729142536192</td>\n",
              "      <td>0.047626</td>\n",
              "      <td>1462</td>\n",
              "      <td>53112</td>\n",
              "      <td>302</td>\n",
              "    </tr>\n",
              "    <tr>\n",
              "      <th>654557</th>\n",
              "      <td>31.331581</td>\n",
              "      <td>6.166932</td>\n",
              "      <td>18.52378</td>\n",
              "      <td>17.12642</td>\n",
              "      <td>16.47838</td>\n",
              "      <td>16.21791</td>\n",
              "      <td>16.11254</td>\n",
              "      <td>5714</td>\n",
              "      <td>2</td>\n",
              "      <td>82</td>\n",
              "      <td>3508343772536741888</td>\n",
              "      <td>-0.000215</td>\n",
              "      <td>3116</td>\n",
              "      <td>54792</td>\n",
              "      <td>144</td>\n",
              "    </tr>\n",
              "    <tr>\n",
              "      <th>88482</th>\n",
              "      <td>237.242205</td>\n",
              "      <td>48.962918</td>\n",
              "      <td>18.84943</td>\n",
              "      <td>17.13677</td>\n",
              "      <td>16.48606</td>\n",
              "      <td>16.08813</td>\n",
              "      <td>15.81049</td>\n",
              "      <td>2299</td>\n",
              "      <td>2</td>\n",
              "      <td>265</td>\n",
              "      <td>914349236194142208</td>\n",
              "      <td>0.084708</td>\n",
              "      <td>812</td>\n",
              "      <td>52352</td>\n",
              "      <td>431</td>\n",
              "    </tr>\n",
              "    <tr>\n",
              "      <th>...</th>\n",
              "      <td>...</td>\n",
              "      <td>...</td>\n",
              "      <td>...</td>\n",
              "      <td>...</td>\n",
              "      <td>...</td>\n",
              "      <td>...</td>\n",
              "      <td>...</td>\n",
              "      <td>...</td>\n",
              "      <td>...</td>\n",
              "      <td>...</td>\n",
              "      <td>...</td>\n",
              "      <td>...</td>\n",
              "      <td>...</td>\n",
              "      <td>...</td>\n",
              "      <td>...</td>\n",
              "    </tr>\n",
              "    <tr>\n",
              "      <th>259178</th>\n",
              "      <td>223.355893</td>\n",
              "      <td>39.624273</td>\n",
              "      <td>19.15889</td>\n",
              "      <td>18.92506</td>\n",
              "      <td>18.70637</td>\n",
              "      <td>18.71785</td>\n",
              "      <td>18.52138</td>\n",
              "      <td>3699</td>\n",
              "      <td>2</td>\n",
              "      <td>212</td>\n",
              "      <td>1572895691204749312</td>\n",
              "      <td>0.946679</td>\n",
              "      <td>1397</td>\n",
              "      <td>53119</td>\n",
              "      <td>49</td>\n",
              "    </tr>\n",
              "    <tr>\n",
              "      <th>365838</th>\n",
              "      <td>243.329888</td>\n",
              "      <td>33.844538</td>\n",
              "      <td>18.34347</td>\n",
              "      <td>16.85154</td>\n",
              "      <td>16.16015</td>\n",
              "      <td>15.73114</td>\n",
              "      <td>15.48058</td>\n",
              "      <td>3964</td>\n",
              "      <td>3</td>\n",
              "      <td>206</td>\n",
              "      <td>1894949249368483840</td>\n",
              "      <td>0.092334</td>\n",
              "      <td>1683</td>\n",
              "      <td>53436</td>\n",
              "      <td>217</td>\n",
              "    </tr>\n",
              "    <tr>\n",
              "      <th>131932</th>\n",
              "      <td>150.495041</td>\n",
              "      <td>45.104462</td>\n",
              "      <td>19.56636</td>\n",
              "      <td>19.43699</td>\n",
              "      <td>19.41879</td>\n",
              "      <td>19.21478</td>\n",
              "      <td>19.22849</td>\n",
              "      <td>2887</td>\n",
              "      <td>5</td>\n",
              "      <td>274</td>\n",
              "      <td>8201089118425292800</td>\n",
              "      <td>1.686349</td>\n",
              "      <td>7284</td>\n",
              "      <td>56683</td>\n",
              "      <td>124</td>\n",
              "    </tr>\n",
              "    <tr>\n",
              "      <th>671155</th>\n",
              "      <td>179.812287</td>\n",
              "      <td>6.650602</td>\n",
              "      <td>19.10209</td>\n",
              "      <td>17.98864</td>\n",
              "      <td>17.52644</td>\n",
              "      <td>17.33688</td>\n",
              "      <td>17.23799</td>\n",
              "      <td>5976</td>\n",
              "      <td>4</td>\n",
              "      <td>237</td>\n",
              "      <td>3655955684077445120</td>\n",
              "      <td>0.000084</td>\n",
              "      <td>3247</td>\n",
              "      <td>54888</td>\n",
              "      <td>577</td>\n",
              "    </tr>\n",
              "    <tr>\n",
              "      <th>121958</th>\n",
              "      <td>168.432705</td>\n",
              "      <td>3.895783</td>\n",
              "      <td>19.21776</td>\n",
              "      <td>17.37906</td>\n",
              "      <td>16.49557</td>\n",
              "      <td>16.04440</td>\n",
              "      <td>15.71936</td>\n",
              "      <td>2126</td>\n",
              "      <td>1</td>\n",
              "      <td>329</td>\n",
              "      <td>940194081202530304</td>\n",
              "      <td>0.068966</td>\n",
              "      <td>835</td>\n",
              "      <td>52326</td>\n",
              "      <td>246</td>\n",
              "    </tr>\n",
              "  </tbody>\n",
              "</table>\n",
              "<p>534210 rows × 15 columns</p>\n",
              "</div>"
            ],
            "text/plain": [
              "                ra        dec         u  ...  plate    mjd  fiberid\n",
              "548465  185.696558  19.692680  19.39316  ...   2610  54476       24\n",
              "90092   128.116796  45.945945  19.41405  ...    549  51981      214\n",
              "344592  199.043545  41.234995  18.71476  ...   1462  53112      302\n",
              "654557   31.331581   6.166932  18.52378  ...   3116  54792      144\n",
              "88482   237.242205  48.962918  18.84943  ...    812  52352      431\n",
              "...            ...        ...       ...  ...    ...    ...      ...\n",
              "259178  223.355893  39.624273  19.15889  ...   1397  53119       49\n",
              "365838  243.329888  33.844538  18.34347  ...   1683  53436      217\n",
              "131932  150.495041  45.104462  19.56636  ...   7284  56683      124\n",
              "671155  179.812287   6.650602  19.10209  ...   3247  54888      577\n",
              "121958  168.432705   3.895783  19.21776  ...    835  52326      246\n",
              "\n",
              "[534210 rows x 15 columns]"
            ]
          },
          "metadata": {
            "tags": []
          },
          "execution_count": 43
        }
      ]
    },
    {
      "cell_type": "code",
      "metadata": {
        "colab": {
          "base_uri": "https://localhost:8080/"
        },
        "id": "U2-1NTTtNGPv",
        "outputId": "87f6a330-dc32-4958-eae5-a61faf781842"
      },
      "source": [
        "y_train"
      ],
      "execution_count": null,
      "outputs": [
        {
          "output_type": "execute_result",
          "data": {
            "text/plain": [
              "548465    0\n",
              "90092     0\n",
              "344592    0\n",
              "654557    2\n",
              "88482     0\n",
              "         ..\n",
              "259178    1\n",
              "365838    0\n",
              "131932    1\n",
              "671155    2\n",
              "121958    0\n",
              "Name: class, Length: 534210, dtype: int64"
            ]
          },
          "metadata": {
            "tags": []
          },
          "execution_count": 44
        }
      ]
    },
    {
      "cell_type": "code",
      "metadata": {
        "id": "nkX2bHzfSZpw"
      },
      "source": [
        "from sklearn.preprocessing import StandardScaler\n",
        "sc = StandardScaler()\n",
        "x_train = sc.fit_transform(x_train)\n",
        "x_test = sc.fit_transform(x_test)"
      ],
      "execution_count": null,
      "outputs": []
    },
    {
      "cell_type": "code",
      "metadata": {
        "id": "Fb-M05R8TWWK"
      },
      "source": [
        "from sklearn.preprocessing import MinMaxScaler \n",
        "scaler = MinMaxScaler() \n",
        "x_train = scaler.fit_transform(x_train)\n",
        "x_test = scaler.fit_transform(x_test)\n"
      ],
      "execution_count": null,
      "outputs": []
    },
    {
      "cell_type": "code",
      "metadata": {
        "id": "PlAKv_VdVexV"
      },
      "source": [
        "from numpy import loadtxt\n",
        "from keras.models import Sequential\n",
        "from keras.layers import Dense\n",
        "classifier = Sequential()\n",
        "# Adding the input layer and the first hidden layer\n",
        "classifier.add(Dense(units = 256, kernel_initializer = 'uniform', activation = 'relu', input_dim = 15))\n",
        "\n",
        "# Adding the second hidden layer\n",
        "classifier.add(Dense(units = 256, kernel_initializer = 'uniform', activation = 'relu'))\n",
        "classifier.add(Dense(units = 256, kernel_initializer = 'uniform', activation = 'relu'))\n",
        "classifier.add(Dense(units = 256, kernel_initializer = 'uniform', activation = 'relu'))\n",
        "classifier.add(Dense(units = 256, kernel_initializer = 'uniform', activation = 'relu'))\n",
        "\n",
        "\n",
        "# Adding the output layer\n",
        "classifier.add(Dense(units = 1, kernel_initializer = 'uniform', activation = 'sigmoid'))\n",
        "\n",
        "# Compiling the ANN | means applying SGD on the whole ANN\n",
        "classifier.compile(optimizer = 'adam', loss = 'binary_crossentropy', metrics = ['accuracy'])\n",
        "\n",
        "\n"
      ],
      "execution_count": null,
      "outputs": []
    },
    {
      "cell_type": "markdown",
      "metadata": {
        "id": "nQ1_I3lxbafQ"
      },
      "source": [
        "DECISION TREE\n"
      ]
    },
    {
      "cell_type": "code",
      "metadata": {
        "id": "eVzZxFy-TDUd"
      },
      "source": [
        "import pandas as pd\n",
        "from sklearn.tree import DecisionTreeClassifier # Import Decision Tree Classifier\n",
        "from sklearn.model_selection import train_test_split # Import train_test_split function\n",
        "from sklearn import metrics #Import scikit-learn metrics module for accuracy calculation"
      ],
      "execution_count": null,
      "outputs": []
    },
    {
      "cell_type": "code",
      "metadata": {
        "id": "Ti_E51M3aoUL"
      },
      "source": [
        "x_train, x_test, y_train, y_test = train_test_split(x, y, test_size=0.3, random_state=1) # 70% training and 30% test"
      ],
      "execution_count": null,
      "outputs": []
    },
    {
      "cell_type": "code",
      "metadata": {
        "colab": {
          "base_uri": "https://localhost:8080/"
        },
        "id": "8tbzDQHma_mO",
        "outputId": "c5d69bb9-f64a-4b6d-a38f-1917d76ca2d1"
      },
      "source": [
        "clf = DecisionTreeClassifier()\n",
        "import time \n",
        "\n",
        "start=time.process_time()\n",
        "clf = clf.fit(x_train,y_train) \n",
        "stop=time.process_time()\n",
        "execution_time = (stop - start)/60\n",
        "print(\"Program Executed in minutes \"+str(execution_time)) \n"
      ],
      "execution_count": null,
      "outputs": [
        {
          "output_type": "stream",
          "text": [
            "Program Executed in minutes 0.37562533254999836\n"
          ],
          "name": "stdout"
        }
      ]
    },
    {
      "cell_type": "code",
      "metadata": {
        "colab": {
          "base_uri": "https://localhost:8080/"
        },
        "id": "WLcmF_ZGbQ5M",
        "outputId": "320c72dd-ab47-4b66-eb60-5e69138478e6"
      },
      "source": [
        "y_pred = clf.predict(x_test) \n",
        "print(\"Accuracy:\",metrics.accuracy_score(y_test, y_pred))"
      ],
      "execution_count": null,
      "outputs": [
        {
          "output_type": "stream",
          "text": [
            "Accuracy: 0.9884924070477572\n"
          ],
          "name": "stdout"
        }
      ]
    },
    {
      "cell_type": "code",
      "metadata": {
        "colab": {
          "base_uri": "https://localhost:8080/"
        },
        "id": "ZzwQryVvbfQg",
        "outputId": "61f4abd1-ae92-4af4-c046-858c3b07379d"
      },
      "source": [
        "y_train_pred = cross_val_predict(clf,x_train,y_train,cv=3)\n",
        "print(\"Confusion Matrix:\")\n",
        "print(confusion_matrix(y_train,y_train_pred))\n",
        "print(\"\")\n",
        "precision_dec = precision_score(y_train_pred,y_train,average = None)\n",
        "print(\"Precison_Score:\",precision_dec.mean())\n",
        "recall_dec = recall_score(y_train_pred,y_train,average = None)\n",
        "print(\"Recall_score:\",recall_dec.mean())\n",
        "\n",
        "print(\"Cross Val Score in Sample\",cross_val_score(clf,x_train,y_train,cv=3,scoring='accuracy').mean())\n",
        "print(\"Cross Val Score out Sample\",cross_val_score(clf,x_test,y_test,cv=3,scoring='accuracy').mean())"
      ],
      "execution_count": null,
      "outputs": [
        {
          "output_type": "stream",
          "text": [
            "Confusion Matrix:\n",
            "[[255685   2609    431]\n",
            " [  2385  48583      9]\n",
            " [   427     14 188453]]\n",
            "\n",
            "Precison_Score: 0.9796510247296605\n",
            "Recall_score: 0.9785226345566486\n",
            "Cross Val Score in Sample 0.9881948509488284\n",
            "Cross Val Score out Sample 0.9874113770402086\n"
          ],
          "name": "stdout"
        }
      ]
    },
    {
      "cell_type": "code",
      "metadata": {
        "id": "e8iYQJ5ob8TC"
      },
      "source": [
        ""
      ],
      "execution_count": null,
      "outputs": []
    },
    {
      "cell_type": "markdown",
      "metadata": {
        "id": "7cBm3ScFr9Dq"
      },
      "source": [
        "Logistic Regression\n"
      ]
    },
    {
      "cell_type": "code",
      "metadata": {
        "id": "KE820al3q-6x"
      },
      "source": [
        "import pandas as pd \n",
        "from sklearn.model_selection import train_test_split \n",
        "x_train,x_test,y_train,y_test=train_test_split(x,y,test_size=0.25,random_state=0)"
      ],
      "execution_count": null,
      "outputs": []
    },
    {
      "cell_type": "code",
      "metadata": {
        "colab": {
          "base_uri": "https://localhost:8080/"
        },
        "id": "sCaMfnmMszQ6",
        "outputId": "434f30a7-d11e-4be7-844b-6513ec9c4346"
      },
      "source": [
        "from sklearn.linear_model import LogisticRegression\n",
        "\n",
        "# instantiate the model (using the default parameters)\n",
        "logreg = LogisticRegression()\n",
        "\n",
        "import time \n",
        "start=time.process_time() \n",
        "logreg.fit(x_train,y_train) \n",
        "stop=time.process_time()\n",
        "execution_time = (stop - start)/60\n",
        "print(\"Program Executed in minutes \"+str(execution_time)) \n",
        "\n",
        "\n",
        "\n"
      ],
      "execution_count": null,
      "outputs": [
        {
          "output_type": "stream",
          "text": [
            "Program Executed in minutes 0.0001344450833333344\n"
          ],
          "name": "stdout"
        }
      ]
    },
    {
      "cell_type": "code",
      "metadata": {
        "id": "T-tKd1GMtewf"
      },
      "source": [
        "y_pred=logreg.predict(x_test)"
      ],
      "execution_count": null,
      "outputs": []
    },
    {
      "cell_type": "code",
      "metadata": {
        "colab": {
          "base_uri": "https://localhost:8080/"
        },
        "id": "K38KqtaOtjpc",
        "outputId": "7fa100be-2cc1-4dcd-8cff-8cecb27a4efe"
      },
      "source": [
        "from sklearn.model_selection import train_test_split,GridSearchCV,cross_val_predict,cross_val_score\n",
        "from sklearn.metrics import precision_score,recall_score,f1_score,confusion_matrix\n",
        "y_train_pred = cross_val_predict(logreg,x_train,y_train,cv=3)\n",
        "print(\"Confusion Matrix:\")\n",
        "print(confusion_matrix(y_train,y_train_pred))\n",
        "print(\"\")\n",
        "precision_log = precision_score(y_train_pred,y_train,average = None)\n",
        "print(\"Precison_Score:\",precision_log.mean())\n",
        "recall_log = recall_score(y_train_pred,y_train,average = None)\n",
        "print(\"Recall_score:\",recall_log.mean())\n",
        "\n",
        "print(\"Cross Val Score in Sample\",cross_val_score(logreg,x_train,y_train,cv=3,scoring='accuracy').mean())\n",
        "print(\"Cross Val Score out Sample\",cross_val_score(logreg,x_test,y_test,cv=3,scoring='accuracy').mean())"
      ],
      "execution_count": null,
      "outputs": [
        {
          "output_type": "stream",
          "text": [
            "Confusion Matrix:\n",
            "[[35  1]\n",
            " [ 4 35]]\n",
            "\n",
            "Precison_Score: 0.9348290598290598\n",
            "Recall_score: 0.9348290598290598\n",
            "Cross Val Score in Sample 0.9333333333333332\n",
            "Cross Val Score out Sample 0.9259259259259259\n"
          ],
          "name": "stdout"
        }
      ]
    },
    {
      "cell_type": "code",
      "metadata": {
        "colab": {
          "base_uri": "https://localhost:8080/"
        },
        "id": "Ufoj7CCzt27R",
        "outputId": "7f78b143-4d48-431a-a0b8-27604a494cba"
      },
      "source": [
        "from sklearn.metrics import accuracy_score \n",
        "print(accuracy_score(y_test, y_pred))"
      ],
      "execution_count": null,
      "outputs": [
        {
          "output_type": "stream",
          "text": [
            "0.96\n"
          ],
          "name": "stdout"
        }
      ]
    },
    {
      "cell_type": "code",
      "metadata": {
        "id": "ZfSOHrdbvh-_"
      },
      "source": [
        ""
      ],
      "execution_count": null,
      "outputs": []
    }
  ]
}