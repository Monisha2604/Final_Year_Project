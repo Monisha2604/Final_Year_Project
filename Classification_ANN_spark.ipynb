{
  "nbformat": 4,
  "nbformat_minor": 0,
  "metadata": {
    "colab": {
      "name": "Classification ANN spark.ipynb",
      "provenance": [],
      "collapsed_sections": [],
      "include_colab_link": true
    },
    "kernelspec": {
      "display_name": "Python 3",
      "name": "python3"
    }
  },
  "cells": [
    {
      "cell_type": "markdown",
      "metadata": {
        "id": "view-in-github",
        "colab_type": "text"
      },
      "source": [
        "<a href=\"https://colab.research.google.com/github/Monisha2604/Final_Year_Project/blob/master/Classification_ANN_spark.ipynb\" target=\"_parent\"><img src=\"https://colab.research.google.com/assets/colab-badge.svg\" alt=\"Open In Colab\"/></a>"
      ]
    },
    {
      "cell_type": "code",
      "metadata": {
        "id": "pmdiIPp1Yqvl"
      },
      "source": [
        "!apt-get install openjdk-8-jdk-headless -qq > /dev/null\n",
        "!wget -q https://www-us.apache.org/dist/spark/spark-3.0.3/spark-3.0.3-bin-hadoop2.7.tgz\n",
        "!tar xf spark-3.0.3-bin-hadoop2.7.tgz\n",
        "!pip install -q findspark"
      ],
      "execution_count": null,
      "outputs": []
    },
    {
      "cell_type": "code",
      "metadata": {
        "id": "I-dIF3p4ZGGl"
      },
      "source": [
        "import os\n",
        "os.environ[\"JAVA_HOME\"] = \"/usr/lib/jvm/java-8-openjdk-amd64\"\n",
        "os.environ[\"SPARK_HOME\"] = \"/content/spark-3.0.3-bin-hadoop2.7\""
      ],
      "execution_count": null,
      "outputs": []
    },
    {
      "cell_type": "code",
      "metadata": {
        "id": "11r3jgamZI-1"
      },
      "source": [
        "import findspark\n",
        "findspark.init()"
      ],
      "execution_count": null,
      "outputs": []
    },
    {
      "cell_type": "code",
      "metadata": {
        "id": "_isQudwNh74f"
      },
      "source": [
        "from pyspark.context import SparkContext,SparkConf\n",
        "from pyspark.sql import SparkSession\n",
        "from pyspark import SQLContext"
      ],
      "execution_count": null,
      "outputs": []
    },
    {
      "cell_type": "code",
      "metadata": {
        "id": "3NafXbXwiAb9"
      },
      "source": [
        "from pyspark.ml.feature import StringIndexer,VectorAssembler\n",
        "from pyspark.ml.classification import MultilayerPerceptronClassifier\n",
        "from pyspark.ml.evaluation import MulticlassClassificationEvaluator\n",
        "from pyspark.sql.types import DoubleType,IntegerType"
      ],
      "execution_count": null,
      "outputs": []
    },
    {
      "cell_type": "code",
      "metadata": {
        "id": "ABFJyO8eiDog"
      },
      "source": [
        "sc=SparkContext(\"local[2]\",\"MultilayerPerceptron\")\n",
        "spark=SparkSession.builder.master(\"local[2]\").appName(\"MultilayerPerceptron\").getOrCreate()\n",
        "sqlContext=SQLContext(sc)"
      ],
      "execution_count": null,
      "outputs": []
    },
    {
      "cell_type": "code",
      "metadata": {
        "colab": {
          "base_uri": "https://localhost:8080/"
        },
        "id": "zEBNNEP9iFob",
        "outputId": "62dc7a2e-a23b-4e28-aeee-78bc8c7afc76"
      },
      "source": [
        "df=sqlContext.read.csv(\"/content/drive/MyDrive/MyTable_13_snigdha.csv\",header=True,inferSchema=True)\n",
        "print(df.printSchema())"
      ],
      "execution_count": null,
      "outputs": [
        {
          "output_type": "stream",
          "text": [
            "root\n",
            " |-- objid: long (nullable = true)\n",
            " |-- ra: double (nullable = true)\n",
            " |-- dec: double (nullable = true)\n",
            " |-- psfMag_u: double (nullable = true)\n",
            " |-- psfMag_g: double (nullable = true)\n",
            " |-- psfMag_r: double (nullable = true)\n",
            " |-- psfMag_i: double (nullable = true)\n",
            " |-- psfMag_z: double (nullable = true)\n",
            " |-- dered_u: double (nullable = true)\n",
            " |-- dered_g: double (nullable = true)\n",
            " |-- dered_r: double (nullable = true)\n",
            " |-- dered_i: double (nullable = true)\n",
            " |-- dered_z: double (nullable = true)\n",
            " |-- fiberMag_u: double (nullable = true)\n",
            " |-- fiberMag_g: double (nullable = true)\n",
            " |-- fiberMag_r: double (nullable = true)\n",
            " |-- fiberMag_i: double (nullable = true)\n",
            " |-- fiberMag_z: double (nullable = true)\n",
            " |-- petroR50_r: double (nullable = true)\n",
            " |-- petroR50_z: double (nullable = true)\n",
            " |-- petroR90_r: double (nullable = true)\n",
            " |-- petroR90_z: double (nullable = true)\n",
            " |-- r: double (nullable = true)\n",
            " |-- i: double (nullable = true)\n",
            " |-- z: double (nullable = true)\n",
            " |-- redshift: double (nullable = true)\n",
            "\n",
            "None\n"
          ],
          "name": "stdout"
        }
      ]
    },
    {
      "cell_type": "code",
      "metadata": {
        "id": "IADbghMuiW_q"
      },
      "source": [
        "df=df[df.psfMag_u!=-9999.0]\n",
        "\n",
        "df=df[df.psfMag_g!=-9999.0]\n",
        "df=df[df.psfMag_r!=-9999.0]\n",
        "df=df[df.psfMag_i!=-9999.0]\n",
        "df=df[df.psfMag_z!=-9999.0]\n",
        "df=df[df.dered_u!=-9999.0]\n",
        "df=df[df.dered_g!=-9999.0]\n",
        "df=df[df.dered_r!=-9999.0]\n",
        "df=df[df.dered_i!=-9999.0]\n",
        "df=df[df.dered_z!=-9999.0]\n",
        "\n",
        "df=df[df.fiberMag_u!=-9999.0]\n",
        "df=df[df.fiberMag_g!=-9999.0]\n",
        "df=df[df.fiberMag_r!=-9999.0]\n",
        "df=df[df.fiberMag_i!=-9999.0]\n",
        "df=df[df.fiberMag_z!=-9999.0]\n",
        "\n",
        "df=df[df.petroR50_r!=-9999.0]\n",
        "df=df[df.petroR50_z!=-9999.0]\n",
        "df=df[df.petroR90_r!=-9999.0]\n",
        "df=df[df.petroR90_z!=-9999.0]\n",
        "\n",
        "df=df[df.r!=-9999.0]\n",
        "df=df[df.i!=-9999.0]\n",
        "df=df[df.z!=-9999.0]\n"
      ],
      "execution_count": null,
      "outputs": []
    },
    {
      "cell_type": "code",
      "metadata": {
        "colab": {
          "base_uri": "https://localhost:8080/"
        },
        "id": "9LoCIjO3irSQ",
        "outputId": "68865945-b67a-4b7b-90b8-00b79bdfd896"
      },
      "source": [
        "df.describe().show()"
      ],
      "execution_count": null,
      "outputs": [
        {
          "output_type": "stream",
          "text": [
            "+-------+--------------------+-------------------+------------------+------------------+------------------+------------------+------------------+------------------+------------------+------------------+------------------+------------------+-----------------+------------------+------------------+------------------+------------------+------------------+------------------+------------------+-----------------+------------------+------------------+-----------------+------------------+------------------+\n",
            "|summary|               objid|                 ra|               dec|          psfMag_u|          psfMag_g|          psfMag_r|          psfMag_i|          psfMag_z|           dered_u|           dered_g|           dered_r|           dered_i|          dered_z|        fiberMag_u|        fiberMag_g|        fiberMag_r|        fiberMag_i|        fiberMag_z|        petroR50_r|        petroR50_z|       petroR90_r|        petroR90_z|                 r|                i|                 z|          redshift|\n",
            "+-------+--------------------+-------------------+------------------+------------------+------------------+------------------+------------------+------------------+------------------+------------------+------------------+------------------+-----------------+------------------+------------------+------------------+------------------+------------------+------------------+------------------+-----------------+------------------+------------------+-----------------+------------------+------------------+\n",
            "|  count|             2441900|            2441900|           2441900|           2441900|           2441900|           2441900|           2441900|           2441900|           2441900|           2441900|           2441900|           2441900|          2441900|           2441900|           2441900|           2441900|           2441900|           2441900|           2441900|           2441900|          2441900|           2441900|           2441900|          2441900|           2441900|           2441900|\n",
            "|   mean|1.237660591850309...| 179.58175619418213|28.129255913502277| 22.62042909092583|21.464786666556098|20.462815178038245|19.883312522622195|19.490520568639894|21.983477807229814| 20.55314854212184|19.508007151405064| 18.93228175172609|18.59538895557572|22.652776495638616|21.526507009840856| 20.48733299540135|19.892694002625433|19.519576195450398|1.5616082463140566|1.5003854447045295|3.932937820764448|3.7744413945383903|19.581967893702398|18.98724250790251| 18.63626966398727|0.6831951584972503|\n",
            "| stddev|5.015338308718375E12|  69.08973333476634|19.202223684097923|1.7051568894133624|1.6610782486831335|1.4260657369201144|1.2772415174867835|1.2477904252685268|2.2054625691884526|1.9918931375293925|1.8073750513433553|1.7206735725067424|1.714824248218539|1.6135099290925563| 1.655637405853802|1.4652551211695537|1.3471882179266121|1.3064553793662312|1.3705953368564847|1.6044523543054838|3.155634334664422|3.1558470965600254|1.8025006783500919|1.716862655716527|1.7119862745866816|0.7284611853146115|\n",
            "|    min| 1237645879551000764|9.45808550909533E-5| -16.1949892554493|          7.842196|          7.464891|          8.873054|          8.385225|          6.444011|         -13.59375|         -7.685284|         0.5439796|          4.458445|         6.233005|          12.00516|          12.81985|          11.85843|          11.49362|           11.2548|        0.01981205|        0.01979949|       0.03432167|        0.02745004|          8.902843|         8.411285|          6.485586|       -0.01144691|\n",
            "|    max| 1237678581428126496|   359.999954129565|  83.7982372062514|          27.44829|          30.09237|          26.50509|          29.95165|          24.39007|          31.18573|          33.58532|          31.85576|          30.85461|         29.11098|          29.18485|          30.80903|          27.73823|          31.09943|          25.28506|          222.3921|          257.1793|         253.5749|          258.2257|           31.9436|         30.88116|          29.17408|           7.05193|\n",
            "+-------+--------------------+-------------------+------------------+------------------+------------------+------------------+------------------+------------------+------------------+------------------+------------------+------------------+-----------------+------------------+------------------+------------------+------------------+------------------+------------------+------------------+-----------------+------------------+------------------+-----------------+------------------+------------------+\n",
            "\n"
          ],
          "name": "stdout"
        }
      ]
    },
    {
      "cell_type": "code",
      "metadata": {
        "id": "_IxcoO0Pi5Cj"
      },
      "source": [
        "attributes=df.columns\n",
        "#for i in range(len(attributes)):\n",
        "#    print(attributes[i],\" :\",df.corr(attributes[i],\"redshift\"))"
      ],
      "execution_count": null,
      "outputs": []
    },
    {
      "cell_type": "code",
      "metadata": {
        "colab": {
          "base_uri": "https://localhost:8080/"
        },
        "id": "-onfCjsvi9an",
        "outputId": "1158de7c-b13f-482b-d48f-23f2c988f2ca"
      },
      "source": [
        "df=df.drop(\"objid\",\"ra\",\"dec\")\n",
        "print(df.printSchema())"
      ],
      "execution_count": null,
      "outputs": [
        {
          "output_type": "stream",
          "text": [
            "root\n",
            " |-- psfMag_u: double (nullable = true)\n",
            " |-- psfMag_g: double (nullable = true)\n",
            " |-- psfMag_r: double (nullable = true)\n",
            " |-- psfMag_i: double (nullable = true)\n",
            " |-- psfMag_z: double (nullable = true)\n",
            " |-- dered_u: double (nullable = true)\n",
            " |-- dered_g: double (nullable = true)\n",
            " |-- dered_r: double (nullable = true)\n",
            " |-- dered_i: double (nullable = true)\n",
            " |-- dered_z: double (nullable = true)\n",
            " |-- fiberMag_u: double (nullable = true)\n",
            " |-- fiberMag_g: double (nullable = true)\n",
            " |-- fiberMag_r: double (nullable = true)\n",
            " |-- fiberMag_i: double (nullable = true)\n",
            " |-- fiberMag_z: double (nullable = true)\n",
            " |-- petroR50_r: double (nullable = true)\n",
            " |-- petroR50_z: double (nullable = true)\n",
            " |-- petroR90_r: double (nullable = true)\n",
            " |-- petroR90_z: double (nullable = true)\n",
            " |-- r: double (nullable = true)\n",
            " |-- i: double (nullable = true)\n",
            " |-- z: double (nullable = true)\n",
            " |-- redshift: double (nullable = true)\n",
            "\n",
            "None\n"
          ],
          "name": "stdout"
        }
      ]
    },
    {
      "cell_type": "code",
      "metadata": {
        "colab": {
          "base_uri": "https://localhost:8080/",
          "height": 218
        },
        "id": "sDdRvgo0j_De",
        "outputId": "b3c795e6-cb1d-4302-f983-158f132890db"
      },
      "source": [
        "describe=df.describe().toPandas()\n",
        "describe"
      ],
      "execution_count": null,
      "outputs": [
        {
          "output_type": "execute_result",
          "data": {
            "text/html": [
              "<div>\n",
              "<style scoped>\n",
              "    .dataframe tbody tr th:only-of-type {\n",
              "        vertical-align: middle;\n",
              "    }\n",
              "\n",
              "    .dataframe tbody tr th {\n",
              "        vertical-align: top;\n",
              "    }\n",
              "\n",
              "    .dataframe thead th {\n",
              "        text-align: right;\n",
              "    }\n",
              "</style>\n",
              "<table border=\"1\" class=\"dataframe\">\n",
              "  <thead>\n",
              "    <tr style=\"text-align: right;\">\n",
              "      <th></th>\n",
              "      <th>summary</th>\n",
              "      <th>psfMag_g</th>\n",
              "      <th>psfMag_r</th>\n",
              "      <th>psfMag_i</th>\n",
              "      <th>psfMag_z</th>\n",
              "      <th>dered_u</th>\n",
              "      <th>dered_g</th>\n",
              "      <th>dered_r</th>\n",
              "      <th>dered_i</th>\n",
              "      <th>dered_z</th>\n",
              "      <th>fiberMag_u</th>\n",
              "      <th>fiberMag_g</th>\n",
              "      <th>fiberMag_r</th>\n",
              "      <th>fiberMag_i</th>\n",
              "      <th>fiberMag_z</th>\n",
              "      <th>r</th>\n",
              "      <th>i</th>\n",
              "      <th>z</th>\n",
              "      <th>redshift</th>\n",
              "    </tr>\n",
              "  </thead>\n",
              "  <tbody>\n",
              "    <tr>\n",
              "      <th>0</th>\n",
              "      <td>count</td>\n",
              "      <td>2429280</td>\n",
              "      <td>2429280</td>\n",
              "      <td>2429280</td>\n",
              "      <td>2429280</td>\n",
              "      <td>2429280</td>\n",
              "      <td>2429280</td>\n",
              "      <td>2429280</td>\n",
              "      <td>2429280</td>\n",
              "      <td>2429280</td>\n",
              "      <td>2429280</td>\n",
              "      <td>2429280</td>\n",
              "      <td>2429280</td>\n",
              "      <td>2429280</td>\n",
              "      <td>2429280</td>\n",
              "      <td>2429280</td>\n",
              "      <td>2429280</td>\n",
              "      <td>2429280</td>\n",
              "      <td>2429280</td>\n",
              "    </tr>\n",
              "    <tr>\n",
              "      <th>1</th>\n",
              "      <td>mean</td>\n",
              "      <td>21.466264234008563</td>\n",
              "      <td>20.463421008488332</td>\n",
              "      <td>19.883576505560058</td>\n",
              "      <td>19.490572486411523</td>\n",
              "      <td>21.984563734569313</td>\n",
              "      <td>20.553141212509566</td>\n",
              "      <td>19.506991573544486</td>\n",
              "      <td>18.93082651200435</td>\n",
              "      <td>18.59371937502935</td>\n",
              "      <td>22.65453073596289</td>\n",
              "      <td>21.527725587787412</td>\n",
              "      <td>20.487534032783614</td>\n",
              "      <td>19.89249716960207</td>\n",
              "      <td>19.51929580591793</td>\n",
              "      <td>19.580745583797224</td>\n",
              "      <td>18.985633644417724</td>\n",
              "      <td>18.634485815274736</td>\n",
              "      <td>0.6867449378489084</td>\n",
              "    </tr>\n",
              "    <tr>\n",
              "      <th>2</th>\n",
              "      <td>stddev</td>\n",
              "      <td>1.6583640742182884</td>\n",
              "      <td>1.423055409915492</td>\n",
              "      <td>1.2741065156414664</td>\n",
              "      <td>1.244813872814313</td>\n",
              "      <td>2.204401136207499</td>\n",
              "      <td>1.9901269483934518</td>\n",
              "      <td>1.8057082655894625</td>\n",
              "      <td>1.7190494334590851</td>\n",
              "      <td>1.7133292314898583</td>\n",
              "      <td>1.6117767634816462</td>\n",
              "      <td>1.653421140721453</td>\n",
              "      <td>1.462897146629538</td>\n",
              "      <td>1.344773516806486</td>\n",
              "      <td>1.3042327676613596</td>\n",
              "      <td>1.8012515997704157</td>\n",
              "      <td>1.7155376304086143</td>\n",
              "      <td>1.7107021498065549</td>\n",
              "      <td>0.7286797765964766</td>\n",
              "    </tr>\n",
              "    <tr>\n",
              "      <th>3</th>\n",
              "      <td>min</td>\n",
              "      <td>9.898472</td>\n",
              "      <td>9.470937</td>\n",
              "      <td>9.365116</td>\n",
              "      <td>9.529445</td>\n",
              "      <td>-13.59375</td>\n",
              "      <td>-7.685284</td>\n",
              "      <td>0.5439796</td>\n",
              "      <td>4.458445</td>\n",
              "      <td>6.233005</td>\n",
              "      <td>13.47047</td>\n",
              "      <td>14.59783</td>\n",
              "      <td>13.86967</td>\n",
              "      <td>13.81401</td>\n",
              "      <td>12.28998</td>\n",
              "      <td>9.474476</td>\n",
              "      <td>9.370869</td>\n",
              "      <td>9.673311</td>\n",
              "      <td>1.208629E-7</td>\n",
              "    </tr>\n",
              "    <tr>\n",
              "      <th>4</th>\n",
              "      <td>max</td>\n",
              "      <td>30.09237</td>\n",
              "      <td>26.50509</td>\n",
              "      <td>29.95165</td>\n",
              "      <td>24.39007</td>\n",
              "      <td>31.18573</td>\n",
              "      <td>31.53849</td>\n",
              "      <td>31.85576</td>\n",
              "      <td>30.85461</td>\n",
              "      <td>29.11098</td>\n",
              "      <td>29.18485</td>\n",
              "      <td>30.80903</td>\n",
              "      <td>27.73823</td>\n",
              "      <td>31.09943</td>\n",
              "      <td>24.9771</td>\n",
              "      <td>31.9436</td>\n",
              "      <td>30.88116</td>\n",
              "      <td>29.17408</td>\n",
              "      <td>7.05193</td>\n",
              "    </tr>\n",
              "  </tbody>\n",
              "</table>\n",
              "</div>"
            ],
            "text/plain": [
              "  summary            psfMag_g  ...                   z            redshift\n",
              "0   count             2429280  ...             2429280             2429280\n",
              "1    mean  21.466264234008563  ...  18.634485815274736  0.6867449378489084\n",
              "2  stddev  1.6583640742182884  ...  1.7107021498065549  0.7286797765964766\n",
              "3     min            9.898472  ...            9.673311         1.208629E-7\n",
              "4     max            30.09237  ...            29.17408             7.05193\n",
              "\n",
              "[5 rows x 19 columns]"
            ]
          },
          "metadata": {
            "tags": []
          },
          "execution_count": 14
        }
      ]
    },
    {
      "cell_type": "code",
      "metadata": {
        "colab": {
          "base_uri": "https://localhost:8080/"
        },
        "id": "24b0iePzklU6",
        "outputId": "42855789-bfd3-4d45-e35b-97dc75f33630"
      },
      "source": [
        "import pyspark.sql.functions as F\n",
        "from pyspark.sql.types import *\n",
        "def somefunc(value):\n",
        "    if   value>0 and value<0.7: \n",
        "        return 0\n",
        "    elif value>0.7 and value<1.41:\n",
        "        return 1\n",
        "    elif value>1.41 and value<2.11:\n",
        "        return 2\n",
        "    elif value>2.11 and value<2.82:\n",
        "        return 3\n",
        "    elif value>2.82 and value<3.52:\n",
        "        return 4\n",
        "    elif value>3.52 and value<4.23:\n",
        "        return 5\n",
        "    elif value>4.23 and value<5:\n",
        "        return 6\n",
        "    elif value>5 and value<5.6:\n",
        "        return 7\n",
        "    elif value>5.6 and value<6.3:\n",
        "        return 8\n",
        "    elif value>6.3 and value<7.05:\n",
        "        return 9\n",
        "    \n",
        "#convert to a UDF Function by passing in the function and return type of function\n",
        "udfsomefunc = F.udf(somefunc, IntegerType())\n",
        "df= df.withColumn(\"label\", udfsomefunc(\"redshift\"))\n",
        "df.show()"
      ],
      "execution_count": null,
      "outputs": [
        {
          "output_type": "stream",
          "text": [
            "+--------+--------+--------+--------+--------+--------+--------+--------+--------+--------+----------+----------+----------+----------+----------+----------+----------+----------+----------+--------+--------+--------+----------+-----+\n",
            "|psfMag_u|psfMag_g|psfMag_r|psfMag_i|psfMag_z| dered_u| dered_g| dered_r| dered_i| dered_z|fiberMag_u|fiberMag_g|fiberMag_r|fiberMag_i|fiberMag_z|petroR50_r|petroR50_z|petroR90_r|petroR90_z|       r|       i|       z|  redshift|label|\n",
            "+--------+--------+--------+--------+--------+--------+--------+--------+--------+--------+----------+----------+----------+----------+----------+----------+----------+----------+----------+--------+--------+--------+----------+-----+\n",
            "|24.35021|22.78955|22.03197|21.07172|21.22284|24.85709|21.12559|20.30777| 19.2567|19.64961|  23.45947|  22.21595|  21.79943|  20.82268|  20.63929|  3.463256|  1.221438|  5.318553|  3.343638|20.38345|19.31294|19.69144| 0.8162744|    1|\n",
            "|24.47392|22.43417|20.73903|19.74737|19.26174| 24.2802|21.56639|19.91743|18.95574|18.52003|  23.65456|   22.5849|  20.85625|  19.90601|  19.45691|  1.782849|  1.586178|   6.19271|  4.988663|19.99389|19.01255| 18.5623| 0.5564747|    0|\n",
            "|23.38084|22.54274|21.59399|20.49164| 20.0267|22.31751|21.26557|20.37567|19.42218|19.13447|  23.18704|  22.33743|  21.35546|  20.38862|  20.05538|  1.380345|  2.446029|  2.703028|  4.893902|20.47651|19.49712|19.19021|  0.619608|    0|\n",
            "|24.72258|22.71763|20.91958|20.06721|19.74904|24.47891|21.86707|20.02602| 19.1619| 18.8123|  25.56193|  22.43001|   20.7863|   20.0537|  19.60366|  1.569348|  1.792469|  6.201793|  8.331386|20.13745| 19.2447|18.87388| 0.4611808|    0|\n",
            "| 25.2249|24.46752|21.76405|20.69007|19.97592|26.23128|23.61348|20.46305|19.37706|18.63556|  25.20392|  23.63432|  21.81574|  20.69833|  19.95681|  1.762722|  2.094598|  3.480688|  4.283308|20.52637| 19.4241|18.67056| 0.6421724|    0|\n",
            "|23.55354|22.45598|20.99954|20.09101| 19.5419| 22.7042|21.62725|20.20583|19.39738|18.92167|  23.36428|  22.46785|  21.04416|  20.21503|  19.71143|   1.15138| 0.7017788|  3.379505|  1.196405|  20.268|19.44358|18.95604| 0.5553204|    0|\n",
            "|21.70427|20.79232|19.98709|19.59036|19.23104| 18.6573|17.62015|17.20031|16.94038|16.75367|   21.5369|  20.27036|  19.63993|   19.2544|  18.99801|  4.007807|  3.575031|  9.122769|  9.300534| 17.4657| 17.1376|16.90036|0.04402394|    0|\n",
            "|21.58328|20.38735|19.57332|18.99925|18.57326|19.54567|18.20083|17.61339|17.23501| 17.0314|   21.4308|  20.02897|   19.2105|  18.72402|  18.42265|  1.903496|  1.622004|  3.843295|  3.261534|17.92848|17.46916|17.20556|0.08781031|    0|\n",
            "| 21.1678| 19.4526|18.46825|17.98139|17.57809|19.93722| 18.2243| 17.3751|16.98035|16.70539|  21.29021|  19.48498|  18.47597|  18.00036|  17.67478|  1.153943|  1.118922|  3.401702|  3.302331| 17.6805| 17.2073| 16.8742|0.05917491|    0|\n",
            "|21.17853|19.17635|18.03896|17.52602|17.01611| 19.4564|17.30913|16.28168|15.85244|15.49496|  21.26003|  19.07335|  17.90324|  17.39616|  16.97397|  2.049955|    1.9838|  6.355478|   6.07556|16.58423|16.07726|15.66218| 0.1092862|    0|\n",
            "|21.78883|20.17289|19.08798|18.56919|18.10856|18.99529|17.49396|16.60232|16.24098|15.89137|  21.85461|  20.04889|   18.9334|  18.46421|  18.03927|  3.756351|  2.486459|   9.47885|  5.353099|16.91265|16.47159| 16.0629|0.08782733|    0|\n",
            "|20.89442|19.33404|18.49448|18.06617|17.68347| 19.7055|18.02899|17.23782|16.79329|16.45674|  21.05211|   19.3538|  18.51972|  18.03948|  17.68378|  1.996389|  1.864704|  4.898281|  4.408826|17.28813|16.83068|16.48455|0.07788806|    0|\n",
            "|21.04597|20.34885|19.93639|19.79957|19.63367|17.95683|17.10283|16.84429|16.71778|  16.687|  20.81333|  19.82058|  19.44227|  19.25203|  19.12497|  3.963073|  2.854615|  7.957783|  4.747912|17.10257|16.90971|16.82976|0.01660742|    0|\n",
            "|20.38704|19.16457|18.29217|17.84274|17.48801|17.49813|16.13657|15.48056|15.10819|14.83966|  20.43113|  18.94648|  18.06844|   17.6023|  17.22888|  4.866303|  4.477489|  9.355639|  8.716623|15.74451|15.30433|14.98556| 0.0504769|    0|\n",
            "|21.61665|19.82155|  18.748|18.27782|17.91564|20.12363|18.14301|17.19932|16.78641|16.45385|  21.86315|  19.74293|  18.68667|  18.21135|  17.82475|  1.987102|  1.735654|  6.147456|  5.013532|17.44821|16.97135|16.59142| 0.1077413|    0|\n",
            "|23.30925|22.15276|20.29525| 19.5218|19.04421|22.33039|20.53016|18.72577|18.00626|17.57962|   23.6361|  22.16202|  20.24828|  19.45357|  18.97869|  2.067432|  1.456434|  5.587363|  3.868854| 18.9745| 18.1911|17.71711| 0.4031112|    0|\n",
            "|21.49633|19.37705|18.40376|17.98159|17.53014|19.50312|17.37516|16.49396|16.11985| 15.8056|  21.42938|  19.26621|  18.23833|  17.79615|  17.41667|  2.200965|   2.19278|  6.514995|  6.452497|16.80126|16.34821|15.97546|0.09800664|    0|\n",
            "|  22.238|20.13507|18.78731|18.26305|17.84711|21.06491| 18.7877|17.58297|17.10366|  16.724|  22.24924|  20.07566|    18.764|  18.19737|   17.7667|  1.288412|   1.11685|  3.623408|  3.512226|17.87225|17.31862| 16.8839| 0.1531249|    0|\n",
            "|22.00384|20.49115| 19.6092|19.25174| 19.0458|18.09337|16.61526|15.98688|15.69359|15.48375|  21.91412|  20.27685|  19.38179|  18.96157|  18.64882|  6.920745|  5.406353|  12.34279|  9.002994|16.27731| 15.9094|15.64428|0.06366909|    0|\n",
            "|21.40737|20.37486|19.84155|19.71085|19.61652|19.22499| 18.1385|17.73387|17.54859|17.38435|  21.18713|  19.96016|  19.44691|  19.18525|  18.96943|  2.225943|  2.375711|  5.267819|  6.071639|  18.027|17.76642|17.54637|0.02425634|    0|\n",
            "+--------+--------+--------+--------+--------+--------+--------+--------+--------+--------+----------+----------+----------+----------+----------+----------+----------+----------+----------+--------+--------+--------+----------+-----+\n",
            "only showing top 20 rows\n",
            "\n"
          ],
          "name": "stdout"
        }
      ]
    },
    {
      "cell_type": "code",
      "metadata": {
        "id": "WbKFoFDan9PP"
      },
      "source": [
        "#import pyspark.sql.functions as F\n",
        "#from pyspark.sql.types import *\n",
        "#def somefunc(value):\n",
        "#   if   value>0 and value<5: \n",
        "#        return 0\n",
        "#    elif value>5 and value<7.051:\n",
        "#        return 1\n",
        "    \n",
        "#convert to a UDF Function by passing in the function and return type of function\n",
        "#udfsomefunc = F.udf(somefunc, IntegerType())\n",
        "#df= df.withColumn(\"label\", udfsomefunc(\"redshift\"))\n",
        "#df.show()"
      ],
      "execution_count": null,
      "outputs": []
    },
    {
      "cell_type": "code",
      "metadata": {
        "colab": {
          "base_uri": "https://localhost:8080/"
        },
        "id": "EiG1yPEymk5Q",
        "outputId": "993a8489-b369-4764-8550-432edb7541c2"
      },
      "source": [
        "df.printSchema()"
      ],
      "execution_count": null,
      "outputs": [
        {
          "output_type": "stream",
          "text": [
            "root\n",
            " |-- psfMag_u: double (nullable = true)\n",
            " |-- psfMag_g: double (nullable = true)\n",
            " |-- psfMag_r: double (nullable = true)\n",
            " |-- psfMag_i: double (nullable = true)\n",
            " |-- psfMag_z: double (nullable = true)\n",
            " |-- dered_u: double (nullable = true)\n",
            " |-- dered_g: double (nullable = true)\n",
            " |-- dered_r: double (nullable = true)\n",
            " |-- dered_i: double (nullable = true)\n",
            " |-- dered_z: double (nullable = true)\n",
            " |-- fiberMag_u: double (nullable = true)\n",
            " |-- fiberMag_g: double (nullable = true)\n",
            " |-- fiberMag_r: double (nullable = true)\n",
            " |-- fiberMag_i: double (nullable = true)\n",
            " |-- fiberMag_z: double (nullable = true)\n",
            " |-- petroR50_r: double (nullable = true)\n",
            " |-- petroR50_z: double (nullable = true)\n",
            " |-- petroR90_r: double (nullable = true)\n",
            " |-- petroR90_z: double (nullable = true)\n",
            " |-- r: double (nullable = true)\n",
            " |-- i: double (nullable = true)\n",
            " |-- z: double (nullable = true)\n",
            " |-- redshift: double (nullable = true)\n",
            " |-- label: integer (nullable = true)\n",
            "\n"
          ],
          "name": "stdout"
        }
      ]
    },
    {
      "cell_type": "code",
      "metadata": {
        "id": "B92HZkhFk2lQ"
      },
      "source": [
        "assembler=VectorAssembler(\n",
        "    inputCols=['psfMag_g',\n",
        "               'psfMag_r',\n",
        "               'psfMag_i',\n",
        "               'psfMag_z',\n",
        "               'dered_u', \n",
        "               'dered_g', \n",
        "               'dered_r', \n",
        "               'dered_i', \n",
        "               'dered_z', \n",
        "               'fiberMag_u', \n",
        "               'fiberMag_g', \n",
        "               'fiberMag_r', \n",
        "               'fiberMag_i', \n",
        "               'fiberMag_z', \n",
        "               'r', \n",
        "               'i', \n",
        "               'z'],\n",
        "    outputCol=\"features\"\n",
        ")"
      ],
      "execution_count": null,
      "outputs": []
    },
    {
      "cell_type": "code",
      "metadata": {
        "id": "eD4a0HcEmJ2s"
      },
      "source": [
        "df=assembler.transform(df)"
      ],
      "execution_count": null,
      "outputs": []
    },
    {
      "cell_type": "code",
      "metadata": {
        "colab": {
          "base_uri": "https://localhost:8080/"
        },
        "id": "g1-TBdCbnH21",
        "outputId": "468e0e85-5231-4266-c982-00a406aa1309"
      },
      "source": [
        "df.printSchema()"
      ],
      "execution_count": null,
      "outputs": [
        {
          "output_type": "stream",
          "text": [
            "root\n",
            " |-- psfMag_u: double (nullable = true)\n",
            " |-- psfMag_g: double (nullable = true)\n",
            " |-- psfMag_r: double (nullable = true)\n",
            " |-- psfMag_i: double (nullable = true)\n",
            " |-- psfMag_z: double (nullable = true)\n",
            " |-- dered_u: double (nullable = true)\n",
            " |-- dered_g: double (nullable = true)\n",
            " |-- dered_r: double (nullable = true)\n",
            " |-- dered_i: double (nullable = true)\n",
            " |-- dered_z: double (nullable = true)\n",
            " |-- fiberMag_u: double (nullable = true)\n",
            " |-- fiberMag_g: double (nullable = true)\n",
            " |-- fiberMag_r: double (nullable = true)\n",
            " |-- fiberMag_i: double (nullable = true)\n",
            " |-- fiberMag_z: double (nullable = true)\n",
            " |-- petroR50_r: double (nullable = true)\n",
            " |-- petroR50_z: double (nullable = true)\n",
            " |-- petroR90_r: double (nullable = true)\n",
            " |-- petroR90_z: double (nullable = true)\n",
            " |-- r: double (nullable = true)\n",
            " |-- i: double (nullable = true)\n",
            " |-- z: double (nullable = true)\n",
            " |-- redshift: double (nullable = true)\n",
            " |-- label: integer (nullable = true)\n",
            " |-- features: vector (nullable = true)\n",
            "\n"
          ],
          "name": "stdout"
        }
      ]
    },
    {
      "cell_type": "code",
      "metadata": {
        "id": "uDf_0TSbpLFt"
      },
      "source": [
        "label=round(df.groupBy().avg(\"label\").collect()[0][0],2)\n",
        "df=df.na.fill({\"label\":label})\n",
        "df=df.na.drop()"
      ],
      "execution_count": null,
      "outputs": []
    },
    {
      "cell_type": "code",
      "metadata": {
        "id": "_pjzJvfumUhH"
      },
      "source": [
        "(trainingData,testData)=df.randomSplit([0.8,0.2])"
      ],
      "execution_count": null,
      "outputs": []
    },
    {
      "cell_type": "code",
      "metadata": {
        "id": "G8jMyL7cmd3n"
      },
      "source": [
        "layers=[17,100,100,100,10]\n",
        "mlp=MultilayerPerceptronClassifier(\n",
        "    featuresCol=\"features\",\n",
        "    labelCol=\"label\",\n",
        "    layers=layers,\n",
        "    maxIter=100,\n",
        "    blockSize=128,\n",
        "    seed=0)"
      ],
      "execution_count": null,
      "outputs": []
    },
    {
      "cell_type": "code",
      "metadata": {
        "colab": {
          "background_save": true
        },
        "id": "PdQ7Y3MWmnX-",
        "outputId": "749359b2-a755-4f0c-86a1-20cd682eeb4a"
      },
      "source": [
        "%%time\n",
        "model=mlp.fit(trainingData)"
      ],
      "execution_count": null,
      "outputs": [
        {
          "output_type": "stream",
          "text": [
            "CPU times: user 1min 4s, sys: 6.86 s, total: 1min 10s\n",
            "Wall time: 5h 26min 21s\n"
          ],
          "name": "stdout"
        }
      ]
    },
    {
      "cell_type": "code",
      "metadata": {
        "colab": {
          "background_save": true
        },
        "id": "zhi0zosFnQpD"
      },
      "source": [
        "result=model.transform(testData)"
      ],
      "execution_count": null,
      "outputs": []
    },
    {
      "cell_type": "code",
      "metadata": {
        "colab": {
          "background_save": true
        },
        "id": "VeQoSH8lxEM5",
        "outputId": "2e9e5426-0763-4737-e414-c2c344e3a5cf"
      },
      "source": [
        "result.show(10)"
      ],
      "execution_count": null,
      "outputs": [
        {
          "output_type": "stream",
          "text": [
            "+--------+--------+--------+--------+--------+--------+--------+--------+--------+--------+----------+----------+----------+----------+----------+----------+----------+----------+----------+--------+--------+--------+----------+-----+--------------------+--------------------+--------------------+----------+\n",
            "|psfMag_u|psfMag_g|psfMag_r|psfMag_i|psfMag_z| dered_u| dered_g| dered_r| dered_i| dered_z|fiberMag_u|fiberMag_g|fiberMag_r|fiberMag_i|fiberMag_z|petroR50_r|petroR50_z|petroR90_r|petroR90_z|       r|       i|       z|  redshift|label|            features|       rawPrediction|         probability|prediction|\n",
            "+--------+--------+--------+--------+--------+--------+--------+--------+--------+--------+----------+----------+----------+----------+----------+----------+----------+----------+----------+--------+--------+--------+----------+-----+--------------------+--------------------+--------------------+----------+\n",
            "|15.51002|15.59608| 16.7501|16.71311|13.20851|  12.057|12.34764|13.36219|13.89227| 12.6306|   15.8341|  15.45148|  15.97557|  15.89525|  13.53941|  1.340902| 0.5662669|  2.609381|  1.506458|15.53531|15.50713|13.83176| 0.1288867|    0|[15.59608,16.7501...|[4.05180688003037...|[0.46331590374866...|       0.0|\n",
            "|15.77395|15.57564|15.56291|15.61204|15.62096|15.72092|15.50268|15.53615|15.60074|15.58844|  16.11497|  15.91673|  15.88399|  15.96055|  15.96055| 0.7130714| 0.7200043|  1.524053|  1.591595|15.56811| 15.6245|15.60611| 0.7666203|    1|[15.57564,15.5629...|[1.30335821893137...|[0.05812534328024...|       2.0|\n",
            "|15.80577|15.77493| 15.6867| 15.2799|15.43798|15.60293|15.56477|15.49587|15.11918|15.27705|    16.084|  16.01832|  15.94741|   15.5389|  15.68698| 0.6630775| 0.6776074|  1.539451|  1.636327|15.60302|15.19881|15.33627| 0.1717544|    0|[15.77493,15.6867...|[2.26405280708684...|[0.15707627620520...|       1.0|\n",
            "|15.90918|14.43731| 14.0058|14.50482|13.73121|15.90699|14.45588|14.13463|14.97473|13.76666|  16.24658|  14.77611|  14.34184|  15.10498|  14.08332| 0.7798243| 0.6476222|  1.693038|  1.524906|14.17117|15.00188|13.78685|       0.0|    0|[14.43731,14.0058...|[0.93051965347796...|[0.03661358462549...|       2.0|\n",
            "|16.02797|15.90819|15.62636|15.54007|15.34995|15.37885|14.74069|14.27168|14.06573|13.88973|  16.45437|   16.2178|  15.82392|  15.75489|  15.55759|  2.810666|  3.215369|  8.610178|   8.93784|14.34112|14.11733|13.92811|0.01948028|    0|[15.90819,15.6263...|[8.60176198597398...|[0.96331505842238...|       0.0|\n",
            "|16.33266|16.34443|16.19267|16.29783|16.27863|16.11627|16.13579|16.04494| 16.2123|16.20652|  16.63068|  16.62225|  16.48089|   16.6261|  16.61287| 0.6110978| 0.6060764|  1.293797|  1.297932| 16.1535|16.29296|16.26652|   1.00857|    1|[16.34443,16.1926...|[1.77829028202194...|[0.09853911735695...|       1.0|\n",
            "|16.34758|16.29135|16.26635| 15.7873|16.01449|16.20003|16.15081|16.17014|15.71175|15.94219|  16.68143|  16.60854|  16.67958|  16.15676|  16.34997|  1.094676| 0.7956493|  2.440221|  1.877102|16.23728|15.76164| 15.9793| 0.1058275|    0|[16.29135,16.2663...|[1.73283532370494...|[0.09400236613817...|       1.0|\n",
            "|16.39124|16.26549|16.44626| 16.4336|16.22924|16.20972|16.07934|16.32475|16.31392|16.14828|  16.72243|  16.58064|   16.7664|  16.72987|  16.54233| 0.6373879| 0.6805983|   1.44777|    1.5894|16.42408|16.38773|16.20318| 0.4236993|    0|[16.26549,16.4462...|[1.19291265558423...|[0.05071823947585...|       2.0|\n",
            "|16.39895|15.99857|15.70956|15.46439| 15.2575|15.83293| 14.8829|14.32024|13.99704|13.77189|  16.73423|  16.25677|  15.96777|  15.67261|  15.44409|  3.852999|  3.843463|  11.18764|  10.90591|14.34369|14.01447|13.78485|0.04151702|    0|[15.99857,15.7095...|[8.64663558881226...|[0.96443204752149...|       0.0|\n",
            "|16.42847|16.40363|16.32282|15.86037|15.98546|16.18515|16.11799|16.03999|15.60949|15.70845|  16.72355|  16.66648|  16.55804|  16.08987|  16.21671| 0.6523501| 0.7005554|  1.670896|  1.792818| 16.1565|15.69607|15.77285| 0.1346648|    0|[16.40363,16.3228...|[2.67472513372464...|[0.21885203569748...|       1.0|\n",
            "+--------+--------+--------+--------+--------+--------+--------+--------+--------+--------+----------+----------+----------+----------+----------+----------+----------+----------+----------+--------+--------+--------+----------+-----+--------------------+--------------------+--------------------+----------+\n",
            "only showing top 10 rows\n",
            "\n"
          ],
          "name": "stdout"
        }
      ]
    },
    {
      "cell_type": "code",
      "metadata": {
        "colab": {
          "background_save": true
        },
        "id": "l10oucfvxHH7",
        "outputId": "b4b652e9-6c8e-48cb-f79d-4926e54812c3"
      },
      "source": [
        "prediction_label = result.select(\"prediction\", \"label\")\n",
        "evaluator = MulticlassClassificationEvaluator(labelCol=\"label\", predictionCol=\"prediction\", metricName=\"accuracy\")\n",
        "print(\"MLP test accuracy: \" + str(evaluator.evaluate(prediction_label)))"
      ],
      "execution_count": null,
      "outputs": [
        {
          "output_type": "stream",
          "text": [
            "MLP test accuracy: 0.7862831159290927\n"
          ],
          "name": "stdout"
        }
      ]
    },
    {
      "cell_type": "markdown",
      "metadata": {
        "id": "1cPSLn6R8Brs"
      },
      "source": [
        "#1)[17,28,24,10]\n",
        "iteration1 :\n",
        "===>CPU times: user 317 ms, sys: 63.3 ms, total: 381 ms,Wall time: 35min 4s\n",
        "===>accuracy:77%\n"
      ]
    },
    {
      "cell_type": "markdown",
      "metadata": {
        "id": "UF0P4ffPcXDC"
      },
      "source": [
        "#2)[17,30,40,10]\n",
        "iteration2:\n",
        "===>CPU times: user 518 ms, sys: 114 ms, total: 633 ms,Wall time: 55min 43s\n",
        "===>accuracy:78.09%\n"
      ]
    },
    {
      "cell_type": "markdown",
      "metadata": {
        "id": "WPaUaasyccsc"
      },
      "source": [
        "#3)[17,50,50,10]\n",
        "iteration3:\n",
        "===>CPU times:CPU times: user 655 ms, sys: 142 ms, total: 797 ms,Wall time: 1h 16min 27s\n",
        "===>accurarcy:76.17%"
      ]
    },
    {
      "cell_type": "code",
      "metadata": {
        "id": "Ane3_jrI8I3Z"
      },
      "source": [
        "redshift=np.array(df.select(\"reshift\").collect())\n",
        "import matplotlib.pyplot as plt\n",
        "plt.hist(redshift,bins=10)"
      ],
      "execution_count": null,
      "outputs": []
    },
    {
      "cell_type": "code",
      "metadata": {
        "id": "ArjiA6XYpRoJ"
      },
      "source": [
        "redshift_class=np.array(df.select(\"label\").collect())\n",
        "import matplotlib.pyplot as plt\n",
        "plt.hist(redshift_class,bins=10)"
      ],
      "execution_count": null,
      "outputs": []
    },
    {
      "cell_type": "code",
      "metadata": {
        "id": "czrKX-EtqWxn"
      },
      "source": [
        ""
      ],
      "execution_count": null,
      "outputs": []
    }
  ]
}