{
  "nbformat": 4,
  "nbformat_minor": 0,
  "metadata": {
    "colab": {
      "name": "LR_sklearn.ipynb",
      "provenance": [],
      "include_colab_link": true
    },
    "kernelspec": {
      "name": "python3",
      "display_name": "Python 3"
    },
    "language_info": {
      "name": "python"
    }
  },
  "cells": [
    {
      "cell_type": "markdown",
      "metadata": {
        "id": "view-in-github",
        "colab_type": "text"
      },
      "source": [
        "<a href=\"https://colab.research.google.com/github/Monisha2604/Final_Year_Project/blob/master/LR_sklearn.ipynb\" target=\"_parent\"><img src=\"https://colab.research.google.com/assets/colab-badge.svg\" alt=\"Open In Colab\"/></a>"
      ]
    },
    {
      "cell_type": "code",
      "metadata": {
        "id": "hkHy-C-FVRFT"
      },
      "source": [
        "import numpy as np\n",
        "import pandas as pd\n",
        "import matplotlib.pyplot as plt"
      ],
      "execution_count": null,
      "outputs": []
    },
    {
      "cell_type": "code",
      "metadata": {
        "colab": {
          "base_uri": "https://localhost:8080/"
        },
        "id": "34P8A4rwDHkS",
        "outputId": "6979f63c-d24e-4229-d137-aeab1ac15065"
      },
      "source": [
        "from google.colab import drive\n",
        "drive.mount('/content/drive')"
      ],
      "execution_count": null,
      "outputs": [
        {
          "output_type": "stream",
          "text": [
            "Mounted at /content/drive\n"
          ],
          "name": "stdout"
        }
      ]
    },
    {
      "cell_type": "code",
      "metadata": {
        "id": "wxNvTCgDWDg5"
      },
      "source": [
        "df=pd.read_csv(\"/content/drive/MyDrive/Copy of Final_project_processed_data.csv\")"
      ],
      "execution_count": null,
      "outputs": []
    },
    {
      "cell_type": "code",
      "metadata": {
        "colab": {
          "base_uri": "https://localhost:8080/"
        },
        "id": "b0Pz4sx1Wtos",
        "outputId": "0e37e38d-3353-4bd0-d867-31f32e60c607"
      },
      "source": [
        "df.columns"
      ],
      "execution_count": null,
      "outputs": [
        {
          "output_type": "execute_result",
          "data": {
            "text/plain": [
              "Index(['Unnamed: 0', 'psfMag_u', 'psfMag_g', 'psfMag_r', 'psfMag_i',\n",
              "       'psfMag_z', 'dered_u', 'dered_g', 'dered_r', 'dered_i', 'dered_z',\n",
              "       'fiberMag_u', 'fiberMag_g', 'fiberMag_r', 'fiberMag_i', 'fiberMag_z',\n",
              "       'petroR50_r', 'petroR50_z', 'petroR90_r', 'petroR90_z', 'r', 'i', 'z',\n",
              "       'redshift'],\n",
              "      dtype='object')"
            ]
          },
          "metadata": {
            "tags": []
          },
          "execution_count": 4
        }
      ]
    },
    {
      "cell_type": "code",
      "metadata": {
        "id": "61frYZvrWywt"
      },
      "source": [
        "#df=df.drop(['objid','zerr'],axis=1)"
      ],
      "execution_count": null,
      "outputs": []
    },
    {
      "cell_type": "code",
      "metadata": {
        "id": "nlWMqH1UW9jD",
        "colab": {
          "base_uri": "https://localhost:8080/",
          "height": 555
        },
        "outputId": "c57c3b0c-14e7-44d7-e43e-34e107919f7d"
      },
      "source": [
        "df[df[\"modelMag_u\"]==-9999]=np.nan\n",
        "df[df[\"modelMag_g\"]==-9999]=np.nan\n",
        "df[df[\"modelMag_r\"]==-9999]=np.nan\n",
        "df[df[\"modelMag_i\"]==-9999]=np.nan\n",
        "df[df[\"modelMag_z\"]==-9999]=np.nan\n",
        "df[df[\"fiberMag_u\"]==-9999]=np.nan\n",
        "df[df[\"fiberMag_g\"]==-9999]=np.nan\n",
        "df[df[\"fiberMag_r\"]==-9999]=np.nan\n",
        "df[df[\"fiberMag_i\"]==-9999]=np.nan\n",
        "df[df[\"fiberMag_z\"]==-9999]=np.nan\n",
        "df[df[\"r\"]==-9999]=np.nan\n",
        "df[df[\"i\"]==-9999]=np.nan\n",
        "df[df[\"z\"]==-9999]=np.nan\n",
        "df[df[\"petroR50_r\"]==-9999]=np.nan\n",
        "df[df[\"petroR90_r\"]==-9999]=np.nan\n",
        "df[df[\"petroR50_z\"]==-9999]=np.nan\n",
        "df[df[\"petroR90_z\"]==-9999]=np.nan\n",
        "df[df[\"mmug\"]==-9999]=np.nan\n",
        "df[df[\"mmgr\"]==-4990.907685]=np.nan\n",
        "df[df[\"mmri\"]==-4990.575205]=np.nan\n",
        "df[df[\"mmiz\"]==-9999]=np.nan\n",
        "df[df[\"mfug\"]==-9999]=np.nan\n",
        "df[df[\"mfgr\"]==-4990.237130]=np.nan\n",
        "df[df[\"mfri\"]==-4990.135340]=np.nan\n",
        "df[df[\"mfiz\"]==-9999]=np.nan"
      ],
      "execution_count": null,
      "outputs": [
        {
          "output_type": "error",
          "ename": "KeyError",
          "evalue": "ignored",
          "traceback": [
            "\u001b[0;31m---------------------------------------------------------------------------\u001b[0m",
            "\u001b[0;31mKeyError\u001b[0m                                  Traceback (most recent call last)",
            "\u001b[0;32m/usr/local/lib/python3.7/dist-packages/pandas/core/indexes/base.py\u001b[0m in \u001b[0;36mget_loc\u001b[0;34m(self, key, method, tolerance)\u001b[0m\n\u001b[1;32m   2897\u001b[0m             \u001b[0;32mtry\u001b[0m\u001b[0;34m:\u001b[0m\u001b[0;34m\u001b[0m\u001b[0;34m\u001b[0m\u001b[0m\n\u001b[0;32m-> 2898\u001b[0;31m                 \u001b[0;32mreturn\u001b[0m \u001b[0mself\u001b[0m\u001b[0;34m.\u001b[0m\u001b[0m_engine\u001b[0m\u001b[0;34m.\u001b[0m\u001b[0mget_loc\u001b[0m\u001b[0;34m(\u001b[0m\u001b[0mcasted_key\u001b[0m\u001b[0;34m)\u001b[0m\u001b[0;34m\u001b[0m\u001b[0;34m\u001b[0m\u001b[0m\n\u001b[0m\u001b[1;32m   2899\u001b[0m             \u001b[0;32mexcept\u001b[0m \u001b[0mKeyError\u001b[0m \u001b[0;32mas\u001b[0m \u001b[0merr\u001b[0m\u001b[0;34m:\u001b[0m\u001b[0;34m\u001b[0m\u001b[0;34m\u001b[0m\u001b[0m\n",
            "\u001b[0;32mpandas/_libs/index.pyx\u001b[0m in \u001b[0;36mpandas._libs.index.IndexEngine.get_loc\u001b[0;34m()\u001b[0m\n",
            "\u001b[0;32mpandas/_libs/index.pyx\u001b[0m in \u001b[0;36mpandas._libs.index.IndexEngine.get_loc\u001b[0;34m()\u001b[0m\n",
            "\u001b[0;32mpandas/_libs/hashtable_class_helper.pxi\u001b[0m in \u001b[0;36mpandas._libs.hashtable.PyObjectHashTable.get_item\u001b[0;34m()\u001b[0m\n",
            "\u001b[0;32mpandas/_libs/hashtable_class_helper.pxi\u001b[0m in \u001b[0;36mpandas._libs.hashtable.PyObjectHashTable.get_item\u001b[0;34m()\u001b[0m\n",
            "\u001b[0;31mKeyError\u001b[0m: 'modelMag_u'",
            "\nThe above exception was the direct cause of the following exception:\n",
            "\u001b[0;31mKeyError\u001b[0m                                  Traceback (most recent call last)",
            "\u001b[0;32m<ipython-input-6-2ce665f1319b>\u001b[0m in \u001b[0;36m<module>\u001b[0;34m()\u001b[0m\n\u001b[0;32m----> 1\u001b[0;31m \u001b[0mdf\u001b[0m\u001b[0;34m[\u001b[0m\u001b[0mdf\u001b[0m\u001b[0;34m[\u001b[0m\u001b[0;34m\"modelMag_u\"\u001b[0m\u001b[0;34m]\u001b[0m\u001b[0;34m==\u001b[0m\u001b[0;34m-\u001b[0m\u001b[0;36m9999\u001b[0m\u001b[0;34m]\u001b[0m\u001b[0;34m=\u001b[0m\u001b[0mnp\u001b[0m\u001b[0;34m.\u001b[0m\u001b[0mnan\u001b[0m\u001b[0;34m\u001b[0m\u001b[0;34m\u001b[0m\u001b[0m\n\u001b[0m\u001b[1;32m      2\u001b[0m \u001b[0mdf\u001b[0m\u001b[0;34m[\u001b[0m\u001b[0mdf\u001b[0m\u001b[0;34m[\u001b[0m\u001b[0;34m\"modelMag_g\"\u001b[0m\u001b[0;34m]\u001b[0m\u001b[0;34m==\u001b[0m\u001b[0;34m-\u001b[0m\u001b[0;36m9999\u001b[0m\u001b[0;34m]\u001b[0m\u001b[0;34m=\u001b[0m\u001b[0mnp\u001b[0m\u001b[0;34m.\u001b[0m\u001b[0mnan\u001b[0m\u001b[0;34m\u001b[0m\u001b[0;34m\u001b[0m\u001b[0m\n\u001b[1;32m      3\u001b[0m \u001b[0mdf\u001b[0m\u001b[0;34m[\u001b[0m\u001b[0mdf\u001b[0m\u001b[0;34m[\u001b[0m\u001b[0;34m\"modelMag_r\"\u001b[0m\u001b[0;34m]\u001b[0m\u001b[0;34m==\u001b[0m\u001b[0;34m-\u001b[0m\u001b[0;36m9999\u001b[0m\u001b[0;34m]\u001b[0m\u001b[0;34m=\u001b[0m\u001b[0mnp\u001b[0m\u001b[0;34m.\u001b[0m\u001b[0mnan\u001b[0m\u001b[0;34m\u001b[0m\u001b[0;34m\u001b[0m\u001b[0m\n\u001b[1;32m      4\u001b[0m \u001b[0mdf\u001b[0m\u001b[0;34m[\u001b[0m\u001b[0mdf\u001b[0m\u001b[0;34m[\u001b[0m\u001b[0;34m\"modelMag_i\"\u001b[0m\u001b[0;34m]\u001b[0m\u001b[0;34m==\u001b[0m\u001b[0;34m-\u001b[0m\u001b[0;36m9999\u001b[0m\u001b[0;34m]\u001b[0m\u001b[0;34m=\u001b[0m\u001b[0mnp\u001b[0m\u001b[0;34m.\u001b[0m\u001b[0mnan\u001b[0m\u001b[0;34m\u001b[0m\u001b[0;34m\u001b[0m\u001b[0m\n\u001b[1;32m      5\u001b[0m \u001b[0mdf\u001b[0m\u001b[0;34m[\u001b[0m\u001b[0mdf\u001b[0m\u001b[0;34m[\u001b[0m\u001b[0;34m\"modelMag_z\"\u001b[0m\u001b[0;34m]\u001b[0m\u001b[0;34m==\u001b[0m\u001b[0;34m-\u001b[0m\u001b[0;36m9999\u001b[0m\u001b[0;34m]\u001b[0m\u001b[0;34m=\u001b[0m\u001b[0mnp\u001b[0m\u001b[0;34m.\u001b[0m\u001b[0mnan\u001b[0m\u001b[0;34m\u001b[0m\u001b[0;34m\u001b[0m\u001b[0m\n",
            "\u001b[0;32m/usr/local/lib/python3.7/dist-packages/pandas/core/frame.py\u001b[0m in \u001b[0;36m__getitem__\u001b[0;34m(self, key)\u001b[0m\n\u001b[1;32m   2904\u001b[0m             \u001b[0;32mif\u001b[0m \u001b[0mself\u001b[0m\u001b[0;34m.\u001b[0m\u001b[0mcolumns\u001b[0m\u001b[0;34m.\u001b[0m\u001b[0mnlevels\u001b[0m \u001b[0;34m>\u001b[0m \u001b[0;36m1\u001b[0m\u001b[0;34m:\u001b[0m\u001b[0;34m\u001b[0m\u001b[0;34m\u001b[0m\u001b[0m\n\u001b[1;32m   2905\u001b[0m                 \u001b[0;32mreturn\u001b[0m \u001b[0mself\u001b[0m\u001b[0;34m.\u001b[0m\u001b[0m_getitem_multilevel\u001b[0m\u001b[0;34m(\u001b[0m\u001b[0mkey\u001b[0m\u001b[0;34m)\u001b[0m\u001b[0;34m\u001b[0m\u001b[0;34m\u001b[0m\u001b[0m\n\u001b[0;32m-> 2906\u001b[0;31m             \u001b[0mindexer\u001b[0m \u001b[0;34m=\u001b[0m \u001b[0mself\u001b[0m\u001b[0;34m.\u001b[0m\u001b[0mcolumns\u001b[0m\u001b[0;34m.\u001b[0m\u001b[0mget_loc\u001b[0m\u001b[0;34m(\u001b[0m\u001b[0mkey\u001b[0m\u001b[0;34m)\u001b[0m\u001b[0;34m\u001b[0m\u001b[0;34m\u001b[0m\u001b[0m\n\u001b[0m\u001b[1;32m   2907\u001b[0m             \u001b[0;32mif\u001b[0m \u001b[0mis_integer\u001b[0m\u001b[0;34m(\u001b[0m\u001b[0mindexer\u001b[0m\u001b[0;34m)\u001b[0m\u001b[0;34m:\u001b[0m\u001b[0;34m\u001b[0m\u001b[0;34m\u001b[0m\u001b[0m\n\u001b[1;32m   2908\u001b[0m                 \u001b[0mindexer\u001b[0m \u001b[0;34m=\u001b[0m \u001b[0;34m[\u001b[0m\u001b[0mindexer\u001b[0m\u001b[0;34m]\u001b[0m\u001b[0;34m\u001b[0m\u001b[0;34m\u001b[0m\u001b[0m\n",
            "\u001b[0;32m/usr/local/lib/python3.7/dist-packages/pandas/core/indexes/base.py\u001b[0m in \u001b[0;36mget_loc\u001b[0;34m(self, key, method, tolerance)\u001b[0m\n\u001b[1;32m   2898\u001b[0m                 \u001b[0;32mreturn\u001b[0m \u001b[0mself\u001b[0m\u001b[0;34m.\u001b[0m\u001b[0m_engine\u001b[0m\u001b[0;34m.\u001b[0m\u001b[0mget_loc\u001b[0m\u001b[0;34m(\u001b[0m\u001b[0mcasted_key\u001b[0m\u001b[0;34m)\u001b[0m\u001b[0;34m\u001b[0m\u001b[0;34m\u001b[0m\u001b[0m\n\u001b[1;32m   2899\u001b[0m             \u001b[0;32mexcept\u001b[0m \u001b[0mKeyError\u001b[0m \u001b[0;32mas\u001b[0m \u001b[0merr\u001b[0m\u001b[0;34m:\u001b[0m\u001b[0;34m\u001b[0m\u001b[0;34m\u001b[0m\u001b[0m\n\u001b[0;32m-> 2900\u001b[0;31m                 \u001b[0;32mraise\u001b[0m \u001b[0mKeyError\u001b[0m\u001b[0;34m(\u001b[0m\u001b[0mkey\u001b[0m\u001b[0;34m)\u001b[0m \u001b[0;32mfrom\u001b[0m \u001b[0merr\u001b[0m\u001b[0;34m\u001b[0m\u001b[0;34m\u001b[0m\u001b[0m\n\u001b[0m\u001b[1;32m   2901\u001b[0m \u001b[0;34m\u001b[0m\u001b[0m\n\u001b[1;32m   2902\u001b[0m         \u001b[0;32mif\u001b[0m \u001b[0mtolerance\u001b[0m \u001b[0;32mis\u001b[0m \u001b[0;32mnot\u001b[0m \u001b[0;32mNone\u001b[0m\u001b[0;34m:\u001b[0m\u001b[0;34m\u001b[0m\u001b[0;34m\u001b[0m\u001b[0m\n",
            "\u001b[0;31mKeyError\u001b[0m: 'modelMag_u'"
          ]
        }
      ]
    },
    {
      "cell_type": "code",
      "metadata": {
        "id": "KBUwmxNgXOTd"
      },
      "source": [
        "df=df.dropna()"
      ],
      "execution_count": null,
      "outputs": []
    },
    {
      "cell_type": "code",
      "metadata": {
        "colab": {
          "base_uri": "https://localhost:8080/",
          "height": 842
        },
        "id": "L68Oa_HOXQy-",
        "outputId": "0918e040-f7af-4c9b-c423-920b484b578c"
      },
      "source": [
        "df.corr()"
      ],
      "execution_count": null,
      "outputs": [
        {
          "output_type": "execute_result",
          "data": {
            "text/html": [
              "<div>\n",
              "<style scoped>\n",
              "    .dataframe tbody tr th:only-of-type {\n",
              "        vertical-align: middle;\n",
              "    }\n",
              "\n",
              "    .dataframe tbody tr th {\n",
              "        vertical-align: top;\n",
              "    }\n",
              "\n",
              "    .dataframe thead th {\n",
              "        text-align: right;\n",
              "    }\n",
              "</style>\n",
              "<table border=\"1\" class=\"dataframe\">\n",
              "  <thead>\n",
              "    <tr style=\"text-align: right;\">\n",
              "      <th></th>\n",
              "      <th>Unnamed: 0</th>\n",
              "      <th>psfMag_u</th>\n",
              "      <th>psfMag_g</th>\n",
              "      <th>psfMag_r</th>\n",
              "      <th>psfMag_i</th>\n",
              "      <th>psfMag_z</th>\n",
              "      <th>dered_u</th>\n",
              "      <th>dered_g</th>\n",
              "      <th>dered_r</th>\n",
              "      <th>dered_i</th>\n",
              "      <th>dered_z</th>\n",
              "      <th>fiberMag_u</th>\n",
              "      <th>fiberMag_g</th>\n",
              "      <th>fiberMag_r</th>\n",
              "      <th>fiberMag_i</th>\n",
              "      <th>fiberMag_z</th>\n",
              "      <th>petroR50_r</th>\n",
              "      <th>petroR50_z</th>\n",
              "      <th>petroR90_r</th>\n",
              "      <th>petroR90_z</th>\n",
              "      <th>r</th>\n",
              "      <th>i</th>\n",
              "      <th>z</th>\n",
              "      <th>redshift</th>\n",
              "    </tr>\n",
              "  </thead>\n",
              "  <tbody>\n",
              "    <tr>\n",
              "      <th>Unnamed: 0</th>\n",
              "      <td>1.000000</td>\n",
              "      <td>0.034384</td>\n",
              "      <td>0.053191</td>\n",
              "      <td>0.073336</td>\n",
              "      <td>0.083329</td>\n",
              "      <td>0.081583</td>\n",
              "      <td>0.028122</td>\n",
              "      <td>0.040885</td>\n",
              "      <td>0.052348</td>\n",
              "      <td>0.054065</td>\n",
              "      <td>0.054282</td>\n",
              "      <td>0.022403</td>\n",
              "      <td>0.039713</td>\n",
              "      <td>0.054572</td>\n",
              "      <td>0.058021</td>\n",
              "      <td>0.056491</td>\n",
              "      <td>-0.024661</td>\n",
              "      <td>-0.011704</td>\n",
              "      <td>-0.026464</td>\n",
              "      <td>-0.018254</td>\n",
              "      <td>0.052542</td>\n",
              "      <td>0.054225</td>\n",
              "      <td>0.054402</td>\n",
              "      <td>0.016201</td>\n",
              "    </tr>\n",
              "    <tr>\n",
              "      <th>psfMag_u</th>\n",
              "      <td>0.034384</td>\n",
              "      <td>1.000000</td>\n",
              "      <td>0.853533</td>\n",
              "      <td>0.694842</td>\n",
              "      <td>0.562368</td>\n",
              "      <td>0.472400</td>\n",
              "      <td>0.930428</td>\n",
              "      <td>0.747331</td>\n",
              "      <td>0.564924</td>\n",
              "      <td>0.435901</td>\n",
              "      <td>0.367290</td>\n",
              "      <td>0.965536</td>\n",
              "      <td>0.833382</td>\n",
              "      <td>0.656358</td>\n",
              "      <td>0.516526</td>\n",
              "      <td>0.438830</td>\n",
              "      <td>-0.107634</td>\n",
              "      <td>-0.072572</td>\n",
              "      <td>-0.132403</td>\n",
              "      <td>-0.106265</td>\n",
              "      <td>0.567537</td>\n",
              "      <td>0.437715</td>\n",
              "      <td>0.368530</td>\n",
              "      <td>-0.031534</td>\n",
              "    </tr>\n",
              "    <tr>\n",
              "      <th>psfMag_g</th>\n",
              "      <td>0.053191</td>\n",
              "      <td>0.853533</td>\n",
              "      <td>1.000000</td>\n",
              "      <td>0.924126</td>\n",
              "      <td>0.818357</td>\n",
              "      <td>0.735278</td>\n",
              "      <td>0.850036</td>\n",
              "      <td>0.937873</td>\n",
              "      <td>0.815242</td>\n",
              "      <td>0.700469</td>\n",
              "      <td>0.632895</td>\n",
              "      <td>0.866354</td>\n",
              "      <td>0.984499</td>\n",
              "      <td>0.896123</td>\n",
              "      <td>0.780257</td>\n",
              "      <td>0.707693</td>\n",
              "      <td>-0.215768</td>\n",
              "      <td>-0.144945</td>\n",
              "      <td>-0.296462</td>\n",
              "      <td>-0.248165</td>\n",
              "      <td>0.817373</td>\n",
              "      <td>0.701966</td>\n",
              "      <td>0.633901</td>\n",
              "      <td>0.125382</td>\n",
              "    </tr>\n",
              "    <tr>\n",
              "      <th>psfMag_r</th>\n",
              "      <td>0.073336</td>\n",
              "      <td>0.694842</td>\n",
              "      <td>0.924126</td>\n",
              "      <td>1.000000</td>\n",
              "      <td>0.962155</td>\n",
              "      <td>0.911180</td>\n",
              "      <td>0.740790</td>\n",
              "      <td>0.920085</td>\n",
              "      <td>0.928704</td>\n",
              "      <td>0.865082</td>\n",
              "      <td>0.819878</td>\n",
              "      <td>0.717805</td>\n",
              "      <td>0.928556</td>\n",
              "      <td>0.980893</td>\n",
              "      <td>0.932044</td>\n",
              "      <td>0.886338</td>\n",
              "      <td>-0.293782</td>\n",
              "      <td>-0.198285</td>\n",
              "      <td>-0.414973</td>\n",
              "      <td>-0.358556</td>\n",
              "      <td>0.930294</td>\n",
              "      <td>0.866284</td>\n",
              "      <td>0.820701</td>\n",
              "      <td>0.316486</td>\n",
              "    </tr>\n",
              "    <tr>\n",
              "      <th>psfMag_i</th>\n",
              "      <td>0.083329</td>\n",
              "      <td>0.562368</td>\n",
              "      <td>0.818357</td>\n",
              "      <td>0.962155</td>\n",
              "      <td>1.000000</td>\n",
              "      <td>0.973145</td>\n",
              "      <td>0.637564</td>\n",
              "      <td>0.855539</td>\n",
              "      <td>0.931588</td>\n",
              "      <td>0.927179</td>\n",
              "      <td>0.898200</td>\n",
              "      <td>0.591741</td>\n",
              "      <td>0.833221</td>\n",
              "      <td>0.958185</td>\n",
              "      <td>0.975366</td>\n",
              "      <td>0.951942</td>\n",
              "      <td>-0.334217</td>\n",
              "      <td>-0.225278</td>\n",
              "      <td>-0.467069</td>\n",
              "      <td>-0.411400</td>\n",
              "      <td>0.932553</td>\n",
              "      <td>0.928024</td>\n",
              "      <td>0.898785</td>\n",
              "      <td>0.432080</td>\n",
              "    </tr>\n",
              "    <tr>\n",
              "      <th>psfMag_z</th>\n",
              "      <td>0.081583</td>\n",
              "      <td>0.472400</td>\n",
              "      <td>0.735278</td>\n",
              "      <td>0.911180</td>\n",
              "      <td>0.973145</td>\n",
              "      <td>1.000000</td>\n",
              "      <td>0.569295</td>\n",
              "      <td>0.800261</td>\n",
              "      <td>0.912458</td>\n",
              "      <td>0.929445</td>\n",
              "      <td>0.937663</td>\n",
              "      <td>0.504779</td>\n",
              "      <td>0.757616</td>\n",
              "      <td>0.919012</td>\n",
              "      <td>0.964716</td>\n",
              "      <td>0.974611</td>\n",
              "      <td>-0.359673</td>\n",
              "      <td>-0.241652</td>\n",
              "      <td>-0.495471</td>\n",
              "      <td>-0.441539</td>\n",
              "      <td>0.912721</td>\n",
              "      <td>0.929788</td>\n",
              "      <td>0.937934</td>\n",
              "      <td>0.487538</td>\n",
              "    </tr>\n",
              "    <tr>\n",
              "      <th>dered_u</th>\n",
              "      <td>0.028122</td>\n",
              "      <td>0.930428</td>\n",
              "      <td>0.850036</td>\n",
              "      <td>0.740790</td>\n",
              "      <td>0.637564</td>\n",
              "      <td>0.569295</td>\n",
              "      <td>1.000000</td>\n",
              "      <td>0.849292</td>\n",
              "      <td>0.716831</td>\n",
              "      <td>0.612709</td>\n",
              "      <td>0.553664</td>\n",
              "      <td>0.939121</td>\n",
              "      <td>0.858682</td>\n",
              "      <td>0.738981</td>\n",
              "      <td>0.631475</td>\n",
              "      <td>0.569789</td>\n",
              "      <td>-0.295345</td>\n",
              "      <td>-0.210214</td>\n",
              "      <td>-0.330834</td>\n",
              "      <td>-0.281122</td>\n",
              "      <td>0.715307</td>\n",
              "      <td>0.611368</td>\n",
              "      <td>0.552566</td>\n",
              "      <td>0.141406</td>\n",
              "    </tr>\n",
              "    <tr>\n",
              "      <th>dered_g</th>\n",
              "      <td>0.040885</td>\n",
              "      <td>0.747331</td>\n",
              "      <td>0.937873</td>\n",
              "      <td>0.920085</td>\n",
              "      <td>0.855539</td>\n",
              "      <td>0.800261</td>\n",
              "      <td>0.849292</td>\n",
              "      <td>1.000000</td>\n",
              "      <td>0.937100</td>\n",
              "      <td>0.858879</td>\n",
              "      <td>0.805436</td>\n",
              "      <td>0.784427</td>\n",
              "      <td>0.956048</td>\n",
              "      <td>0.933443</td>\n",
              "      <td>0.862445</td>\n",
              "      <td>0.810851</td>\n",
              "      <td>-0.419435</td>\n",
              "      <td>-0.294428</td>\n",
              "      <td>-0.505285</td>\n",
              "      <td>-0.432330</td>\n",
              "      <td>0.935660</td>\n",
              "      <td>0.857685</td>\n",
              "      <td>0.804458</td>\n",
              "      <td>0.312627</td>\n",
              "    </tr>\n",
              "    <tr>\n",
              "      <th>dered_r</th>\n",
              "      <td>0.052348</td>\n",
              "      <td>0.564924</td>\n",
              "      <td>0.815242</td>\n",
              "      <td>0.928704</td>\n",
              "      <td>0.931588</td>\n",
              "      <td>0.912458</td>\n",
              "      <td>0.716831</td>\n",
              "      <td>0.937100</td>\n",
              "      <td>1.000000</td>\n",
              "      <td>0.974624</td>\n",
              "      <td>0.945685</td>\n",
              "      <td>0.612866</td>\n",
              "      <td>0.853408</td>\n",
              "      <td>0.958128</td>\n",
              "      <td>0.954005</td>\n",
              "      <td>0.931786</td>\n",
              "      <td>-0.499213</td>\n",
              "      <td>-0.351685</td>\n",
              "      <td>-0.613653</td>\n",
              "      <td>-0.533962</td>\n",
              "      <td>0.998688</td>\n",
              "      <td>0.973653</td>\n",
              "      <td>0.944915</td>\n",
              "      <td>0.486031</td>\n",
              "    </tr>\n",
              "    <tr>\n",
              "      <th>dered_i</th>\n",
              "      <td>0.054065</td>\n",
              "      <td>0.435901</td>\n",
              "      <td>0.700469</td>\n",
              "      <td>0.865082</td>\n",
              "      <td>0.927179</td>\n",
              "      <td>0.929445</td>\n",
              "      <td>0.612709</td>\n",
              "      <td>0.858879</td>\n",
              "      <td>0.974624</td>\n",
              "      <td>1.000000</td>\n",
              "      <td>0.984548</td>\n",
              "      <td>0.489571</td>\n",
              "      <td>0.748512</td>\n",
              "      <td>0.908818</td>\n",
              "      <td>0.958742</td>\n",
              "      <td>0.955598</td>\n",
              "      <td>-0.529182</td>\n",
              "      <td>-0.371494</td>\n",
              "      <td>-0.648837</td>\n",
              "      <td>-0.570545</td>\n",
              "      <td>0.973390</td>\n",
              "      <td>0.999201</td>\n",
              "      <td>0.983928</td>\n",
              "      <td>0.573793</td>\n",
              "    </tr>\n",
              "    <tr>\n",
              "      <th>dered_z</th>\n",
              "      <td>0.054282</td>\n",
              "      <td>0.367290</td>\n",
              "      <td>0.632895</td>\n",
              "      <td>0.819878</td>\n",
              "      <td>0.898200</td>\n",
              "      <td>0.937663</td>\n",
              "      <td>0.553664</td>\n",
              "      <td>0.805436</td>\n",
              "      <td>0.945685</td>\n",
              "      <td>0.984548</td>\n",
              "      <td>1.000000</td>\n",
              "      <td>0.420634</td>\n",
              "      <td>0.684232</td>\n",
              "      <td>0.868620</td>\n",
              "      <td>0.937563</td>\n",
              "      <td>0.959915</td>\n",
              "      <td>-0.537286</td>\n",
              "      <td>-0.376622</td>\n",
              "      <td>-0.658213</td>\n",
              "      <td>-0.584403</td>\n",
              "      <td>0.944630</td>\n",
              "      <td>0.983915</td>\n",
              "      <td>0.999555</td>\n",
              "      <td>0.601576</td>\n",
              "    </tr>\n",
              "    <tr>\n",
              "      <th>fiberMag_u</th>\n",
              "      <td>0.022403</td>\n",
              "      <td>0.965536</td>\n",
              "      <td>0.866354</td>\n",
              "      <td>0.717805</td>\n",
              "      <td>0.591741</td>\n",
              "      <td>0.504779</td>\n",
              "      <td>0.939121</td>\n",
              "      <td>0.784427</td>\n",
              "      <td>0.612866</td>\n",
              "      <td>0.489571</td>\n",
              "      <td>0.420634</td>\n",
              "      <td>1.000000</td>\n",
              "      <td>0.864660</td>\n",
              "      <td>0.699770</td>\n",
              "      <td>0.567801</td>\n",
              "      <td>0.491966</td>\n",
              "      <td>-0.149396</td>\n",
              "      <td>-0.101978</td>\n",
              "      <td>-0.176644</td>\n",
              "      <td>-0.144044</td>\n",
              "      <td>0.615289</td>\n",
              "      <td>0.491255</td>\n",
              "      <td>0.421777</td>\n",
              "      <td>0.027590</td>\n",
              "    </tr>\n",
              "    <tr>\n",
              "      <th>fiberMag_g</th>\n",
              "      <td>0.039713</td>\n",
              "      <td>0.833382</td>\n",
              "      <td>0.984499</td>\n",
              "      <td>0.928556</td>\n",
              "      <td>0.833221</td>\n",
              "      <td>0.757616</td>\n",
              "      <td>0.858682</td>\n",
              "      <td>0.956048</td>\n",
              "      <td>0.853408</td>\n",
              "      <td>0.748512</td>\n",
              "      <td>0.684232</td>\n",
              "      <td>0.864660</td>\n",
              "      <td>1.000000</td>\n",
              "      <td>0.926932</td>\n",
              "      <td>0.823197</td>\n",
              "      <td>0.755643</td>\n",
              "      <td>-0.263255</td>\n",
              "      <td>-0.178891</td>\n",
              "      <td>-0.344638</td>\n",
              "      <td>-0.290654</td>\n",
              "      <td>0.855240</td>\n",
              "      <td>0.749802</td>\n",
              "      <td>0.685089</td>\n",
              "      <td>0.194295</td>\n",
              "    </tr>\n",
              "    <tr>\n",
              "      <th>fiberMag_r</th>\n",
              "      <td>0.054572</td>\n",
              "      <td>0.656358</td>\n",
              "      <td>0.896123</td>\n",
              "      <td>0.980893</td>\n",
              "      <td>0.958185</td>\n",
              "      <td>0.919012</td>\n",
              "      <td>0.738981</td>\n",
              "      <td>0.933443</td>\n",
              "      <td>0.958128</td>\n",
              "      <td>0.908818</td>\n",
              "      <td>0.868620</td>\n",
              "      <td>0.699770</td>\n",
              "      <td>0.926932</td>\n",
              "      <td>1.000000</td>\n",
              "      <td>0.966496</td>\n",
              "      <td>0.927065</td>\n",
              "      <td>-0.349371</td>\n",
              "      <td>-0.239138</td>\n",
              "      <td>-0.468360</td>\n",
              "      <td>-0.406260</td>\n",
              "      <td>0.959188</td>\n",
              "      <td>0.909641</td>\n",
              "      <td>0.869168</td>\n",
              "      <td>0.401081</td>\n",
              "    </tr>\n",
              "    <tr>\n",
              "      <th>fiberMag_i</th>\n",
              "      <td>0.058021</td>\n",
              "      <td>0.516526</td>\n",
              "      <td>0.780257</td>\n",
              "      <td>0.932044</td>\n",
              "      <td>0.975366</td>\n",
              "      <td>0.964716</td>\n",
              "      <td>0.631475</td>\n",
              "      <td>0.862445</td>\n",
              "      <td>0.954005</td>\n",
              "      <td>0.958742</td>\n",
              "      <td>0.937563</td>\n",
              "      <td>0.567801</td>\n",
              "      <td>0.823197</td>\n",
              "      <td>0.966496</td>\n",
              "      <td>1.000000</td>\n",
              "      <td>0.982138</td>\n",
              "      <td>-0.392172</td>\n",
              "      <td>-0.268799</td>\n",
              "      <td>-0.520977</td>\n",
              "      <td>-0.459298</td>\n",
              "      <td>0.954449</td>\n",
              "      <td>0.959205</td>\n",
              "      <td>0.937875</td>\n",
              "      <td>0.520297</td>\n",
              "    </tr>\n",
              "    <tr>\n",
              "      <th>fiberMag_z</th>\n",
              "      <td>0.056491</td>\n",
              "      <td>0.438830</td>\n",
              "      <td>0.707693</td>\n",
              "      <td>0.886338</td>\n",
              "      <td>0.951942</td>\n",
              "      <td>0.974611</td>\n",
              "      <td>0.569789</td>\n",
              "      <td>0.810851</td>\n",
              "      <td>0.931786</td>\n",
              "      <td>0.955598</td>\n",
              "      <td>0.959915</td>\n",
              "      <td>0.491966</td>\n",
              "      <td>0.755643</td>\n",
              "      <td>0.927065</td>\n",
              "      <td>0.982138</td>\n",
              "      <td>1.000000</td>\n",
              "      <td>-0.409582</td>\n",
              "      <td>-0.283448</td>\n",
              "      <td>-0.541749</td>\n",
              "      <td>-0.484096</td>\n",
              "      <td>0.931763</td>\n",
              "      <td>0.955736</td>\n",
              "      <td>0.960027</td>\n",
              "      <td>0.562140</td>\n",
              "    </tr>\n",
              "    <tr>\n",
              "      <th>petroR50_r</th>\n",
              "      <td>-0.024661</td>\n",
              "      <td>-0.107634</td>\n",
              "      <td>-0.215768</td>\n",
              "      <td>-0.293782</td>\n",
              "      <td>-0.334217</td>\n",
              "      <td>-0.359673</td>\n",
              "      <td>-0.295345</td>\n",
              "      <td>-0.419435</td>\n",
              "      <td>-0.499213</td>\n",
              "      <td>-0.529182</td>\n",
              "      <td>-0.537286</td>\n",
              "      <td>-0.149396</td>\n",
              "      <td>-0.263255</td>\n",
              "      <td>-0.349371</td>\n",
              "      <td>-0.392172</td>\n",
              "      <td>-0.409582</td>\n",
              "      <td>1.000000</td>\n",
              "      <td>0.824911</td>\n",
              "      <td>0.930317</td>\n",
              "      <td>0.829144</td>\n",
              "      <td>-0.500318</td>\n",
              "      <td>-0.530166</td>\n",
              "      <td>-0.538033</td>\n",
              "      <td>-0.356926</td>\n",
              "    </tr>\n",
              "    <tr>\n",
              "      <th>petroR50_z</th>\n",
              "      <td>-0.011704</td>\n",
              "      <td>-0.072572</td>\n",
              "      <td>-0.144945</td>\n",
              "      <td>-0.198285</td>\n",
              "      <td>-0.225278</td>\n",
              "      <td>-0.241652</td>\n",
              "      <td>-0.210214</td>\n",
              "      <td>-0.294428</td>\n",
              "      <td>-0.351685</td>\n",
              "      <td>-0.371494</td>\n",
              "      <td>-0.376622</td>\n",
              "      <td>-0.101978</td>\n",
              "      <td>-0.178891</td>\n",
              "      <td>-0.239138</td>\n",
              "      <td>-0.268799</td>\n",
              "      <td>-0.283448</td>\n",
              "      <td>0.824911</td>\n",
              "      <td>1.000000</td>\n",
              "      <td>0.747416</td>\n",
              "      <td>0.869666</td>\n",
              "      <td>-0.352552</td>\n",
              "      <td>-0.372253</td>\n",
              "      <td>-0.377197</td>\n",
              "      <td>-0.260274</td>\n",
              "    </tr>\n",
              "    <tr>\n",
              "      <th>petroR90_r</th>\n",
              "      <td>-0.026464</td>\n",
              "      <td>-0.132403</td>\n",
              "      <td>-0.296462</td>\n",
              "      <td>-0.414973</td>\n",
              "      <td>-0.467069</td>\n",
              "      <td>-0.495471</td>\n",
              "      <td>-0.330834</td>\n",
              "      <td>-0.505285</td>\n",
              "      <td>-0.613653</td>\n",
              "      <td>-0.648837</td>\n",
              "      <td>-0.658213</td>\n",
              "      <td>-0.176644</td>\n",
              "      <td>-0.344638</td>\n",
              "      <td>-0.468360</td>\n",
              "      <td>-0.520977</td>\n",
              "      <td>-0.541749</td>\n",
              "      <td>0.930317</td>\n",
              "      <td>0.747416</td>\n",
              "      <td>1.000000</td>\n",
              "      <td>0.861826</td>\n",
              "      <td>-0.615087</td>\n",
              "      <td>-0.650102</td>\n",
              "      <td>-0.659173</td>\n",
              "      <td>-0.424577</td>\n",
              "    </tr>\n",
              "    <tr>\n",
              "      <th>petroR90_z</th>\n",
              "      <td>-0.018254</td>\n",
              "      <td>-0.106265</td>\n",
              "      <td>-0.248165</td>\n",
              "      <td>-0.358556</td>\n",
              "      <td>-0.411400</td>\n",
              "      <td>-0.441539</td>\n",
              "      <td>-0.281122</td>\n",
              "      <td>-0.432330</td>\n",
              "      <td>-0.533962</td>\n",
              "      <td>-0.570545</td>\n",
              "      <td>-0.584403</td>\n",
              "      <td>-0.144044</td>\n",
              "      <td>-0.290654</td>\n",
              "      <td>-0.406260</td>\n",
              "      <td>-0.459298</td>\n",
              "      <td>-0.484096</td>\n",
              "      <td>0.829144</td>\n",
              "      <td>0.869666</td>\n",
              "      <td>0.861826</td>\n",
              "      <td>1.000000</td>\n",
              "      <td>-0.535405</td>\n",
              "      <td>-0.571811</td>\n",
              "      <td>-0.585371</td>\n",
              "      <td>-0.385847</td>\n",
              "    </tr>\n",
              "    <tr>\n",
              "      <th>r</th>\n",
              "      <td>0.052542</td>\n",
              "      <td>0.567537</td>\n",
              "      <td>0.817373</td>\n",
              "      <td>0.930294</td>\n",
              "      <td>0.932553</td>\n",
              "      <td>0.912721</td>\n",
              "      <td>0.715307</td>\n",
              "      <td>0.935660</td>\n",
              "      <td>0.998688</td>\n",
              "      <td>0.973390</td>\n",
              "      <td>0.944630</td>\n",
              "      <td>0.615289</td>\n",
              "      <td>0.855240</td>\n",
              "      <td>0.959188</td>\n",
              "      <td>0.954449</td>\n",
              "      <td>0.931763</td>\n",
              "      <td>-0.500318</td>\n",
              "      <td>-0.352552</td>\n",
              "      <td>-0.615087</td>\n",
              "      <td>-0.535405</td>\n",
              "      <td>1.000000</td>\n",
              "      <td>0.974468</td>\n",
              "      <td>0.945388</td>\n",
              "      <td>0.486196</td>\n",
              "    </tr>\n",
              "    <tr>\n",
              "      <th>i</th>\n",
              "      <td>0.054225</td>\n",
              "      <td>0.437715</td>\n",
              "      <td>0.701966</td>\n",
              "      <td>0.866284</td>\n",
              "      <td>0.928024</td>\n",
              "      <td>0.929788</td>\n",
              "      <td>0.611368</td>\n",
              "      <td>0.857685</td>\n",
              "      <td>0.973653</td>\n",
              "      <td>0.999201</td>\n",
              "      <td>0.983915</td>\n",
              "      <td>0.491255</td>\n",
              "      <td>0.749802</td>\n",
              "      <td>0.909641</td>\n",
              "      <td>0.959205</td>\n",
              "      <td>0.955736</td>\n",
              "      <td>-0.530166</td>\n",
              "      <td>-0.372253</td>\n",
              "      <td>-0.650102</td>\n",
              "      <td>-0.571811</td>\n",
              "      <td>0.974468</td>\n",
              "      <td>1.000000</td>\n",
              "      <td>0.984487</td>\n",
              "      <td>0.574170</td>\n",
              "    </tr>\n",
              "    <tr>\n",
              "      <th>z</th>\n",
              "      <td>0.054402</td>\n",
              "      <td>0.368530</td>\n",
              "      <td>0.633901</td>\n",
              "      <td>0.820701</td>\n",
              "      <td>0.898785</td>\n",
              "      <td>0.937934</td>\n",
              "      <td>0.552566</td>\n",
              "      <td>0.804458</td>\n",
              "      <td>0.944915</td>\n",
              "      <td>0.983928</td>\n",
              "      <td>0.999555</td>\n",
              "      <td>0.421777</td>\n",
              "      <td>0.685089</td>\n",
              "      <td>0.869168</td>\n",
              "      <td>0.937875</td>\n",
              "      <td>0.960027</td>\n",
              "      <td>-0.538033</td>\n",
              "      <td>-0.377197</td>\n",
              "      <td>-0.659173</td>\n",
              "      <td>-0.585371</td>\n",
              "      <td>0.945388</td>\n",
              "      <td>0.984487</td>\n",
              "      <td>1.000000</td>\n",
              "      <td>0.601904</td>\n",
              "    </tr>\n",
              "    <tr>\n",
              "      <th>redshift</th>\n",
              "      <td>0.016201</td>\n",
              "      <td>-0.031534</td>\n",
              "      <td>0.125382</td>\n",
              "      <td>0.316486</td>\n",
              "      <td>0.432080</td>\n",
              "      <td>0.487538</td>\n",
              "      <td>0.141406</td>\n",
              "      <td>0.312627</td>\n",
              "      <td>0.486031</td>\n",
              "      <td>0.573793</td>\n",
              "      <td>0.601576</td>\n",
              "      <td>0.027590</td>\n",
              "      <td>0.194295</td>\n",
              "      <td>0.401081</td>\n",
              "      <td>0.520297</td>\n",
              "      <td>0.562140</td>\n",
              "      <td>-0.356926</td>\n",
              "      <td>-0.260274</td>\n",
              "      <td>-0.424577</td>\n",
              "      <td>-0.385847</td>\n",
              "      <td>0.486196</td>\n",
              "      <td>0.574170</td>\n",
              "      <td>0.601904</td>\n",
              "      <td>1.000000</td>\n",
              "    </tr>\n",
              "  </tbody>\n",
              "</table>\n",
              "</div>"
            ],
            "text/plain": [
              "            Unnamed: 0  psfMag_u  psfMag_g  ...         i         z  redshift\n",
              "Unnamed: 0    1.000000  0.034384  0.053191  ...  0.054225  0.054402  0.016201\n",
              "psfMag_u      0.034384  1.000000  0.853533  ...  0.437715  0.368530 -0.031534\n",
              "psfMag_g      0.053191  0.853533  1.000000  ...  0.701966  0.633901  0.125382\n",
              "psfMag_r      0.073336  0.694842  0.924126  ...  0.866284  0.820701  0.316486\n",
              "psfMag_i      0.083329  0.562368  0.818357  ...  0.928024  0.898785  0.432080\n",
              "psfMag_z      0.081583  0.472400  0.735278  ...  0.929788  0.937934  0.487538\n",
              "dered_u       0.028122  0.930428  0.850036  ...  0.611368  0.552566  0.141406\n",
              "dered_g       0.040885  0.747331  0.937873  ...  0.857685  0.804458  0.312627\n",
              "dered_r       0.052348  0.564924  0.815242  ...  0.973653  0.944915  0.486031\n",
              "dered_i       0.054065  0.435901  0.700469  ...  0.999201  0.983928  0.573793\n",
              "dered_z       0.054282  0.367290  0.632895  ...  0.983915  0.999555  0.601576\n",
              "fiberMag_u    0.022403  0.965536  0.866354  ...  0.491255  0.421777  0.027590\n",
              "fiberMag_g    0.039713  0.833382  0.984499  ...  0.749802  0.685089  0.194295\n",
              "fiberMag_r    0.054572  0.656358  0.896123  ...  0.909641  0.869168  0.401081\n",
              "fiberMag_i    0.058021  0.516526  0.780257  ...  0.959205  0.937875  0.520297\n",
              "fiberMag_z    0.056491  0.438830  0.707693  ...  0.955736  0.960027  0.562140\n",
              "petroR50_r   -0.024661 -0.107634 -0.215768  ... -0.530166 -0.538033 -0.356926\n",
              "petroR50_z   -0.011704 -0.072572 -0.144945  ... -0.372253 -0.377197 -0.260274\n",
              "petroR90_r   -0.026464 -0.132403 -0.296462  ... -0.650102 -0.659173 -0.424577\n",
              "petroR90_z   -0.018254 -0.106265 -0.248165  ... -0.571811 -0.585371 -0.385847\n",
              "r             0.052542  0.567537  0.817373  ...  0.974468  0.945388  0.486196\n",
              "i             0.054225  0.437715  0.701966  ...  1.000000  0.984487  0.574170\n",
              "z             0.054402  0.368530  0.633901  ...  0.984487  1.000000  0.601904\n",
              "redshift      0.016201 -0.031534  0.125382  ...  0.574170  0.601904  1.000000\n",
              "\n",
              "[24 rows x 24 columns]"
            ]
          },
          "metadata": {
            "tags": []
          },
          "execution_count": 8
        }
      ]
    },
    {
      "cell_type": "code",
      "metadata": {
        "id": "mnGuVxXpXT1-"
      },
      "source": [
        "#df=df(['petroR50_r', 'petroR90_r', 'petroR50_z', 'petroR90_z'],axis=1)"
      ],
      "execution_count": null,
      "outputs": []
    },
    {
      "cell_type": "code",
      "metadata": {
        "id": "P1RrJKUJX59W"
      },
      "source": [
        "x=df.iloc[:,:-1]\n",
        "y=df.iloc[:,-1]"
      ],
      "execution_count": null,
      "outputs": []
    },
    {
      "cell_type": "code",
      "metadata": {
        "id": "IHEsxuBoXp8J"
      },
      "source": [
        "from sklearn.model_selection import train_test_split\n",
        "x_train,x_test,y_train,y_test=train_test_split(x,y,test_size=0.2,random_state=31)"
      ],
      "execution_count": null,
      "outputs": []
    },
    {
      "cell_type": "code",
      "metadata": {
        "id": "RFZCJ1RhYGs_"
      },
      "source": [
        "#from sklearn.preprocessing import StandardScaler\n",
        "#ss=StandardScaler()\n",
        "#x_train=ss.fit_transform(x_train)\n",
        "#x_test=ss.transform(x_test)"
      ],
      "execution_count": null,
      "outputs": []
    },
    {
      "cell_type": "code",
      "metadata": {
        "colab": {
          "base_uri": "https://localhost:8080/"
        },
        "id": "bXBTAYuQYgZn",
        "outputId": "066da44a-1549-4519-8cb6-8b408bf5a178"
      },
      "source": [
        "from sklearn.linear_model import LinearRegression\n",
        "reg= LinearRegression()\n",
        "reg.fit(x_train,y_train)"
      ],
      "execution_count": null,
      "outputs": [
        {
          "output_type": "execute_result",
          "data": {
            "text/plain": [
              "LinearRegression(copy_X=True, fit_intercept=True, n_jobs=None, normalize=False)"
            ]
          },
          "metadata": {
            "tags": []
          },
          "execution_count": 11
        }
      ]
    },
    {
      "cell_type": "code",
      "metadata": {
        "colab": {
          "base_uri": "https://localhost:8080/"
        },
        "id": "AIPdAfYWWtcP",
        "outputId": "1a49074d-a2f7-4b1f-fd9a-2d7c4dc6bfbd"
      },
      "source": [
        "\n",
        "import time\n",
        "\n",
        "start=time.process_time()\n",
        "reg.fit(x_train,y_train) \n",
        "stop=time.process_time()\n",
        "execution_time = (stop - start)/60\n",
        "print(\"Program Executed in minutes \"+str(execution_time))"
      ],
      "execution_count": null,
      "outputs": [
        {
          "output_type": "stream",
          "text": [
            "Program Executed in minutes 0.047908445133333304\n"
          ],
          "name": "stdout"
        }
      ]
    },
    {
      "cell_type": "code",
      "metadata": {
        "colab": {
          "base_uri": "https://localhost:8080/"
        },
        "id": "C2N7Kj0A1xw3",
        "outputId": "95c9c408-0ef7-46a4-c7be-65cb55327cfc"
      },
      "source": [
        "import timeit\n",
        "\n",
        "start=timeit.default_timer()\n",
        "\n",
        "reg.fit(x_train,y_train)\n",
        "\n",
        "stop=timeit.default_timer()\n",
        "execution_time = (stop - start)/60\n",
        "print(\"Program Executed in minutes \"+str(execution_time))"
      ],
      "execution_count": null,
      "outputs": [
        {
          "output_type": "stream",
          "text": [
            "Program Executed in minutes 0.03130168413333365\n"
          ],
          "name": "stdout"
        }
      ]
    },
    {
      "cell_type": "code",
      "metadata": {
        "id": "EKiXQdjAZEtF"
      },
      "source": [
        "y_pred=reg.predict(x_test)"
      ],
      "execution_count": null,
      "outputs": []
    },
    {
      "cell_type": "code",
      "metadata": {
        "colab": {
          "base_uri": "https://localhost:8080/"
        },
        "id": "eBTH3q6bZMWn",
        "outputId": "40ca9b25-09cc-47ef-c414-d9d053327724"
      },
      "source": [
        "from sklearn import metrics\n",
        "r_square = metrics.r2_score(y_test, y_pred)         # (R2)\n",
        "print('R-Square Error:', r_square)"
      ],
      "execution_count": null,
      "outputs": [
        {
          "output_type": "stream",
          "text": [
            "R-Square Error: 0.5383667639900456\n"
          ],
          "name": "stdout"
        }
      ]
    },
    {
      "cell_type": "code",
      "metadata": {
        "id": "toDjQFb6ZcED"
      },
      "source": [
        "data = {\"TEST\":y_test,\n",
        "        'Pred':y_pred}\n",
        "  \n",
        "# Create DataFrame\n",
        "df1 = pd.DataFrame(data)"
      ],
      "execution_count": null,
      "outputs": []
    },
    {
      "cell_type": "code",
      "metadata": {
        "colab": {
          "base_uri": "https://localhost:8080/",
          "height": 417
        },
        "id": "sAu10hU7ahdh",
        "outputId": "2d951f56-9650-4553-87ef-8edab49bea56"
      },
      "source": [
        "df1"
      ],
      "execution_count": null,
      "outputs": [
        {
          "output_type": "execute_result",
          "data": {
            "text/html": [
              "<div>\n",
              "<style scoped>\n",
              "    .dataframe tbody tr th:only-of-type {\n",
              "        vertical-align: middle;\n",
              "    }\n",
              "\n",
              "    .dataframe tbody tr th {\n",
              "        vertical-align: top;\n",
              "    }\n",
              "\n",
              "    .dataframe thead th {\n",
              "        text-align: right;\n",
              "    }\n",
              "</style>\n",
              "<table border=\"1\" class=\"dataframe\">\n",
              "  <thead>\n",
              "    <tr style=\"text-align: right;\">\n",
              "      <th></th>\n",
              "      <th>TEST</th>\n",
              "      <th>Pred</th>\n",
              "    </tr>\n",
              "  </thead>\n",
              "  <tbody>\n",
              "    <tr>\n",
              "      <th>578682</th>\n",
              "      <td>0.318115</td>\n",
              "      <td>0.344109</td>\n",
              "    </tr>\n",
              "    <tr>\n",
              "      <th>1346350</th>\n",
              "      <td>0.500026</td>\n",
              "      <td>0.298714</td>\n",
              "    </tr>\n",
              "    <tr>\n",
              "      <th>1597638</th>\n",
              "      <td>2.506600</td>\n",
              "      <td>1.587327</td>\n",
              "    </tr>\n",
              "    <tr>\n",
              "      <th>922651</th>\n",
              "      <td>0.462552</td>\n",
              "      <td>0.420377</td>\n",
              "    </tr>\n",
              "    <tr>\n",
              "      <th>1431960</th>\n",
              "      <td>1.882312</td>\n",
              "      <td>1.570744</td>\n",
              "    </tr>\n",
              "    <tr>\n",
              "      <th>...</th>\n",
              "      <td>...</td>\n",
              "      <td>...</td>\n",
              "    </tr>\n",
              "    <tr>\n",
              "      <th>60053</th>\n",
              "      <td>0.110718</td>\n",
              "      <td>0.212950</td>\n",
              "    </tr>\n",
              "    <tr>\n",
              "      <th>2375811</th>\n",
              "      <td>0.124110</td>\n",
              "      <td>0.178270</td>\n",
              "    </tr>\n",
              "    <tr>\n",
              "      <th>342646</th>\n",
              "      <td>0.231871</td>\n",
              "      <td>0.070177</td>\n",
              "    </tr>\n",
              "    <tr>\n",
              "      <th>370321</th>\n",
              "      <td>0.628907</td>\n",
              "      <td>0.560184</td>\n",
              "    </tr>\n",
              "    <tr>\n",
              "      <th>1134061</th>\n",
              "      <td>0.310388</td>\n",
              "      <td>0.243172</td>\n",
              "    </tr>\n",
              "  </tbody>\n",
              "</table>\n",
              "<p>488380 rows × 2 columns</p>\n",
              "</div>"
            ],
            "text/plain": [
              "             TEST      Pred\n",
              "578682   0.318115  0.344109\n",
              "1346350  0.500026  0.298714\n",
              "1597638  2.506600  1.587327\n",
              "922651   0.462552  0.420377\n",
              "1431960  1.882312  1.570744\n",
              "...           ...       ...\n",
              "60053    0.110718  0.212950\n",
              "2375811  0.124110  0.178270\n",
              "342646   0.231871  0.070177\n",
              "370321   0.628907  0.560184\n",
              "1134061  0.310388  0.243172\n",
              "\n",
              "[488380 rows x 2 columns]"
            ]
          },
          "metadata": {
            "tags": []
          },
          "execution_count": 51
        }
      ]
    },
    {
      "cell_type": "code",
      "metadata": {
        "colab": {
          "base_uri": "https://localhost:8080/"
        },
        "id": "HulPbtm2YBUr",
        "outputId": "d6386278-8477-4c94-a8cb-99b494e35f85"
      },
      "source": [
        "pip install pyspark"
      ],
      "execution_count": null,
      "outputs": [
        {
          "output_type": "stream",
          "text": [
            "Collecting pyspark\n",
            "\u001b[?25l  Downloading https://files.pythonhosted.org/packages/89/db/e18cfd78e408de957821ec5ca56de1250645b05f8523d169803d8df35a64/pyspark-3.1.2.tar.gz (212.4MB)\n",
            "\u001b[K     |████████████████████████████████| 212.4MB 57kB/s \n",
            "\u001b[?25hCollecting py4j==0.10.9\n",
            "\u001b[?25l  Downloading https://files.pythonhosted.org/packages/9e/b6/6a4fb90cd235dc8e265a6a2067f2a2c99f0d91787f06aca4bcf7c23f3f80/py4j-0.10.9-py2.py3-none-any.whl (198kB)\n",
            "\u001b[K     |████████████████████████████████| 204kB 42.8MB/s \n",
            "\u001b[?25hBuilding wheels for collected packages: pyspark\n",
            "  Building wheel for pyspark (setup.py) ... \u001b[?25l\u001b[?25hdone\n",
            "  Created wheel for pyspark: filename=pyspark-3.1.2-py2.py3-none-any.whl size=212880768 sha256=b2493186013fe2ee6e6160a7de69bf23407d380df15acc067015e7a8448fe600\n",
            "  Stored in directory: /root/.cache/pip/wheels/40/1b/2c/30f43be2627857ab80062bef1527c0128f7b4070b6b2d02139\n",
            "Successfully built pyspark\n",
            "Installing collected packages: py4j, pyspark\n",
            "Successfully installed py4j-0.10.9 pyspark-3.1.2\n"
          ],
          "name": "stdout"
        }
      ]
    },
    {
      "cell_type": "code",
      "metadata": {
        "id": "d7D9g16_YRB9"
      },
      "source": [
        "from pyspark.sql import SparkSession\n",
        "spark= SparkSession.builder.appName('Customers').getOrCreate()"
      ],
      "execution_count": null,
      "outputs": []
    },
    {
      "cell_type": "code",
      "metadata": {
        "id": "TYixQS9DXtNT"
      },
      "source": [
        "from pyspark.ml.evaluation import RegressionEvaluator\n",
        "evaluation = RegressionEvaluator(labelCol=\"redshift\", predictionCol=\"prediction\")"
      ],
      "execution_count": null,
      "outputs": []
    },
    {
      "cell_type": "code",
      "metadata": {
        "colab": {
          "base_uri": "https://localhost:8080/"
        },
        "id": "OyZ2Svd_YZsY",
        "outputId": "2eb938e1-706e-400e-d86c-1f59e8e44188"
      },
      "source": [
        "from sklearn import metrics \n",
        "\n",
        "print(metrics.mean_absolute_error(y_test,y_pred))  # (MAE)\n",
        "\n",
        "#print('Mean Absolute Error:', metrics.mean_absolute_error(Y_test, Y_pred))\n"
      ],
      "execution_count": null,
      "outputs": [
        {
          "output_type": "stream",
          "text": [
            "0.2950735939033935\n"
          ],
          "name": "stdout"
        }
      ]
    },
    {
      "cell_type": "code",
      "metadata": {
        "colab": {
          "base_uri": "https://localhost:8080/"
        },
        "id": "fvHftZjWluMB",
        "outputId": "4a40c802-44bc-4f22-eacc-f81806b0e629"
      },
      "source": [
        "from sklearn import metrics \n",
        "\n",
        "print(metrics.mean_squared_error(y_test,y_pred))  # (MSE)"
      ],
      "execution_count": null,
      "outputs": [
        {
          "output_type": "stream",
          "text": [
            "0.24579757127252855\n"
          ],
          "name": "stdout"
        }
      ]
    },
    {
      "cell_type": "code",
      "metadata": {
        "colab": {
          "base_uri": "https://localhost:8080/"
        },
        "id": "6zjRI4dqZD-N",
        "outputId": "9ddf810f-5b28-4a63-e405-49ed151a93b6"
      },
      "source": [
        "from sklearn import metrics\n",
        "\n",
        "print(np.sqrt(metrics.mean_squared_error(y_test,y_pred)))   # (RMSE)"
      ],
      "execution_count": null,
      "outputs": [
        {
          "output_type": "stream",
          "text": [
            "0.49577976085407977\n"
          ],
          "name": "stdout"
        }
      ]
    },
    {
      "cell_type": "code",
      "metadata": {
        "id": "bxu2OzS3alXf",
        "colab": {
          "base_uri": "https://localhost:8080/",
          "height": 312
        },
        "outputId": "634d6790-9d9c-4c6d-f72f-63e075f2cf9a"
      },
      "source": [
        "fig = plt.figure()\n",
        "ax1 = fig.add_subplot(111)\n",
        "plt.title(\"Linear regression\")\n",
        "plt.scatter(y_test[:30000], y_pred[:30000], s=0.34, color=\"purple\")\n",
        "ax1.set_xlabel(\"Test redshift\")\n",
        "ax1.set_ylabel(\"Predicted redshift\")\n",
        "ax1.plot([0,4], [0,4], '-r',color=\"black\")\n",
        "ax1.set_xlim(0, 1)\n",
        "ax1.set_ylim(0, 1)"
      ],
      "execution_count": null,
      "outputs": [
        {
          "output_type": "execute_result",
          "data": {
            "text/plain": [
              "(0.0, 1.0)"
            ]
          },
          "metadata": {
            "tags": []
          },
          "execution_count": 57
        },
        {
          "output_type": "display_data",
          "data": {
            "image/png": "[encoded data removed]",
            "text/plain": [
              "<Figure size 432x288 with 1 Axes>"
            ]
          },
          "metadata": {
            "tags": [],
            "needs_background": "light"
          }
        }
      ]
    }
  ]
}